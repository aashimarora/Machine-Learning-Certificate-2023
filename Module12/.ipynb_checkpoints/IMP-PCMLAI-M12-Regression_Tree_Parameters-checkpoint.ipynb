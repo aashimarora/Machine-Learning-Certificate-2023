{
 "cells": [
  {
   "cell_type": "code",
   "execution_count": 1,
   "metadata": {},
   "outputs": [
    {
     "name": "stdout",
     "output_type": "stream",
     "text": [
      "1.0.2\n"
     ]
    }
   ],
   "source": [
    "import numpy as np\n",
    "import pandas as pd\n",
    "import matplotlib.pyplot as plt\n",
    "from sklearn.tree import DecisionTreeRegressor\n",
    "import sklearn"
   ]
  },
  {
   "cell_type": "markdown",
   "metadata": {},
   "source": [
    "For this notebook to work, you need to have scikit-learn version 1.0 or above. Run the cell below to check the version you have installed. If it is less than 1.0, make sure you install the new version before continuing by going to the command line and using the command `conda install scikit-learn=1.0`"
   ]
  },
  {
   "cell_type": "code",
   "execution_count": 6,
   "metadata": {},
   "outputs": [
    {
     "name": "stdout",
     "output_type": "stream",
     "text": [
      "1.0.2\n"
     ]
    }
   ],
   "source": [
    "print(sklearn.__version__)"
   ]
  },
  {
   "cell_type": "markdown",
   "metadata": {},
   "source": [
    "# Regression Tree Parameters\n",
    "\n",
    "In this notebook you will explore how model parameters can affect the quality of prediction. "
   ]
  },
  {
   "cell_type": "markdown",
   "metadata": {},
   "source": [
    "First we create the dataset. "
   ]
  },
  {
   "cell_type": "code",
   "execution_count": 2,
   "metadata": {},
   "outputs": [],
   "source": [
    "np.random.seed(234) # do not change the random seed\n",
    "\n",
    "x = np.random.uniform(0, 10, (10, 1))\n",
    "\n",
    "def true_function(x):\n",
    "    return -(1.4 - 3.0 * x) * np.sin(x)\n",
    "\n",
    "y = true_function(x)"
   ]
  },
  {
   "cell_type": "markdown",
   "metadata": {},
   "source": [
    "**To Do** vary the hyperparameters of the regression trees below to create the best and worst regression trees you can. Upload your image in insendi. Which parameters matter the most? Which ones matter the least? \n",
    "\n",
    "Use the `help(DecisionTreeRegressor)` function to see what the options for the hyperparameter values are. "
   ]
  },
  {
   "cell_type": "code",
   "execution_count": 3,
   "metadata": {},
   "outputs": [],
   "source": [
    "x_test = np.linspace(0, 10, 100).reshape(100, 1)"
   ]
  },
  {
   "cell_type": "code",
   "execution_count": 4,
   "metadata": {},
   "outputs": [
    {
     "name": "stdout",
     "output_type": "stream",
     "text": [
      "squared_error\n"
     ]
    }
   ],
   "source": [
    "equires scikit-learn==0.24.1=py38ha9443f7_0clf_worst = DecisionTreeRegressor(criterion=\"squared_error\",\n",
    "                            splitter='random', \n",
    "                            max_depth=3, \n",
    "                            min_samples_split=2,\n",
    "                            min_samples_leaf=3, \n",
    "                            min_weight_fraction_leaf=0.2, \n",
    "                            max_features=1, \n",
    "                            max_leaf_nodes=2,\n",
    "                            min_impurity_decrease=1.0)\n",
    "\n",
    "print(clf_worst.criterion)\n",
    "\n",
    "clf_worst.fit(x, y)\n",
    "\n",
    "clf_best = DecisionTreeRegressor(criterion='absolute_error',\n",
    "                            splitter='random', \n",
    "                            max_depth=3, \n",
    "                            min_samples_split=2,\n",
    "                            min_samples_leaf=3, \n",
    "                            min_weight_fraction_leaf=0.2, \n",
    "                            max_features=1, \n",
    "                            max_leaf_nodes=2,\n",
    "                            min_impurity_decrease=1.0)\n",
    "\n",
    "clf_best.fit(x, y)\n",
    "\n",
    "y_test_worst = clf_worst.predict(x_test)\n",
    "y_test_best = clf_best.predict(x_test)\n",
    "y_true = true_function(x_test)"
   ]
  },
  {
   "cell_type": "code",
   "execution_count": 5,
   "metadata": {},
   "outputs": [
    {
     "data": {
      "image/png": "[encoded data removed]",
      "text/plain": [
       "<Figure size 432x288 with 1 Axes>"
      ]
     },
     "metadata": {
      "needs_background": "light"
     },
     "output_type": "display_data"
    }
   ],
   "source": [
    "plt.figure()\n",
    "plt.scatter(x, y, s=20, edgecolor=\"black\", c=\"darkorange\", label=\"data\")\n",
    "plt.plot(x_test, y_test_worst,  linewidth=2, label='worst')\n",
    "plt.plot(x_test, y_test_best, linewidth=2, label='best')\n",
    "plt.plot(x_test, y_true, color='k', linestyle=\":\", alpha=0.7, label='true')\n",
    "plt.xlabel(\"data\")\n",
    "plt.ylabel(\"target\")\n",
    "plt.title(\"Decision Tree Regression\")\n",
    "plt.legend()\n",
    "plt.show()"
   ]
  },
  {
   "cell_type": "code",
   "execution_count": null,
   "metadata": {},
   "outputs": [],
   "source": []
  }
 ],
 "metadata": {
  "kernelspec": {
   "display_name": "Python 3",
   "language": "python",
   "name": "python3"
  },
  "language_info": {
   "codemirror_mode": {
    "name": "ipython",
    "version": 3
   },
   "file_extension": ".py",
   "mimetype": "text/x-python",
   "name": "python",
   "nbconvert_exporter": "python",
   "pygments_lexer": "ipython3",
   "version": "3.8.2"
  }
 },
 "nbformat": 4,
 "nbformat_minor": 5
}
