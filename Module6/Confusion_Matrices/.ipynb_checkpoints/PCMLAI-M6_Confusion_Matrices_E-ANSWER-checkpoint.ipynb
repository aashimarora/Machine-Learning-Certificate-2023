{
 "cells": [
  {
   "cell_type": "code",
   "execution_count": 1,
   "metadata": {},
   "outputs": [],
   "source": [
    "import numpy as np\n",
    "from sklearn.preprocessing import PolynomialFeatures\n",
    "from sklearn.linear_model import LinearRegression\n",
    "from sklearn.pipeline import Pipeline\n",
    "import pathlib as pl\n",
    "import os \n",
    "import pandas as pd\n",
    "import seaborn as sn\n",
    "import matplotlib.pyplot as plt"
   ]
  },
  {
   "cell_type": "markdown",
   "metadata": {},
   "source": [
    "# Breast Cancer Screening Classification \n",
    "\n",
    "The dataset you will be working with comes from The Breast Cancer Surveillance Consortium, an American organisation that does research into Breast Cancer. To download a fresh copy of the dataset, go to https://www.bcsc-research.org/data/rfdataset, and for information on each of variables in the dataset, see https://www.bcsc-research.org/data/mammography_dataset/dataset_documentation.\n",
    "\n",
    "In this notebook you will be looking at the effectiveness of mammogram breast cancer screening for women aged 60-83. For more information on breast cancer screening see https://www.cancerresearchuk.org/about-cancer/breast-cancer/getting-diagnosed/screening/breast-screening\n",
    "\n",
    "In this notebook you will create confusion matrices and calculate the specificity and sensitivity of both the whole data and each age group within the datasets. "
   ]
  },
  {
   "cell_type": "markdown",
   "metadata": {},
   "source": [
    "### First load the dataset"
   ]
  },
  {
   "cell_type": "code",
   "execution_count": 2,
   "metadata": {},
   "outputs": [
    {
     "data": {
      "text/html": [
       "<div>\n",
       "<style scoped>\n",
       "    .dataframe tbody tr th:only-of-type {\n",
       "        vertical-align: middle;\n",
       "    }\n",
       "\n",
       "    .dataframe tbody tr th {\n",
       "        vertical-align: top;\n",
       "    }\n",
       "\n",
       "    .dataframe thead th {\n",
       "        text-align: right;\n",
       "    }\n",
       "</style>\n",
       "<table border=\"1\" class=\"dataframe\">\n",
       "  <thead>\n",
       "    <tr style=\"text-align: right;\">\n",
       "      <th></th>\n",
       "      <th>age_c</th>\n",
       "      <th>assess_c</th>\n",
       "      <th>cancer_c</th>\n",
       "      <th>compfilm_c</th>\n",
       "      <th>density_c</th>\n",
       "      <th>famhx_c</th>\n",
       "      <th>hrt_c</th>\n",
       "      <th>prvmam_c</th>\n",
       "      <th>biophx_c</th>\n",
       "      <th>mammtype</th>\n",
       "      <th>CaTypeO</th>\n",
       "      <th>bmi_c</th>\n",
       "      <th>ptid</th>\n",
       "    </tr>\n",
       "  </thead>\n",
       "  <tbody>\n",
       "    <tr>\n",
       "      <th>0</th>\n",
       "      <td>62</td>\n",
       "      <td>1</td>\n",
       "      <td>0</td>\n",
       "      <td>1</td>\n",
       "      <td>2</td>\n",
       "      <td>0</td>\n",
       "      <td>0</td>\n",
       "      <td>1</td>\n",
       "      <td>0</td>\n",
       "      <td>1</td>\n",
       "      <td>8</td>\n",
       "      <td>24.023544</td>\n",
       "      <td>1</td>\n",
       "    </tr>\n",
       "    <tr>\n",
       "      <th>1</th>\n",
       "      <td>65</td>\n",
       "      <td>1</td>\n",
       "      <td>0</td>\n",
       "      <td>1</td>\n",
       "      <td>4</td>\n",
       "      <td>0</td>\n",
       "      <td>0</td>\n",
       "      <td>1</td>\n",
       "      <td>0</td>\n",
       "      <td>1</td>\n",
       "      <td>8</td>\n",
       "      <td>-99.000000</td>\n",
       "      <td>2</td>\n",
       "    </tr>\n",
       "    <tr>\n",
       "      <th>2</th>\n",
       "      <td>69</td>\n",
       "      <td>0</td>\n",
       "      <td>0</td>\n",
       "      <td>1</td>\n",
       "      <td>2</td>\n",
       "      <td>0</td>\n",
       "      <td>0</td>\n",
       "      <td>1</td>\n",
       "      <td>0</td>\n",
       "      <td>1</td>\n",
       "      <td>8</td>\n",
       "      <td>29.052429</td>\n",
       "      <td>3</td>\n",
       "    </tr>\n",
       "    <tr>\n",
       "      <th>3</th>\n",
       "      <td>64</td>\n",
       "      <td>2</td>\n",
       "      <td>0</td>\n",
       "      <td>1</td>\n",
       "      <td>2</td>\n",
       "      <td>0</td>\n",
       "      <td>0</td>\n",
       "      <td>1</td>\n",
       "      <td>0</td>\n",
       "      <td>1</td>\n",
       "      <td>8</td>\n",
       "      <td>-99.000000</td>\n",
       "      <td>4</td>\n",
       "    </tr>\n",
       "    <tr>\n",
       "      <th>4</th>\n",
       "      <td>63</td>\n",
       "      <td>3</td>\n",
       "      <td>0</td>\n",
       "      <td>1</td>\n",
       "      <td>2</td>\n",
       "      <td>0</td>\n",
       "      <td>0</td>\n",
       "      <td>1</td>\n",
       "      <td>1</td>\n",
       "      <td>1</td>\n",
       "      <td>8</td>\n",
       "      <td>33.729523</td>\n",
       "      <td>5</td>\n",
       "    </tr>\n",
       "  </tbody>\n",
       "</table>\n",
       "</div>"
      ],
      "text/plain": [
       "   age_c  assess_c  cancer_c  compfilm_c  density_c  famhx_c  hrt_c  prvmam_c  \\\n",
       "0     62         1         0           1          2        0      0         1   \n",
       "1     65         1         0           1          4        0      0         1   \n",
       "2     69         0         0           1          2        0      0         1   \n",
       "3     64         2         0           1          2        0      0         1   \n",
       "4     63         3         0           1          2        0      0         1   \n",
       "\n",
       "   biophx_c  mammtype  CaTypeO      bmi_c  ptid  \n",
       "0         0         1        8  24.023544     1  \n",
       "1         0         1        8 -99.000000     2  \n",
       "2         0         1        8  29.052429     3  \n",
       "3         0         1        8 -99.000000     4  \n",
       "4         1         1        8  33.729523     5  "
      ]
     },
     "execution_count": 2,
     "metadata": {},
     "output_type": "execute_result"
    }
   ],
   "source": [
    "path_csv = pl.Path(os.getcwd()) / f'm6-dataset.csv'\n",
    "with open(path_csv, 'rb') as file:\n",
    "    data = pd.read_csv(file)\n",
    "\n",
    "data.head()"
   ]
  },
  {
   "cell_type": "markdown",
   "metadata": {},
   "source": [
    "## Section 1: Confusion Matrix \n",
    "\n",
    "### TODO: Write code to create a confusion matrix for the dataset\n",
    "\n",
    "For this dataset, we are comparing the radiologist's assessment to the true cancer state of the patient. \n",
    "\n",
    "Values of  1, 2 or 3 in the assess_c column are counted as being predictions of no cancer, while predictions of 0, 4 or 5 are counted as being predictions of cancer. \n",
    "\n",
    "Use the 'cancer_c' column as the true indicator of if the patient has cancer, with 0 indicating no cancer and 1 indicating cancer. \n",
    "\n",
    "Use these values to calculate the number of true positives, false negatives, true negatives and false positives and plot a confusion matrix. \n",
    "\n",
    "HINT: you can use seaborn heatmaps to plot your confusion matrix. If you convert your confusion matrix into a dataframe first with correctly labelled columns and indexes, you can get the correct labels on your heatmap. "
   ]
  },
  {
   "cell_type": "code",
   "execution_count": 18,
   "metadata": {},
   "outputs": [],
   "source": [
    "# type your answer here\n",
    "def calculate_confusion_matrix(data):\n",
    "    Y_actual = np.array(data['cancer_c'])\n",
    "    Y_pred = np.array(data['assess_c'])\n",
    "    Y_pred = np.where(((Y_pred == 1) | (Y_pred == 2) | (Y_pred == 3)), 0, 1)\n",
    "    TP= np.sum((Y_actual == 1) & (Y_pred == 1))\n",
    "    FP= np.sum((Y_actual == 0) & (Y_pred == 1))\n",
    "    TN= np.sum((Y_actual == 0) & (Y_pred == 0))\n",
    "    FN= np.sum((Y_actual == 1) & (Y_pred == 0))\n",
    "\n",
    "    matrix = [[TP, FN], [FP, TN]]\n",
    "    labels = ['Yes', 'No']\n",
    "    confusion_matrix = pd.DataFrame(matrix, columns=labels, index=labels)\n",
    "    return confusion_matrix\n",
    "\n",
    "def plot_confusion_matrix(confusion_matrix):\n",
    "    plt.figure(figsize=(3, 3))  # Optional: Adjust the figure size\n",
    "    sn.heatmap(confusion_matrix, annot=True, fmt='d', cmap='Blues', cbar=False)\n",
    "    # Add labels and title\n",
    "    plt.xlabel('Predicted Labels')\n",
    "    plt.ylabel('True Labels')\n",
    "    plt.title('Confusion Matrix')\n",
    "    plt.show()"
   ]
  },
  {
   "cell_type": "markdown",
   "metadata": {},
   "source": [
    "## Section 2: Calculate the Sensitivity and Specificity \n",
    "\n",
    "### TODO: Write a function to calculate the sensitivity and specificity of the breast cancer screening \n",
    "\n",
    "Calculate the sensitivity and specificity of the breast cancer screening and answer the first questions that go alongside this notebook. "
   ]
  },
  {
   "cell_type": "code",
   "execution_count": 23,
   "metadata": {},
   "outputs": [
    {
     "name": "stdout",
     "output_type": "stream",
     "text": [
      "Data for all ages Sensitivity: 0.873, Specificity: 0.927\n"
     ]
    },
    {
     "data": {
      "image/png": "[encoded data removed]",
      "text/plain": [
       "<Figure size 216x216 with 1 Axes>"
      ]
     },
     "metadata": {
      "needs_background": "light"
     },
     "output_type": "display_data"
    }
   ],
   "source": [
    "# type your answer here\n",
    "def round_value(func):\n",
    "    def wrapper(*args, **kwargs):\n",
    "        result = func(*args, **kwargs)\n",
    "        return round(result, 3)\n",
    "    return wrapper\n",
    "\n",
    "confusion_matrix = calculate_confusion_matrix(data)\n",
    "#Sensitivity\n",
    "@round_value\n",
    "def sensitivity(confusion_matrix):\n",
    "    return confusion_matrix.loc['Yes','Yes']/(confusion_matrix.loc['Yes','Yes'] + confusion_matrix.loc['Yes','No'])\n",
    "\n",
    "#Specificity\n",
    "@round_value\n",
    "def specificity(confusion_matrix):\n",
    "    return confusion_matrix.loc['No','No']/(confusion_matrix.loc['No','Yes'] + confusion_matrix.loc['No','No'])\n",
    "\n",
    "def print_ss_metrics(confusion_matrix):\n",
    "     return f'Sensitivity: {sensitivity(confusion_matrix)}, Specificity: {specificity(confusion_matrix)}'\n",
    "\n",
    "print('Data for all ages', print_ss_metrics(confusion_matrix))\n",
    "plot_confusion_matrix(confusion_matrix)"
   ]
  },
  {
   "cell_type": "markdown",
   "metadata": {},
   "source": [
    "## Section 3: Comparing the different Age Groups\n",
    "\n",
    "### TODO: For each age group ( 60-69, 70-79 and 80-89) plot a confusion matrix and calculate the specificty and sensitivity "
   ]
  },
  {
   "cell_type": "code",
   "execution_count": 24,
   "metadata": {
    "scrolled": true
   },
   "outputs": [
    {
     "name": "stdout",
     "output_type": "stream",
     "text": [
      "Age group 60-69 Sensitivity: 0.869, Specificity: 0.923\n"
     ]
    },
    {
     "data": {
      "image/png": "[encoded data removed]",
      "text/plain": [
       "<Figure size 216x216 with 1 Axes>"
      ]
     },
     "metadata": {
      "needs_background": "light"
     },
     "output_type": "display_data"
    }
   ],
   "source": [
    "# type your answer here\n",
    "#age-group 60-69\n",
    "data_60_69 = data[(data['age_c'] >= 60) & (data['age_c'] <= 69)]\n",
    "conf_matrix_60_69 = calculate_confusion_matrix(data_60_69)\n",
    "print('Age group 60-69', print_ss_metrics(conf_matrix_60_69))\n",
    "plot_confusion_matrix(conf_matrix_60_69)\n"
   ]
  },
  {
   "cell_type": "code",
   "execution_count": 25,
   "metadata": {},
   "outputs": [
    {
     "name": "stdout",
     "output_type": "stream",
     "text": [
      "Age group 70-79 Sensitivity: 0.874, Specificity: 0.934\n"
     ]
    },
    {
     "data": {
      "image/png": "[encoded data removed]",
      "text/plain": [
       "<Figure size 216x216 with 1 Axes>"
      ]
     },
     "metadata": {
      "needs_background": "light"
     },
     "output_type": "display_data"
    }
   ],
   "source": [
    "#age-group 70-79\n",
    "data_70_79 = data[(data['age_c'] >= 70) & (data['age_c'] <= 79)]\n",
    "conf_matrix_70_79 = calculate_confusion_matrix(data_70_79)\n",
    "print('Age group 70-79', print_ss_metrics(conf_matrix_70_79))\n",
    "plot_confusion_matrix(conf_matrix_70_79)\n"
   ]
  },
  {
   "cell_type": "code",
   "execution_count": 26,
   "metadata": {},
   "outputs": [
    {
     "name": "stdout",
     "output_type": "stream",
     "text": [
      "Age group 80-89 Sensitivity: 0.886, Specificity: 0.93\n"
     ]
    },
    {
     "data": {
      "image/png": "[encoded data removed]",
      "text/plain": [
       "<Figure size 216x216 with 1 Axes>"
      ]
     },
     "metadata": {
      "needs_background": "light"
     },
     "output_type": "display_data"
    }
   ],
   "source": [
    "\n",
    "#age-group 80-89\n",
    "data_80_89 = data[(data['age_c'] >= 80) & (data['age_c'] <= 89)]\n",
    "conf_matrix_80_89 = calculate_confusion_matrix(data_80_89)\n",
    "print('Age group 80-89', print_ss_metrics(conf_matrix_80_89))\n",
    "plot_confusion_matrix(conf_matrix_80_89)\n",
    "\n"
   ]
  }
 ],
 "metadata": {
  "kernelspec": {
   "display_name": "Python 3",
   "language": "python",
   "name": "python3"
  },
  "language_info": {
   "codemirror_mode": {
    "name": "ipython",
    "version": 3
   },
   "file_extension": ".py",
   "mimetype": "text/x-python",
   "name": "python",
   "nbconvert_exporter": "python",
   "pygments_lexer": "ipython3",
   "version": "3.8.2"
  }
 },
 "nbformat": 4,
 "nbformat_minor": 5
}
