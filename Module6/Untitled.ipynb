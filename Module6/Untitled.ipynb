{
 "cells": [
  {
   "cell_type": "code",
   "execution_count": 16,
   "metadata": {},
   "outputs": [
    {
     "name": "stdout",
     "output_type": "stream",
     "text": [
      "   𝑖    Y   f1   f2\n",
      "0  1  2.7  3.2  2.5\n",
      "1  2  4.2  3.8  4.0\n",
      "2  3  3.5  3.7  3.4\n",
      "3  4  7.2  6.8  6.9\n",
      "4  5  1.8  2.2  1.6\n"
     ]
    }
   ],
   "source": [
    "import pandas as pd\n",
    "import numpy as np\n",
    "data = {\n",
    "    '𝑖': [1, 2, 3, 4, 5],\n",
    "    'Y': [2.7, 4.2, 3.5, 7.2, 1.8],\n",
    "    'f1': [3.2, 3.8, 3.7, 6.8, 2.2],\n",
    "    'f2': [2.5, 4.0, 3.4, 6.9, 1.6]\n",
    "}\n",
    "\n",
    "df = pd.DataFrame(data)\n",
    "\n",
    "print(df)"
   ]
  },
  {
   "cell_type": "code",
   "execution_count": 17,
   "metadata": {},
   "outputs": [
    {
     "data": {
      "text/plain": [
       "3.94"
      ]
     },
     "execution_count": 17,
     "metadata": {},
     "output_type": "execute_result"
    }
   ],
   "source": [
    "df.loc[:,'f1'].mean()"
   ]
  },
  {
   "cell_type": "code",
   "execution_count": 18,
   "metadata": {},
   "outputs": [
    {
     "data": {
      "text/plain": [
       "(0.3800000000000002, 0.20000000000000004)"
      ]
     },
     "execution_count": 18,
     "metadata": {},
     "output_type": "execute_result"
    }
   ],
   "source": [
    "MAE_f1 = abs(df.loc[:,'f1'] - df.loc[:,'Y']).mean()\n",
    "MAE_f2 = abs(df.loc[:,'f2'] - df.loc[:,'Y']).mean()\n",
    "MAE_f1, MAE_f2"
   ]
  },
  {
   "cell_type": "code",
   "execution_count": 21,
   "metadata": {},
   "outputs": [
    {
     "data": {
      "text/plain": [
       "(-0.05999999999999992, 0.20000000000000004)"
      ]
     },
     "execution_count": 21,
     "metadata": {},
     "output_type": "execute_result"
    }
   ],
   "source": [
    "MAE_f1 = ( df.loc[:,'Y'] - df.loc[:,'f1']).mean()\n",
    "MAE_f2 = (df.loc[:,'Y'] - df.loc[:,'f2']).mean()\n",
    "MAE_f1, MAE_f2"
   ]
  },
  {
   "cell_type": "code",
   "execution_count": 20,
   "metadata": {},
   "outputs": [
    {
     "data": {
      "text/plain": [
       "(0.39242833740697186, 0.20976176963403032)"
      ]
     },
     "execution_count": 20,
     "metadata": {},
     "output_type": "execute_result"
    }
   ],
   "source": [
    "MAE_f1 = np.sqrt(((df.loc[:,'f1'] - df.loc[:,'Y'])**2).mean())\n",
    "MAE_f2 = np.sqrt(((df.loc[:,'f2'] - df.loc[:,'Y'])**2).mean())\n",
    "MAE_f1, MAE_f2"
   ]
  },
  {
   "cell_type": "code",
   "execution_count": null,
   "metadata": {},
   "outputs": [],
   "source": []
  }
 ],
 "metadata": {
  "kernelspec": {
   "display_name": "Python 3",
   "language": "python",
   "name": "python3"
  },
  "language_info": {
   "codemirror_mode": {
    "name": "ipython",
    "version": 3
   },
   "file_extension": ".py",
   "mimetype": "text/x-python",
   "name": "python",
   "nbconvert_exporter": "python",
   "pygments_lexer": "ipython3",
   "version": "3.8.2"
  }
 },
 "nbformat": 4,
 "nbformat_minor": 4
}
