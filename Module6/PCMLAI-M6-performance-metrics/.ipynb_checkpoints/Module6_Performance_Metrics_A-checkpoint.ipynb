{
 "cells": [
  {
   "cell_type": "code",
   "execution_count": 3,
   "metadata": {},
   "outputs": [],
   "source": [
    "import numpy as np\n",
    "from sklearn.preprocessing import PolynomialFeatures\n",
    "from sklearn.linear_model import LinearRegression\n",
    "from sklearn.pipeline import Pipeline\n",
    "import pathlib as pl\n",
    "import os \n",
    "import pandas as pd"
   ]
  },
  {
   "cell_type": "markdown",
   "metadata": {},
   "source": [
    "# Metrics for Model Selection\n",
    "\n",
    "In this notebook you will fit polynomials to data to decide which order of polynomial is the best fit. Unlike before, the data you will be using is 3 dimensional, meaning it isn't possible to plot. Instead, you will write functions to calculate various metrics that are used to determine model fit. \n",
    "\n",
    "Complete this notebook, then answer the questions that go along side it. "
   ]
  },
  {
   "cell_type": "code",
   "execution_count": 4,
   "metadata": {},
   "outputs": [],
   "source": [
    "# set random seed for reproducibility\n",
    "seed = 2022\n",
    "np.random.seed(seed)"
   ]
  },
  {
   "cell_type": "markdown",
   "metadata": {},
   "source": [
    "## Load the data "
   ]
  },
  {
   "cell_type": "code",
   "execution_count": 5,
   "metadata": {},
   "outputs": [],
   "source": [
    "path_csv = pl.Path(os.getcwd()) / f'M6_Performance_Metrics_Data.csv'\n",
    "with open(path_csv, 'rb') as file:\n",
    "    data = pd.read_csv(file)\n"
   ]
  },
  {
   "cell_type": "code",
   "execution_count": 6,
   "metadata": {},
   "outputs": [
    {
     "name": "stdout",
     "output_type": "stream",
     "text": [
      "   Unnamed: 0        x1        x2        x3          y\n",
      "0           0  0.382303 -1.596593  1.233776   4.935364\n",
      "1           1  1.902436  1.579109 -0.341741  25.138660\n",
      "2           2 -1.689244  1.298489 -1.472081  -4.786340\n",
      "3           3 -1.510509  1.937616 -1.600244  -3.185759\n",
      "4           4  1.621717  0.515558 -1.869644  19.712731\n"
     ]
    }
   ],
   "source": [
    "print(data.head())\n"
   ]
  },
  {
   "cell_type": "markdown",
   "metadata": {},
   "source": [
    "## Section 1 : Split the data into training, validation and test sets\n",
    "\n",
    "### TO DO: write a function that splits the data into traning, validation and test sets.\n",
    "\n",
    "The function should take as inputs the dataframe and the percentage splits for each of training, validation and test. It should output 3 dataframes, one for each of the sets. "
   ]
  },
  {
   "cell_type": "code",
   "execution_count": 7,
   "metadata": {},
   "outputs": [],
   "source": [
    "##### ANSWER ######\n",
    "\n",
    "def split_dataframe(df, data_split):\n",
    "    \"\"\"function to divide a dataframe into training, validation and test dataframes\n",
    "    :param df: the full dataframe which is to be divided \n",
    "    :param data_split: a list containing the fraction of the full dataframe for each\n",
    "    of training, validation and test, in that order\n",
    "    :return training, validation, test: dataframes for each of the sets\"\"\"\n",
    "    \n",
    "    training = df.sample(frac=data_split[0])\n",
    "    validation = df.drop(training.index).sample(frac=data_split[1]*len(df)/len(df.drop(training.index)))\n",
    "    test = df.drop(validation.index).drop(training.index)\n",
    "    \n",
    "    return training, validation, test"
   ]
  },
  {
   "cell_type": "markdown",
   "metadata": {},
   "source": [
    "### TO DO: Use your function to split the data so the training set has 40% of the data and the validation and test sets have 30% of the data each"
   ]
  },
  {
   "cell_type": "code",
   "execution_count": 8,
   "metadata": {},
   "outputs": [
    {
     "name": "stdout",
     "output_type": "stream",
     "text": [
      "40\n",
      "30\n",
      "30\n"
     ]
    }
   ],
   "source": [
    "#### ANSWER ####\n",
    "\n",
    "training, validation, test = split_dataframe(data, [0.4, 0.3, 0.3])\n",
    "print(len(training))\n",
    "print(len(validation))\n",
    "print(len(test))\n"
   ]
  },
  {
   "cell_type": "markdown",
   "metadata": {},
   "source": [
    "## Section 2: Write Metrics Functions \n",
    "\n",
    "### TO DO: Write the functions that calcluate the metrics you will use to evaluate the model fits\n",
    "\n",
    "Write Functions that return:\n",
    "- The mean absolute error\n",
    "- The average error\n",
    "- The mean absolute percentage error \n",
    "- The root mean squared error \n",
    "- The total sum of squared errors "
   ]
  },
  {
   "cell_type": "code",
   "execution_count": 9,
   "metadata": {},
   "outputs": [],
   "source": [
    "#### ANSWERS ####\n",
    "\n",
    "def RMSE(predictions, test_y):\n",
    "    return np.sqrt(np.mean((predictions - test_y)**2))\n",
    "\n",
    "def mean_abs_error(predictions, test_y):\n",
    "    return np.mean(np.abs(predictions - test_y))\n",
    "\n",
    "def average_error(predictions, test_y):\n",
    "    return np.mean(predictions - test_y)\n",
    "\n",
    "def mean_abs_percent_error(predictions, test_y):\n",
    "    return np.mean(np.abs((predictions - test_y)/test_y)*100)\n",
    "\n",
    "def total_sum_squared_error(predictions, test_y):\n",
    "    return np.sum((predictions - test_y)**2)"
   ]
  },
  {
   "cell_type": "markdown",
   "metadata": {},
   "source": [
    "## Section 3: Fit models to training data and calculate performance metric on validation sets\n",
    "\n",
    "For polynomials of order 1, 2, 3, and 4, you will use fit_model to fit each each model. This function uses scikit-learn polynomial regression. \n",
    "\n",
    "\n",
    "### TODO: write function to convert dataframe into numpy arrays\n",
    "\n",
    "The scikit-learn functions take numpy arrays as their inputs. Therefore before you can fit any data you need to write a function to turn a dataframe with columns [x1, x2, x3, y] into two numpy arrays: X and y. X should have dimensions (N, D), where N is the number of data points and D is the dimensionality of the data (in this case 3). y should have dimensions (N, ). \n",
    "\n",
    "\n",
    "### TO DO: For polynomials of order 1 to 6 inclusive: \n",
    "1. Fit a polynomial to the training data using the fit_model function \n",
    "2. Use model.predict(X) to get the model predictions on the validation set\n",
    "3. Store the model in a dictionary of models where the keys indicate the order and the items are the models\n",
    "4. Store the predictions in a seperate dictionary where the keys indicate the order and the items are numpy arrays of the predictions \n"
   ]
  },
  {
   "cell_type": "code",
   "execution_count": 10,
   "metadata": {},
   "outputs": [],
   "source": [
    "def fit_model(X, y, order):\n",
    "    \"\"\"creates scikit-learn regression object and fits it to the X and y data\"\"\"\n",
    "    model = Pipeline([('poly', PolynomialFeatures(degree=order)),\n",
    "                      ('linear', LinearRegression(fit_intercept=False))])\n",
    "    model = model.fit(X, y)\n",
    "    return model "
   ]
  },
  {
   "cell_type": "code",
   "execution_count": 11,
   "metadata": {},
   "outputs": [],
   "source": [
    "### ANSWER ###\n",
    "\n",
    "def convert_to_numpy(df):\n",
    "    \n",
    "    X = df[['x1', 'x2', 'x3']].to_numpy()\n",
    "    y = df[['y']].to_numpy()\n",
    "    return X, y"
   ]
  },
  {
   "cell_type": "code",
   "execution_count": 12,
   "metadata": {},
   "outputs": [],
   "source": [
    "### ANSWER ###\n",
    "X_train, y_train = convert_to_numpy(training)\n",
    "X_valid, y_valid = convert_to_numpy(validation)\n",
    "\n",
    "results_df = pd.DataFrame(columns=['order', 'RMSE', 'mean_abs_error', 'average_error', 'mean_abs_percent_error', 'total_sum_squared_error'])\n",
    "\n",
    "models_dict = {}\n",
    "predictions_dict = {}\n",
    "\n",
    "for order in [1, 2, 3, 4, 5, 6]:\n",
    "    model = fit_model(X_train, y_train, order)\n",
    "    y_new = model.predict(X_valid)\n",
    "    models_dict[order] = model\n",
    "    predictions_dict[order] = y_new"
   ]
  },
  {
   "cell_type": "markdown",
   "metadata": {},
   "source": [
    "## Section 4: Calculate metrics for each of the models\n",
    "\n",
    "Now we want to calculate the metrics for each of the models. \n",
    "\n",
    "\n",
    "### TODO: Use the dictionary of predictions you have to caluclate and record (could be in a dataframe, or you could plot it on a graph) each of the metrics. \n",
    "1. Calculate each of the metrics for the model using the functions you wrote before\n",
    "2. Store the metrics in a dataframe, with one row for each model or plot on a graph\n",
    "3. Answer the questions that go alongside this notebook \n",
    "\n",
    "HINT: you can write a list of functions of the form:\n",
    "\n",
    "methods = [RMSE, average_error, mean_abs_percent_error, total_sum_squared_error]\n",
    "\n",
    "which you can then iterate over using a for loop. \n",
    "\n"
   ]
  },
  {
   "cell_type": "code",
   "execution_count": 64,
   "metadata": {},
   "outputs": [
    {
     "data": {
      "image/png": "[encoded data removed]",
      "text/plain": [
       "<Figure size 432x288 with 1 Axes>"
      ]
     },
     "metadata": {
      "needs_background": "light"
     },
     "output_type": "display_data"
    },
    {
     "data": {
      "image/png": "[encoded data removed]",
      "text/plain": [
       "<Figure size 432x288 with 1 Axes>"
      ]
     },
     "metadata": {
      "needs_background": "light"
     },
     "output_type": "display_data"
    },
    {
     "data": {
      "image/png": "[encoded data removed]",
      "text/plain": [
       "<Figure size 432x288 with 1 Axes>"
      ]
     },
     "metadata": {
      "needs_background": "light"
     },
     "output_type": "display_data"
    },
    {
     "data": {
      "image/png": "[encoded data removed]",
      "text/plain": [
       "<Figure size 432x288 with 1 Axes>"
      ]
     },
     "metadata": {
      "needs_background": "light"
     },
     "output_type": "display_data"
    }
   ],
   "source": [
    "#### ANSWER ####\n",
    "\n",
    "methods = [RMSE, average_error, mean_abs_percent_error, total_sum_squared_error]\n",
    "method_names = [\"RMSE\", \"average_error\", \"mean_abs_percent_error\", \"total_sum_squared_error\"]\n",
    "import matplotlib.pyplot as plt\n",
    "\n",
    "for i, method in enumerate(methods):\n",
    "    fig = plt.figure()\n",
    "    for order in [1, 2, 3, 4, 5, 6]:\n",
    "        res = method(predictions_dict[order], y_valid)\n",
    "        plt.scatter(order, res, marker='x', color='k')\n",
    "    plt.title(method_names[i])\n",
    "    plt.show()"
   ]
  },
  {
   "cell_type": "markdown",
   "metadata": {},
   "source": [
    "## Section 5: Use the test set to evaluate the performance of your chosen model\n",
    "\n",
    "### TODO: For your selected model, calculate the RMSE, Average Error and Mean Absolute Percentage Error of the test data"
   ]
  },
  {
   "cell_type": "code",
   "execution_count": 13,
   "metadata": {},
   "outputs": [
    {
     "name": "stdout",
     "output_type": "stream",
     "text": [
      "2.4473846308853777\n",
      "0.03915056049341306\n",
      "39.25300472618785\n"
     ]
    }
   ],
   "source": [
    "### ANSWER ####\n",
    "\n",
    "X_test, y_test = convert_to_numpy(test)\n",
    "\n",
    "y_new = models_dict[4].predict(X_test)\n",
    "\n",
    "print(RMSE(y_new, y_test))\n",
    "print(average_error(y_new, y_test))\n",
    "print(mean_abs_percent_error(y_new, y_test))"
   ]
  },
  {
   "cell_type": "code",
   "execution_count": null,
   "metadata": {},
   "outputs": [],
   "source": []
  }
 ],
 "metadata": {
  "kernelspec": {
   "display_name": "Python 3",
   "language": "python",
   "name": "python3"
  },
  "language_info": {
   "codemirror_mode": {
    "name": "ipython",
    "version": 3
   },
   "file_extension": ".py",
   "mimetype": "text/x-python",
   "name": "python",
   "nbconvert_exporter": "python",
   "pygments_lexer": "ipython3",
   "version": "3.8.2"
  }
 },
 "nbformat": 4,
 "nbformat_minor": 5
}
