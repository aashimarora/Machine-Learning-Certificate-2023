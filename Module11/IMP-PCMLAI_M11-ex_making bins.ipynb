{
 "cells": [
  {
   "cell_type": "code",
   "execution_count": 1,
   "metadata": {},
   "outputs": [],
   "source": [
    "import numpy as np\n",
    "import matplotlib.pyplot as plt\n",
    "import pandas as pd"
   ]
  },
  {
   "cell_type": "markdown",
   "metadata": {},
   "source": [
    "### Converting numerical values into categorical values."
   ]
  },
  {
   "cell_type": "markdown",
   "metadata": {},
   "source": [
    "#### Let us generate a thousand random normal points and plot the histogram"
   ]
  },
  {
   "cell_type": "code",
   "execution_count": 2,
   "metadata": {},
   "outputs": [],
   "source": [
    "np.random.seed(4)\n",
    "points = np.random.normal(0, 1, size=1000)"
   ]
  },
  {
   "cell_type": "code",
   "execution_count": 3,
   "metadata": {},
   "outputs": [
    {
     "data": {
      "image/png": "[encoded data removed]",
      "text/plain": [
       "<Figure size 432x288 with 1 Axes>"
      ]
     },
     "metadata": {
      "needs_background": "light"
     },
     "output_type": "display_data"
    }
   ],
   "source": [
    "plt.hist(points, edgecolor='black', linewidth=1.2, bins = 20);\n",
    "plt.xlabel(\"value\", fontsize=12);\n",
    "plt.ylabel(\"frequency\", fontsize=12);\n",
    "plt.title(\"histogram of numerical values\", fontsize=15);"
   ]
  },
  {
   "cell_type": "markdown",
   "metadata": {},
   "source": [
    "#### Now let us convert this variable into categories"
   ]
  },
  {
   "cell_type": "markdown",
   "metadata": {},
   "source": [
    "##### For method one, let us fix the range of categories with hand. Let us have intervals: $(-\\infty, -1], (-1, 0], (0,1], (1, \\infty)$"
   ]
  },
  {
   "cell_type": "code",
   "execution_count": 4,
   "metadata": {},
   "outputs": [
    {
     "data": {
      "text/html": [
       "<div>\n",
       "<style scoped>\n",
       "    .dataframe tbody tr th:only-of-type {\n",
       "        vertical-align: middle;\n",
       "    }\n",
       "\n",
       "    .dataframe tbody tr th {\n",
       "        vertical-align: top;\n",
       "    }\n",
       "\n",
       "    .dataframe thead th {\n",
       "        text-align: right;\n",
       "    }\n",
       "</style>\n",
       "<table border=\"1\" class=\"dataframe\">\n",
       "  <thead>\n",
       "    <tr style=\"text-align: right;\">\n",
       "      <th></th>\n",
       "      <th>points</th>\n",
       "    </tr>\n",
       "  </thead>\n",
       "  <tbody>\n",
       "    <tr>\n",
       "      <th>0</th>\n",
       "      <td>0.050562</td>\n",
       "    </tr>\n",
       "    <tr>\n",
       "      <th>1</th>\n",
       "      <td>0.499951</td>\n",
       "    </tr>\n",
       "    <tr>\n",
       "      <th>2</th>\n",
       "      <td>-0.995909</td>\n",
       "    </tr>\n",
       "    <tr>\n",
       "      <th>3</th>\n",
       "      <td>0.693599</td>\n",
       "    </tr>\n",
       "    <tr>\n",
       "      <th>4</th>\n",
       "      <td>-0.418302</td>\n",
       "    </tr>\n",
       "  </tbody>\n",
       "</table>\n",
       "</div>"
      ],
      "text/plain": [
       "     points\n",
       "0  0.050562\n",
       "1  0.499951\n",
       "2 -0.995909\n",
       "3  0.693599\n",
       "4 -0.418302"
      ]
     },
     "execution_count": 4,
     "metadata": {},
     "output_type": "execute_result"
    }
   ],
   "source": [
    "#first make our original data a dataframe\n",
    "data_dict = {\"points\": list(points)}\n",
    "df = pd.DataFrame(data_dict, columns=['points'])\n",
    "df.head()"
   ]
  },
  {
   "cell_type": "code",
   "execution_count": 5,
   "metadata": {
    "scrolled": true
   },
   "outputs": [
    {
     "data": {
      "text/html": [
       "<div>\n",
       "<style scoped>\n",
       "    .dataframe tbody tr th:only-of-type {\n",
       "        vertical-align: middle;\n",
       "    }\n",
       "\n",
       "    .dataframe tbody tr th {\n",
       "        vertical-align: top;\n",
       "    }\n",
       "\n",
       "    .dataframe thead th {\n",
       "        text-align: right;\n",
       "    }\n",
       "</style>\n",
       "<table border=\"1\" class=\"dataframe\">\n",
       "  <thead>\n",
       "    <tr style=\"text-align: right;\">\n",
       "      <th></th>\n",
       "      <th>points</th>\n",
       "      <th>categorical_manual</th>\n",
       "    </tr>\n",
       "  </thead>\n",
       "  <tbody>\n",
       "    <tr>\n",
       "      <th>0</th>\n",
       "      <td>0.050562</td>\n",
       "      <td>manual_3</td>\n",
       "    </tr>\n",
       "    <tr>\n",
       "      <th>1</th>\n",
       "      <td>0.499951</td>\n",
       "      <td>manual_3</td>\n",
       "    </tr>\n",
       "    <tr>\n",
       "      <th>2</th>\n",
       "      <td>-0.995909</td>\n",
       "      <td>manual_2</td>\n",
       "    </tr>\n",
       "    <tr>\n",
       "      <th>3</th>\n",
       "      <td>0.693599</td>\n",
       "      <td>manual_3</td>\n",
       "    </tr>\n",
       "    <tr>\n",
       "      <th>4</th>\n",
       "      <td>-0.418302</td>\n",
       "      <td>manual_2</td>\n",
       "    </tr>\n",
       "    <tr>\n",
       "      <th>5</th>\n",
       "      <td>-1.584577</td>\n",
       "      <td>manual_1</td>\n",
       "    </tr>\n",
       "  </tbody>\n",
       "</table>\n",
       "</div>"
      ],
      "text/plain": [
       "     points categorical_manual\n",
       "0  0.050562           manual_3\n",
       "1  0.499951           manual_3\n",
       "2 -0.995909           manual_2\n",
       "3  0.693599           manual_3\n",
       "4 -0.418302           manual_2\n",
       "5 -1.584577           manual_1"
      ]
     },
     "execution_count": 5,
     "metadata": {},
     "output_type": "execute_result"
    }
   ],
   "source": [
    "bins = [-np.inf, -1, 0, 1, np.inf]\n",
    "names = ['manual_1', 'manual_2', 'manual_3', 'manual_4']\n",
    "df['categorical_manual'] = pd.cut(df['points'], bins, labels=names)\n",
    "df.head(6)"
   ]
  },
  {
   "cell_type": "code",
   "execution_count": 6,
   "metadata": {},
   "outputs": [],
   "source": [
    "# Now let us see how the histogram of the new categories looks like\n",
    "counts = []\n",
    "for i in range(len(names)):\n",
    "    name = names[i]\n",
    "    counts.append(np.sum(df.categorical_manual == name))"
   ]
  },
  {
   "cell_type": "code",
   "execution_count": 7,
   "metadata": {},
   "outputs": [
    {
     "data": {
      "image/png": "[encoded data removed]",
      "text/plain": [
       "<Figure size 432x288 with 1 Axes>"
      ]
     },
     "metadata": {
      "needs_background": "light"
     },
     "output_type": "display_data"
    }
   ],
   "source": [
    "y_pos = range(len(names))\n",
    "plt.bar(y_pos, counts, edgecolor='black', linewidth=1.2,)\n",
    "# Rotation of the bars names\n",
    "plt.xticks(y_pos, names, rotation=90);\n",
    "plt.ylabel(\"frequency\");\n",
    "plt.title(\"barchart of manual categories\");"
   ]
  },
  {
   "cell_type": "markdown",
   "metadata": {},
   "source": [
    "##### Now, for method 2 find the minimum and maximum values in `points` and divide them into 4 equally large intervals. \n",
    "Equally large does not mean in terms of how many points fall into these groups, but the width of their ranges."
   ]
  },
  {
   "cell_type": "code",
   "execution_count": 8,
   "metadata": {},
   "outputs": [],
   "source": [
    "min_point = np.min(points)\n",
    "max_point = np.max(points)\n",
    "width = (max_point - min_point)/4"
   ]
  },
  {
   "cell_type": "code",
   "execution_count": 9,
   "metadata": {},
   "outputs": [],
   "source": [
    "bins = [min_point-0.1, min_point + width, min_point + 2*width,min_point + 3*width, max_point + 0.1]\n",
    "names = ['equal_1', 'equal_2', 'equal_3', 'equal_4']\n",
    "df['categorical_equal_len'] = pd.cut(df['points'], bins, labels=names)"
   ]
  },
  {
   "cell_type": "code",
   "execution_count": 10,
   "metadata": {},
   "outputs": [],
   "source": [
    "# Now let us see how the histogram of the new categories looks like\n",
    "counts = []\n",
    "for i in range(len(names)):\n",
    "    name = names[i]\n",
    "    counts.append(np.sum(df.categorical_equal_len == name))"
   ]
  },
  {
   "cell_type": "code",
   "execution_count": 11,
   "metadata": {},
   "outputs": [
    {
     "data": {
      "image/png": "[encoded data removed]",
      "text/plain": [
       "<Figure size 432x288 with 1 Axes>"
      ]
     },
     "metadata": {
      "needs_background": "light"
     },
     "output_type": "display_data"
    }
   ],
   "source": [
    "y_pos = range(len(names))\n",
    "plt.bar(y_pos, counts, edgecolor='black', linewidth=1.2,)\n",
    "# Rotation of the bars names\n",
    "plt.xticks(y_pos, names, rotation=90);\n",
    "plt.ylabel(\"frequency\");\n",
    "plt.title(\"barchart of manual categories\");"
   ]
  },
  {
   "cell_type": "markdown",
   "metadata": {},
   "source": [
    "##### Method 3: Finally, split them so that every bin comprises equally many number of instances."
   ]
  },
  {
   "cell_type": "code",
   "execution_count": 12,
   "metadata": {},
   "outputs": [],
   "source": [
    "names = [\"freq_1\",\"freq_2\",\"freq_3\",\"freq_4\"]\n",
    "df['categorical_equal_freq'] = pd.qcut(df['points'], 4, labels=names)"
   ]
  },
  {
   "cell_type": "code",
   "execution_count": 13,
   "metadata": {},
   "outputs": [],
   "source": [
    "# Now let us see how the histogram of the new categories looks like\n",
    "counts = []\n",
    "for i in range(len(names)):\n",
    "    name = names[i]\n",
    "    counts.append(np.sum(df.categorical_equal_freq == name))"
   ]
  },
  {
   "cell_type": "code",
   "execution_count": 14,
   "metadata": {},
   "outputs": [
    {
     "data": {
      "image/png": "[encoded data removed]",
      "text/plain": [
       "<Figure size 432x288 with 1 Axes>"
      ]
     },
     "metadata": {
      "needs_background": "light"
     },
     "output_type": "display_data"
    }
   ],
   "source": [
    "y_pos = range(len(names))\n",
    "plt.bar(y_pos, counts, edgecolor='black', linewidth=1.2,)\n",
    "# Rotation of the bars names\n",
    "plt.xticks(y_pos, names, rotation=90);\n",
    "plt.ylabel(\"frequency\");\n",
    "plt.title(\"barchart of manual categories\");"
   ]
  },
  {
   "cell_type": "code",
   "execution_count": 15,
   "metadata": {
    "scrolled": true
   },
   "outputs": [
    {
     "data": {
      "text/html": [
       "<div>\n",
       "<style scoped>\n",
       "    .dataframe tbody tr th:only-of-type {\n",
       "        vertical-align: middle;\n",
       "    }\n",
       "\n",
       "    .dataframe tbody tr th {\n",
       "        vertical-align: top;\n",
       "    }\n",
       "\n",
       "    .dataframe thead th {\n",
       "        text-align: right;\n",
       "    }\n",
       "</style>\n",
       "<table border=\"1\" class=\"dataframe\">\n",
       "  <thead>\n",
       "    <tr style=\"text-align: right;\">\n",
       "      <th></th>\n",
       "      <th>points</th>\n",
       "      <th>categorical_manual</th>\n",
       "      <th>categorical_equal_len</th>\n",
       "      <th>categorical_equal_freq</th>\n",
       "    </tr>\n",
       "  </thead>\n",
       "  <tbody>\n",
       "    <tr>\n",
       "      <th>0</th>\n",
       "      <td>0.050562</td>\n",
       "      <td>manual_3</td>\n",
       "      <td>equal_3</td>\n",
       "      <td>freq_3</td>\n",
       "    </tr>\n",
       "    <tr>\n",
       "      <th>1</th>\n",
       "      <td>0.499951</td>\n",
       "      <td>manual_3</td>\n",
       "      <td>equal_3</td>\n",
       "      <td>freq_3</td>\n",
       "    </tr>\n",
       "    <tr>\n",
       "      <th>2</th>\n",
       "      <td>-0.995909</td>\n",
       "      <td>manual_2</td>\n",
       "      <td>equal_2</td>\n",
       "      <td>freq_1</td>\n",
       "    </tr>\n",
       "    <tr>\n",
       "      <th>3</th>\n",
       "      <td>0.693599</td>\n",
       "      <td>manual_3</td>\n",
       "      <td>equal_3</td>\n",
       "      <td>freq_4</td>\n",
       "    </tr>\n",
       "    <tr>\n",
       "      <th>4</th>\n",
       "      <td>-0.418302</td>\n",
       "      <td>manual_2</td>\n",
       "      <td>equal_2</td>\n",
       "      <td>freq_2</td>\n",
       "    </tr>\n",
       "    <tr>\n",
       "      <th>5</th>\n",
       "      <td>-1.584577</td>\n",
       "      <td>manual_1</td>\n",
       "      <td>equal_1</td>\n",
       "      <td>freq_1</td>\n",
       "    </tr>\n",
       "    <tr>\n",
       "      <th>6</th>\n",
       "      <td>-0.647707</td>\n",
       "      <td>manual_2</td>\n",
       "      <td>equal_2</td>\n",
       "      <td>freq_1</td>\n",
       "    </tr>\n",
       "    <tr>\n",
       "      <th>7</th>\n",
       "      <td>0.598575</td>\n",
       "      <td>manual_3</td>\n",
       "      <td>equal_3</td>\n",
       "      <td>freq_3</td>\n",
       "    </tr>\n",
       "    <tr>\n",
       "      <th>8</th>\n",
       "      <td>0.332250</td>\n",
       "      <td>manual_3</td>\n",
       "      <td>equal_3</td>\n",
       "      <td>freq_3</td>\n",
       "    </tr>\n",
       "    <tr>\n",
       "      <th>9</th>\n",
       "      <td>-1.147477</td>\n",
       "      <td>manual_1</td>\n",
       "      <td>equal_2</td>\n",
       "      <td>freq_1</td>\n",
       "    </tr>\n",
       "  </tbody>\n",
       "</table>\n",
       "</div>"
      ],
      "text/plain": [
       "     points categorical_manual categorical_equal_len categorical_equal_freq\n",
       "0  0.050562           manual_3               equal_3                 freq_3\n",
       "1  0.499951           manual_3               equal_3                 freq_3\n",
       "2 -0.995909           manual_2               equal_2                 freq_1\n",
       "3  0.693599           manual_3               equal_3                 freq_4\n",
       "4 -0.418302           manual_2               equal_2                 freq_2\n",
       "5 -1.584577           manual_1               equal_1                 freq_1\n",
       "6 -0.647707           manual_2               equal_2                 freq_1\n",
       "7  0.598575           manual_3               equal_3                 freq_3\n",
       "8  0.332250           manual_3               equal_3                 freq_3\n",
       "9 -1.147477           manual_1               equal_2                 freq_1"
      ]
     },
     "execution_count": 15,
     "metadata": {},
     "output_type": "execute_result"
    }
   ],
   "source": [
    "df.head(10)"
   ]
  },
  {
   "cell_type": "markdown",
   "metadata": {},
   "source": [
    "Here you can observe how the categorical numbers differ for instances 2, 3, 6, 9"
   ]
  },
  {
   "cell_type": "markdown",
   "metadata": {},
   "source": [
    "#### Question: Use `qcut` function as above to obtain four categories, but use quantiles 30-50-90-100\n",
    "- Hint: check the use of `q` on the [documentation of qcut function](https://pandas.pydata.org/pandas-docs/stable/reference/api/pandas.qcut.html)"
   ]
  },
  {
   "cell_type": "code",
   "execution_count": 21,
   "metadata": {},
   "outputs": [
    {
     "data": {
      "image/png": "[encoded data removed]",
      "text/plain": [
       "<Figure size 432x288 with 1 Axes>"
      ]
     },
     "metadata": {
      "needs_background": "light"
     },
     "output_type": "display_data"
    }
   ],
   "source": [
    "names = [\"30\",\"50\",\"90\",\"100\"]\n",
    "df['quantiles'] = pd.qcut(df['points'], [0,0.3,0.5,0.9,1], labels=names)\n",
    "\n",
    "counts = []\n",
    "for i in range(len(names)):\n",
    "    name = names[i]\n",
    "    counts.append(np.sum(df.quantiles == name))\n",
    "    \n",
    "y_pos = range(len(names))\n",
    "plt.bar(y_pos, counts, edgecolor='black', linewidth=1.2,)\n",
    "# Rotation of the bars names\n",
    "plt.xticks(y_pos, names, rotation=90);\n",
    "plt.ylabel(\"quantiles\");\n",
    "plt.title(\"barchart of quantile categories\");"
   ]
  },
  {
   "cell_type": "code",
   "execution_count": null,
   "metadata": {},
   "outputs": [],
   "source": []
  }
 ],
 "metadata": {
  "kernelspec": {
   "display_name": "Python 3",
   "language": "python",
   "name": "python3"
  },
  "language_info": {
   "codemirror_mode": {
    "name": "ipython",
    "version": 3
   },
   "file_extension": ".py",
   "mimetype": "text/x-python",
   "name": "python",
   "nbconvert_exporter": "python",
   "pygments_lexer": "ipython3",
   "version": "3.8.2"
  }
 },
 "nbformat": 4,
 "nbformat_minor": 5
}
