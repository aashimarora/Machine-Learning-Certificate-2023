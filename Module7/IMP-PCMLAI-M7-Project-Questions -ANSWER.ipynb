{
 "cells": [
  {
   "cell_type": "code",
   "execution_count": 1,
   "metadata": {
    "id": "631ac862"
   },
   "outputs": [],
   "source": [
    "#Import the packages\n",
    "import pandas as pd\n",
    "import numpy as np\n",
    "import matplotlib.pyplot as plt"
   ]
  },
  {
   "cell_type": "markdown",
   "metadata": {
    "id": "2943eec6"
   },
   "source": [
    "## We will work with the \"Adult\" Data Set of the UCI Repository"
   ]
  },
  {
   "cell_type": "markdown",
   "metadata": {
    "id": "75906b0e"
   },
   "source": [
    "Here we will try to predict whether one's salary is above or below $50,000/year. \n",
    "The original dataset can be found on UCI Repository: https://archive.ics.uci.edu/ml/datasets/adult"
   ]
  },
  {
   "cell_type": "markdown",
   "metadata": {
    "id": "25a58790"
   },
   "source": [
    "### Read the file"
   ]
  },
  {
   "cell_type": "code",
   "execution_count": 2,
   "metadata": {
    "id": "7755f3f1"
   },
   "outputs": [
    {
     "name": "stdout",
     "output_type": "stream",
     "text": [
      "32561\n"
     ]
    }
   ],
   "source": [
    "# Source: https://www.valentinmihov.com/2015/04/17/adult-income-data-set/\n",
    "# taken and modified slightly from https://fairmlbook.org/code/adult.html\n",
    "\n",
    "features = [\"Age\", \"Workclass\", \"fnlwgt\", \"Education\", \"Education-Num\", \"Martial Status\",\n",
    "        \"Occupation\", \"Relationship\", \"Race\", \"Sex\", \"Capital Gain\", \"Capital Loss\",\n",
    "        \"Hours per week\", \"Country\", \"Target\"] #feaures of the dataset \n",
    "\n",
    "# Change these to local file if available\n",
    "train_url = 'http://archive.ics.uci.edu/ml/machine-learning-databases/adult/adult.data' #link of the training data\n",
    "test_url = 'http://archive.ics.uci.edu/ml/machine-learning-databases/adult/adult.test' #link of the test data\n",
    "\n",
    "# This will download 3.8M\n",
    "df_train = pd.read_csv(train_url, names=features, sep=r'\\s*,\\s*', \n",
    "                             engine='python', na_values=\"?\") #read csv training\n",
    "# This will download 1.9M\n",
    "df_test = pd.read_csv(test_url, names=features, sep=r'\\s*,\\s*', \n",
    "                            engine='python', na_values=\"?\", skiprows=1) #read csv test\n",
    "\n",
    "num_train = len(df_train) #number of training instances\n",
    "df_train.head()\n",
    "print(num_train)"
   ]
  },
  {
   "cell_type": "markdown",
   "metadata": {
    "id": "b2e81f9a"
   },
   "source": [
    "### Q1: Replace the labels of the training and test sets so that \"Target = 1\" means high income and \"Target = 0\" means low income. The target column should be an integer (binary) column eventually."
   ]
  },
  {
   "cell_type": "markdown",
   "metadata": {
    "id": "74068666"
   },
   "source": [
    "#### A1:"
   ]
  },
  {
   "cell_type": "code",
   "execution_count": 3,
   "metadata": {
    "id": "5d0d9a5e"
   },
   "outputs": [
    {
     "name": "stdout",
     "output_type": "stream",
     "text": [
      "32561 16281\n"
     ]
    }
   ],
   "source": [
    "#now we can replace the labels\n",
    "cond_train = {\"<=50K\" : 0, \">50K\" : 1}\n",
    "cond_test = {\"<=50K.\" : 0, \">50K.\" : 1}\n",
    "df_train.Target = df_train.Target.replace(cond_train)\n",
    "df_test.Target = df_test.Target.replace(cond_test)\n",
    "\n",
    "print(len(df_train), len(df_test))"
   ]
  },
  {
   "cell_type": "markdown",
   "metadata": {
    "id": "256144fd"
   },
   "source": [
    "### Q2: Inspect the column names and the data type of each column. Answer the following."
   ]
  },
  {
   "cell_type": "markdown",
   "metadata": {
    "id": "23c2af7a"
   },
   "source": [
    "#### Q2.1: List how many missing values there are in each column for training and test sets."
   ]
  },
  {
   "cell_type": "markdown",
   "metadata": {
    "id": "9c5fc3bf"
   },
   "source": [
    "#### A2.1:"
   ]
  },
  {
   "cell_type": "code",
   "execution_count": 4,
   "metadata": {
    "id": "dca8a1f4"
   },
   "outputs": [
    {
     "name": "stdout",
     "output_type": "stream",
     "text": [
      "<class 'pandas.core.frame.DataFrame'>\n",
      "RangeIndex: 32561 entries, 0 to 32560\n",
      "Data columns (total 15 columns):\n",
      " #   Column          Non-Null Count  Dtype \n",
      "---  ------          --------------  ----- \n",
      " 0   Age             32561 non-null  int64 \n",
      " 1   Workclass       30725 non-null  object\n",
      " 2   fnlwgt          32561 non-null  int64 \n",
      " 3   Education       32561 non-null  object\n",
      " 4   Education-Num   32561 non-null  int64 \n",
      " 5   Martial Status  32561 non-null  object\n",
      " 6   Occupation      30718 non-null  object\n",
      " 7   Relationship    32561 non-null  object\n",
      " 8   Race            32561 non-null  object\n",
      " 9   Sex             32561 non-null  object\n",
      " 10  Capital Gain    32561 non-null  int64 \n",
      " 11  Capital Loss    32561 non-null  int64 \n",
      " 12  Hours per week  32561 non-null  int64 \n",
      " 13  Country         31978 non-null  object\n",
      " 14  Target          32561 non-null  int64 \n",
      "dtypes: int64(7), object(8)\n",
      "memory usage: 3.7+ MB\n"
     ]
    }
   ],
   "source": [
    "#first list the columns\n",
    "pd.set_option('max_colwidth', None)\n",
    "df_train.info(verbose=True)"
   ]
  },
  {
   "cell_type": "code",
   "execution_count": 5,
   "metadata": {
    "id": "1ab5b9f2"
   },
   "outputs": [
    {
     "name": "stdout",
     "output_type": "stream",
     "text": [
      "Age                  0\n",
      "Workclass         1836\n",
      "fnlwgt               0\n",
      "Education            0\n",
      "Education-Num        0\n",
      "Martial Status       0\n",
      "Occupation        1843\n",
      "Relationship         0\n",
      "Race                 0\n",
      "Sex                  0\n",
      "Capital Gain         0\n",
      "Capital Loss         0\n",
      "Hours per week       0\n",
      "Country            583\n",
      "Target               0\n",
      "dtype: int64\n"
     ]
    }
   ],
   "source": [
    "#now see the number of missing values for each column -- training\n",
    "missing_train = df_train.isnull().sum()\n",
    "print(missing_train)"
   ]
  },
  {
   "cell_type": "code",
   "execution_count": 6,
   "metadata": {
    "id": "a65a73ed",
    "scrolled": true
   },
   "outputs": [
    {
     "name": "stdout",
     "output_type": "stream",
     "text": [
      "Age                 0\n",
      "Workclass         963\n",
      "fnlwgt              0\n",
      "Education           0\n",
      "Education-Num       0\n",
      "Martial Status      0\n",
      "Occupation        966\n",
      "Relationship        0\n",
      "Race                0\n",
      "Sex                 0\n",
      "Capital Gain        0\n",
      "Capital Loss        0\n",
      "Hours per week      0\n",
      "Country           274\n",
      "Target              0\n",
      "dtype: int64\n"
     ]
    }
   ],
   "source": [
    "#see the number of missing values for each column -- test\n",
    "missing_test = df_test.isnull().sum()\n",
    "print(missing_test)"
   ]
  },
  {
   "cell_type": "markdown",
   "metadata": {
    "id": "4567035d"
   },
   "source": [
    "#### Q2.2: How many missing values there are in total for the training set?"
   ]
  },
  {
   "cell_type": "markdown",
   "metadata": {
    "id": "797ae857"
   },
   "source": [
    "#### A2.2:"
   ]
  },
  {
   "cell_type": "code",
   "execution_count": 7,
   "metadata": {
    "id": "e542ea52"
   },
   "outputs": [
    {
     "name": "stdout",
     "output_type": "stream",
     "text": [
      "Missing values in the training set: 4262\n"
     ]
    }
   ],
   "source": [
    "total_missing_train = 0\n",
    "for col in missing_train.index:\n",
    "    total_missing_train += missing_train[col]\n",
    "print('Missing values in the training set:', total_missing_train)"
   ]
  },
  {
   "cell_type": "markdown",
   "metadata": {
    "id": "797ec48d"
   },
   "source": [
    "#### Q2.3: How many rows are there with at least one NaN?"
   ]
  },
  {
   "cell_type": "markdown",
   "metadata": {
    "id": "146b35ef"
   },
   "source": [
    "#### A2.3:"
   ]
  },
  {
   "cell_type": "code",
   "execution_count": 8,
   "metadata": {
    "id": "3e8ddf2e"
   },
   "outputs": [
    {
     "name": "stdout",
     "output_type": "stream",
     "text": [
      "2399\n"
     ]
    }
   ],
   "source": [
    "#one possible way:\n",
    "#take a True/False Series for whether each row includes NaN. Then sum them, where True will be taken as = 1.\n",
    "has_nan = df_train.isna().any(axis=1).sum()\n",
    "print(has_nan)"
   ]
  },
  {
   "cell_type": "markdown",
   "metadata": {
    "id": "23e9f381"
   },
   "source": [
    "#### Q2.4: If NaN's were identially distributed among the NaN rows at random, then what is the expectation of the number of NaNs in a row that has at least one NaN? If you find the same expectation for the test set, do these values look alike?"
   ]
  },
  {
   "cell_type": "markdown",
   "metadata": {
    "id": "5adcc5a4"
   },
   "source": [
    "#### A2.4:"
   ]
  },
  {
   "cell_type": "code",
   "execution_count": 9,
   "metadata": {
    "id": "fea07117"
   },
   "outputs": [
    {
     "name": "stdout",
     "output_type": "stream",
     "text": [
      "1.7765735723218008 1.8042588042588044\n"
     ]
    }
   ],
   "source": [
    "expectation_train = total_missing_train/has_nan\n",
    "\n",
    "total_missing_test = 0\n",
    "for col in missing_test.index:\n",
    "    total_missing_test += missing_test[col]\n",
    "has_nan_test = df_test.isna().any(axis=1).sum()\n",
    "\n",
    "expectation_test = total_missing_test/has_nan_test\n",
    "\n",
    "print(expectation_train, expectation_test)"
   ]
  },
  {
   "cell_type": "markdown",
   "metadata": {
    "id": "f49afb50"
   },
   "source": [
    "### Q3: Let us inspect the target variable further."
   ]
  },
  {
   "cell_type": "markdown",
   "metadata": {
    "id": "61367d5f"
   },
   "source": [
    "#### Q3.1: What fraction of the training instances are making high income? Does a similar result hold for the test set?"
   ]
  },
  {
   "cell_type": "markdown",
   "metadata": {
    "id": "68233a89"
   },
   "source": [
    "#### A3.1:"
   ]
  },
  {
   "cell_type": "code",
   "execution_count": 10,
   "metadata": {
    "id": "6cc1ae0d"
   },
   "outputs": [
    {
     "name": "stdout",
     "output_type": "stream",
     "text": [
      "0.2408095574460244\n"
     ]
    }
   ],
   "source": [
    "frac_train = (df_train[\"Target\"] == 1).sum()/len(df_train)\n",
    "print(frac_train)"
   ]
  },
  {
   "cell_type": "code",
   "execution_count": 11,
   "metadata": {
    "id": "80e9804f"
   },
   "outputs": [
    {
     "name": "stdout",
     "output_type": "stream",
     "text": [
      "0.23622627602727106\n"
     ]
    }
   ],
   "source": [
    "frac_test = (df_test[\"Target\"] == 1).sum()/len(df_test)\n",
    "print(frac_test)"
   ]
  },
  {
   "cell_type": "markdown",
   "metadata": {
    "id": "d3366487"
   },
   "source": [
    "#### Q3.2: If we classify everyone as a low-income instance, what is our accuracy, sensitivity, and specificy in the test set? Assume that a \"positive\" class is a high income class, that is, our end goal is to be able to tell who makes more money."
   ]
  },
  {
   "cell_type": "markdown",
   "metadata": {
    "id": "3d79e4f3"
   },
   "source": [
    "#### A3.2:"
   ]
  },
  {
   "cell_type": "code",
   "execution_count": 12,
   "metadata": {
    "id": "1e69bf06"
   },
   "outputs": [
    {
     "name": "stdout",
     "output_type": "stream",
     "text": [
      "0.7637737239727289 0 1\n"
     ]
    }
   ],
   "source": [
    "accuracy = 1 - frac_test\n",
    "sensitivity = 0\n",
    "specificity = 1\n",
    "print(accuracy,sensitivity,specificity)"
   ]
  },
  {
   "cell_type": "markdown",
   "metadata": {
    "id": "a87bc8cc"
   },
   "source": [
    "#### Q3.3: List the fraction of high income instances within each group of \"workclass\" separately in the training set. Do you have an intuition on this?"
   ]
  },
  {
   "cell_type": "markdown",
   "metadata": {
    "id": "3e650ccc"
   },
   "source": [
    "#### A3.3:"
   ]
  },
  {
   "cell_type": "code",
   "execution_count": 13,
   "metadata": {
    "id": "6693e54c"
   },
   "outputs": [
    {
     "name": "stdout",
     "output_type": "stream",
     "text": [
      "          Workclass    Target\n",
      "4      Self-emp-inc  0.557348\n",
      "0       Federal-gov  0.386458\n",
      "1         Local-gov  0.294792\n",
      "5  Self-emp-not-inc  0.284927\n",
      "6         State-gov  0.271957\n",
      "3           Private  0.218673\n",
      "2      Never-worked  0.000000\n",
      "7       Without-pay  0.000000\n"
     ]
    }
   ],
   "source": [
    "grouped = df_train.groupby('Workclass', as_index=False)['Target'].apply(lambda x: x.sum()/len(x))\n",
    "sorted_result = grouped.sort_values(by='Target', ascending=False)\n",
    "print(sorted_result)"
   ]
  },
  {
   "cell_type": "markdown",
   "metadata": {
    "id": "7e568da8"
   },
   "source": [
    "#### Q3.4: Motivated by the question before, apply the following simple classification on the test set: if an instance has a workclass that is in the first or second highest-making group, then classify \"1\". What is the accuracy and the sensitivity of this model?"
   ]
  },
  {
   "cell_type": "markdown",
   "metadata": {
    "id": "f9ea66e1"
   },
   "source": [
    "#### A3.4:"
   ]
  },
  {
   "cell_type": "code",
   "execution_count": 14,
   "metadata": {},
   "outputs": [
    {
     "data": {
      "text/html": [
       "<div>\n",
       "<style scoped>\n",
       "    .dataframe tbody tr th:only-of-type {\n",
       "        vertical-align: middle;\n",
       "    }\n",
       "\n",
       "    .dataframe tbody tr th {\n",
       "        vertical-align: top;\n",
       "    }\n",
       "\n",
       "    .dataframe thead th {\n",
       "        text-align: right;\n",
       "    }\n",
       "</style>\n",
       "<table border=\"1\" class=\"dataframe\">\n",
       "  <thead>\n",
       "    <tr style=\"text-align: right;\">\n",
       "      <th></th>\n",
       "      <th>Age</th>\n",
       "      <th>Workclass</th>\n",
       "      <th>fnlwgt</th>\n",
       "      <th>Education</th>\n",
       "      <th>Education-Num</th>\n",
       "      <th>Martial Status</th>\n",
       "      <th>Occupation</th>\n",
       "      <th>Relationship</th>\n",
       "      <th>Race</th>\n",
       "      <th>Sex</th>\n",
       "      <th>Capital Gain</th>\n",
       "      <th>Capital Loss</th>\n",
       "      <th>Hours per week</th>\n",
       "      <th>Country</th>\n",
       "      <th>Target</th>\n",
       "    </tr>\n",
       "  </thead>\n",
       "  <tbody>\n",
       "    <tr>\n",
       "      <th>0</th>\n",
       "      <td>25</td>\n",
       "      <td>Private</td>\n",
       "      <td>226802</td>\n",
       "      <td>11th</td>\n",
       "      <td>7</td>\n",
       "      <td>Never-married</td>\n",
       "      <td>Machine-op-inspct</td>\n",
       "      <td>Own-child</td>\n",
       "      <td>Black</td>\n",
       "      <td>Male</td>\n",
       "      <td>0</td>\n",
       "      <td>0</td>\n",
       "      <td>40</td>\n",
       "      <td>United-States</td>\n",
       "      <td>0</td>\n",
       "    </tr>\n",
       "    <tr>\n",
       "      <th>1</th>\n",
       "      <td>38</td>\n",
       "      <td>Private</td>\n",
       "      <td>89814</td>\n",
       "      <td>HS-grad</td>\n",
       "      <td>9</td>\n",
       "      <td>Married-civ-spouse</td>\n",
       "      <td>Farming-fishing</td>\n",
       "      <td>Husband</td>\n",
       "      <td>White</td>\n",
       "      <td>Male</td>\n",
       "      <td>0</td>\n",
       "      <td>0</td>\n",
       "      <td>50</td>\n",
       "      <td>United-States</td>\n",
       "      <td>0</td>\n",
       "    </tr>\n",
       "    <tr>\n",
       "      <th>2</th>\n",
       "      <td>28</td>\n",
       "      <td>Local-gov</td>\n",
       "      <td>336951</td>\n",
       "      <td>Assoc-acdm</td>\n",
       "      <td>12</td>\n",
       "      <td>Married-civ-spouse</td>\n",
       "      <td>Protective-serv</td>\n",
       "      <td>Husband</td>\n",
       "      <td>White</td>\n",
       "      <td>Male</td>\n",
       "      <td>0</td>\n",
       "      <td>0</td>\n",
       "      <td>40</td>\n",
       "      <td>United-States</td>\n",
       "      <td>1</td>\n",
       "    </tr>\n",
       "    <tr>\n",
       "      <th>3</th>\n",
       "      <td>44</td>\n",
       "      <td>Private</td>\n",
       "      <td>160323</td>\n",
       "      <td>Some-college</td>\n",
       "      <td>10</td>\n",
       "      <td>Married-civ-spouse</td>\n",
       "      <td>Machine-op-inspct</td>\n",
       "      <td>Husband</td>\n",
       "      <td>Black</td>\n",
       "      <td>Male</td>\n",
       "      <td>7688</td>\n",
       "      <td>0</td>\n",
       "      <td>40</td>\n",
       "      <td>United-States</td>\n",
       "      <td>1</td>\n",
       "    </tr>\n",
       "    <tr>\n",
       "      <th>4</th>\n",
       "      <td>18</td>\n",
       "      <td>NaN</td>\n",
       "      <td>103497</td>\n",
       "      <td>Some-college</td>\n",
       "      <td>10</td>\n",
       "      <td>Never-married</td>\n",
       "      <td>NaN</td>\n",
       "      <td>Own-child</td>\n",
       "      <td>White</td>\n",
       "      <td>Female</td>\n",
       "      <td>0</td>\n",
       "      <td>0</td>\n",
       "      <td>30</td>\n",
       "      <td>United-States</td>\n",
       "      <td>0</td>\n",
       "    </tr>\n",
       "  </tbody>\n",
       "</table>\n",
       "</div>"
      ],
      "text/plain": [
       "   Age  Workclass  fnlwgt     Education  Education-Num      Martial Status  \\\n",
       "0   25    Private  226802          11th              7       Never-married   \n",
       "1   38    Private   89814       HS-grad              9  Married-civ-spouse   \n",
       "2   28  Local-gov  336951    Assoc-acdm             12  Married-civ-spouse   \n",
       "3   44    Private  160323  Some-college             10  Married-civ-spouse   \n",
       "4   18        NaN  103497  Some-college             10       Never-married   \n",
       "\n",
       "          Occupation Relationship   Race     Sex  Capital Gain  Capital Loss  \\\n",
       "0  Machine-op-inspct    Own-child  Black    Male             0             0   \n",
       "1    Farming-fishing      Husband  White    Male             0             0   \n",
       "2    Protective-serv      Husband  White    Male             0             0   \n",
       "3  Machine-op-inspct      Husband  Black    Male          7688             0   \n",
       "4                NaN    Own-child  White  Female             0             0   \n",
       "\n",
       "   Hours per week        Country  Target  \n",
       "0              40  United-States       0  \n",
       "1              50  United-States       0  \n",
       "2              40  United-States       1  \n",
       "3              40  United-States       1  \n",
       "4              30  United-States       0  "
      ]
     },
     "execution_count": 14,
     "metadata": {},
     "output_type": "execute_result"
    }
   ],
   "source": [
    "df_test.head()"
   ]
  },
  {
   "cell_type": "code",
   "execution_count": 15,
   "metadata": {
    "id": "a5e48d61"
   },
   "outputs": [],
   "source": [
    "greedy_workclass = df_test.apply(lambda row: 1 if row['Workclass'] in ['Self-emp-inc', 'Federal-gov'] else 0, axis = 1) \n",
    "#apply a function to predict -- fill the dots\n"
   ]
  },
  {
   "cell_type": "code",
   "execution_count": 16,
   "metadata": {
    "id": "b0cc9639"
   },
   "outputs": [
    {
     "name": "stdout",
     "output_type": "stream",
     "text": [
      "[[11890   545]\n",
      " [ 3340   506]]\n",
      "11890 545 3340 506\n"
     ]
    }
   ],
   "source": [
    "from sklearn.metrics import confusion_matrix #import sklearn's confusion matrix\n",
    "cm = confusion_matrix(df_test['Target'], greedy_workclass) #obtain the confusion matrix\n",
    "print(cm)\n",
    "tn, fp, fn, tp = cm.ravel()\n",
    "print(tn, fp, fn, tp)"
   ]
  },
  {
   "cell_type": "code",
   "execution_count": 17,
   "metadata": {
    "id": "49417cc3"
   },
   "outputs": [],
   "source": [
    "total = cm.sum() #number of instances\n",
    "correct = tp + tn #number of collectly classified instances -- sum of the ??\n",
    "accuracy = correct/total\n",
    "sensitivity = tp/(tp+fn)  #fraction of 1's that we can find out of true 1's"
   ]
  },
  {
   "cell_type": "code",
   "execution_count": 18,
   "metadata": {
    "id": "21d92e8d"
   },
   "outputs": [
    {
     "name": "stdout",
     "output_type": "stream",
     "text": [
      "Accuracy: 0.7613782937166022 , and Sensitivity: 0.1315652626105044\n"
     ]
    }
   ],
   "source": [
    "print(\"Accuracy:\", accuracy, \", and Sensitivity:\", sensitivity)"
   ]
  },
  {
   "cell_type": "markdown",
   "metadata": {
    "id": "e7656c1e"
   },
   "source": [
    "### Q4: Further statistics and Outliers."
   ]
  },
  {
   "cell_type": "markdown",
   "metadata": {
    "id": "cfb01a85"
   },
   "source": [
    "#### Q4.1: List the fraction of male and females within US citizens in the training set."
   ]
  },
  {
   "cell_type": "markdown",
   "metadata": {
    "id": "92e8b941"
   },
   "source": [
    "#### A4.1:"
   ]
  },
  {
   "cell_type": "code",
   "execution_count": 19,
   "metadata": {
    "id": "bee7c43c"
   },
   "outputs": [
    {
     "name": "stdout",
     "output_type": "stream",
     "text": [
      "Sex\n",
      "Male      0.669205\n",
      "Female    0.330795\n",
      "Name: count, dtype: float64\n"
     ]
    }
   ],
   "source": [
    "group = df_train['Sex'].value_counts().apply(lambda x: x/len(df_train))\n",
    "print(group)"
   ]
  },
  {
   "cell_type": "markdown",
   "metadata": {
    "id": "89f1c7f0"
   },
   "source": [
    "#### Q4.2: What is the most common occupation (training set)?"
   ]
  },
  {
   "cell_type": "markdown",
   "metadata": {
    "id": "2018caa6"
   },
   "source": [
    "#### A4.2:"
   ]
  },
  {
   "cell_type": "code",
   "execution_count": 20,
   "metadata": {
    "id": "f4e270a5"
   },
   "outputs": [
    {
     "name": "stdout",
     "output_type": "stream",
     "text": [
      "Occupation\n",
      "Prof-specialty       4140\n",
      "Craft-repair         4099\n",
      "Exec-managerial      4066\n",
      "Adm-clerical         3770\n",
      "Sales                3650\n",
      "Other-service        3295\n",
      "Machine-op-inspct    2002\n",
      "Transport-moving     1597\n",
      "Handlers-cleaners    1370\n",
      "Farming-fishing       994\n",
      "Tech-support          928\n",
      "Protective-serv       649\n",
      "Priv-house-serv       149\n",
      "Armed-Forces            9\n",
      "Name: count, dtype: int64\n"
     ]
    }
   ],
   "source": [
    "group = df_train['Occupation'].value_counts().sort_values(ascending=False)\n",
    "print(group)"
   ]
  },
  {
   "cell_type": "markdown",
   "metadata": {
    "id": "0c0cb992"
   },
   "source": [
    "#### Q4.3: Which occupations are the most common male and female instances, respectively (training set)?"
   ]
  },
  {
   "cell_type": "markdown",
   "metadata": {
    "id": "58fcae06"
   },
   "source": [
    "#### A4.3:"
   ]
  },
  {
   "cell_type": "code",
   "execution_count": 21,
   "metadata": {
    "id": "bdf59b47"
   },
   "outputs": [
    {
     "data": {
      "text/plain": [
       "Occupation\n",
       "Adm-clerical         2537\n",
       "Other-service        1800\n",
       "Prof-specialty       1515\n",
       "Sales                1263\n",
       "Exec-managerial      1159\n",
       "Machine-op-inspct     550\n",
       "Tech-support          348\n",
       "Craft-repair          222\n",
       "Handlers-cleaners     164\n",
       "Priv-house-serv       141\n",
       "Transport-moving       90\n",
       "Protective-serv        76\n",
       "Farming-fishing        65\n",
       "Name: count, dtype: int64"
      ]
     },
     "execution_count": 21,
     "metadata": {},
     "output_type": "execute_result"
    }
   ],
   "source": [
    "df_train[df_train[\"Sex\"]==\"Female\"]['Occupation'].value_counts().sort_values(ascending=False)"
   ]
  },
  {
   "cell_type": "code",
   "execution_count": 22,
   "metadata": {
    "id": "800dd8cb"
   },
   "outputs": [
    {
     "data": {
      "text/plain": [
       "Occupation\n",
       "Craft-repair         3877\n",
       "Exec-managerial      2907\n",
       "Prof-specialty       2625\n",
       "Sales                2387\n",
       "Transport-moving     1507\n",
       "Other-service        1495\n",
       "Machine-op-inspct    1452\n",
       "Adm-clerical         1233\n",
       "Handlers-cleaners    1206\n",
       "Farming-fishing       929\n",
       "Tech-support          580\n",
       "Protective-serv       573\n",
       "Armed-Forces            9\n",
       "Priv-house-serv         8\n",
       "Name: count, dtype: int64"
      ]
     },
     "execution_count": 22,
     "metadata": {},
     "output_type": "execute_result"
    }
   ],
   "source": [
    "df_train[df_train[\"Sex\"]==\"Male\"]['Occupation'].value_counts().sort_values(ascending=False)"
   ]
  },
  {
   "cell_type": "markdown",
   "metadata": {
    "id": "13ab38b5"
   },
   "source": [
    "#### Q4.4: Plot the histogram of the \"Age\" column (using training set data). Let the histogram have 10 bins, and reflect the percentage of instances falling in the relevant bin on Y axis.  Visually try to see if there are outliers. Are there more outliers on the high age, or low age?"
   ]
  },
  {
   "cell_type": "markdown",
   "metadata": {
    "id": "3a5ca4f6"
   },
   "source": [
    "#### A4.4: "
   ]
  },
  {
   "cell_type": "code",
   "execution_count": 23,
   "metadata": {
    "id": "a5e9f6b0"
   },
   "outputs": [
    {
     "data": {
      "image/png": "[encoded data removed]",
      "text/plain": [
       "<Figure size 432x288 with 1 Axes>"
      ]
     },
     "metadata": {
      "needs_background": "light"
     },
     "output_type": "display_data"
    }
   ],
   "source": [
    "df_train[\"Age\"].hist(bins=20, weights=np.ones_like(df_train['Age']) * 100. / len(df_train)).plot()\n",
    "plt.show()\n",
    "plt.close()"
   ]
  },
  {
   "cell_type": "markdown",
   "metadata": {
    "id": "cd16ee2a"
   },
   "source": [
    "#### Q4.5: Report the age on the $99$-th quantile. "
   ]
  },
  {
   "cell_type": "markdown",
   "metadata": {
    "id": "d107d0dd"
   },
   "source": [
    "#### A4.5:"
   ]
  },
  {
   "cell_type": "code",
   "execution_count": 24,
   "metadata": {
    "id": "550a44a1"
   },
   "outputs": [
    {
     "name": "stdout",
     "output_type": "stream",
     "text": [
      "74.0\n"
     ]
    }
   ],
   "source": [
    "#Hint: the \".quantile\" function of pandas will be enough\n",
    "print(df_train[\"Age\"].quantile(0.99))"
   ]
  },
  {
   "cell_type": "markdown",
   "metadata": {
    "id": "342406a0"
   },
   "source": [
    "#### Q4.6: Given the previous analysis, would you say there are outliers in this dataset? "
   ]
  },
  {
   "cell_type": "markdown",
   "metadata": {
    "id": "b99f36f4"
   },
   "source": [
    "#### A4.6: \n",
    "\n",
    "Yes there are outliers, especialls after the age of 70, there seems to be tail in the distribution. "
   ]
  },
  {
   "cell_type": "markdown",
   "metadata": {
    "id": "fc600672"
   },
   "source": [
    "### Q5: Inspect the correlation of the numerical predictors with the target and report your findings (in training set). What does the correlation of \"Age\" tell us?"
   ]
  },
  {
   "cell_type": "code",
   "execution_count": 25,
   "metadata": {
    "id": "f9d34eed"
   },
   "outputs": [
    {
     "data": {
      "text/plain": [
       "Age               0.234037\n",
       "fnlwgt           -0.009463\n",
       "Education-Num     0.335154\n",
       "Capital Gain      0.223329\n",
       "Capital Loss      0.150526\n",
       "Hours per week    0.229689\n",
       "Target            1.000000\n",
       "dtype: float64"
      ]
     },
     "execution_count": 25,
     "metadata": {},
     "output_type": "execute_result"
    }
   ],
   "source": [
    "numeric_columns = df_train.select_dtypes(include=['int64', 'float64'])\n",
    "df_train[numeric_columns.columns].corrwith(df_train['Target'])"
   ]
  },
  {
   "cell_type": "markdown",
   "metadata": {},
   "source": [
    "There is a positive correlation of target with age (0.234) which says that as age increases, the income is likely to increase."
   ]
  },
  {
   "cell_type": "markdown",
   "metadata": {
    "id": "76b23df8"
   },
   "source": [
    "### Q6: Let us apply Linear Regression for classification. "
   ]
  },
  {
   "cell_type": "markdown",
   "metadata": {
    "id": "c454ebd7"
   },
   "source": [
    "#### Q6.1: Discuss why Linear Regression is not immediately applicable in this setting."
   ]
  },
  {
   "cell_type": "markdown",
   "metadata": {
    "id": "2980b7a0"
   },
   "source": [
    "#### A6.1: \n",
    "There are a lot of NaN values in this dataset which would cause noise in the model if we train it immediately. We must clean the dataset before applying linear regression."
   ]
  },
  {
   "cell_type": "markdown",
   "metadata": {
    "id": "de9bc7bb"
   },
   "source": [
    "#### Q6.2: Drop rows that include NaN values."
   ]
  },
  {
   "cell_type": "markdown",
   "metadata": {
    "id": "aa329364"
   },
   "source": [
    "#### A6.2:"
   ]
  },
  {
   "cell_type": "code",
   "execution_count": 26,
   "metadata": {
    "id": "7d8b2cd6"
   },
   "outputs": [
    {
     "data": {
      "text/html": [
       "<div>\n",
       "<style scoped>\n",
       "    .dataframe tbody tr th:only-of-type {\n",
       "        vertical-align: middle;\n",
       "    }\n",
       "\n",
       "    .dataframe tbody tr th {\n",
       "        vertical-align: top;\n",
       "    }\n",
       "\n",
       "    .dataframe thead th {\n",
       "        text-align: right;\n",
       "    }\n",
       "</style>\n",
       "<table border=\"1\" class=\"dataframe\">\n",
       "  <thead>\n",
       "    <tr style=\"text-align: right;\">\n",
       "      <th></th>\n",
       "      <th>Age</th>\n",
       "      <th>Workclass</th>\n",
       "      <th>fnlwgt</th>\n",
       "      <th>Education</th>\n",
       "      <th>Education-Num</th>\n",
       "      <th>Martial Status</th>\n",
       "      <th>Occupation</th>\n",
       "      <th>Relationship</th>\n",
       "      <th>Race</th>\n",
       "      <th>Sex</th>\n",
       "      <th>Capital Gain</th>\n",
       "      <th>Capital Loss</th>\n",
       "      <th>Hours per week</th>\n",
       "      <th>Country</th>\n",
       "      <th>Target</th>\n",
       "    </tr>\n",
       "  </thead>\n",
       "  <tbody>\n",
       "    <tr>\n",
       "      <th>0</th>\n",
       "      <td>39</td>\n",
       "      <td>State-gov</td>\n",
       "      <td>77516</td>\n",
       "      <td>Bachelors</td>\n",
       "      <td>13</td>\n",
       "      <td>Never-married</td>\n",
       "      <td>Adm-clerical</td>\n",
       "      <td>Not-in-family</td>\n",
       "      <td>White</td>\n",
       "      <td>Male</td>\n",
       "      <td>2174</td>\n",
       "      <td>0</td>\n",
       "      <td>40</td>\n",
       "      <td>United-States</td>\n",
       "      <td>0</td>\n",
       "    </tr>\n",
       "    <tr>\n",
       "      <th>1</th>\n",
       "      <td>50</td>\n",
       "      <td>Self-emp-not-inc</td>\n",
       "      <td>83311</td>\n",
       "      <td>Bachelors</td>\n",
       "      <td>13</td>\n",
       "      <td>Married-civ-spouse</td>\n",
       "      <td>Exec-managerial</td>\n",
       "      <td>Husband</td>\n",
       "      <td>White</td>\n",
       "      <td>Male</td>\n",
       "      <td>0</td>\n",
       "      <td>0</td>\n",
       "      <td>13</td>\n",
       "      <td>United-States</td>\n",
       "      <td>0</td>\n",
       "    </tr>\n",
       "    <tr>\n",
       "      <th>2</th>\n",
       "      <td>38</td>\n",
       "      <td>Private</td>\n",
       "      <td>215646</td>\n",
       "      <td>HS-grad</td>\n",
       "      <td>9</td>\n",
       "      <td>Divorced</td>\n",
       "      <td>Handlers-cleaners</td>\n",
       "      <td>Not-in-family</td>\n",
       "      <td>White</td>\n",
       "      <td>Male</td>\n",
       "      <td>0</td>\n",
       "      <td>0</td>\n",
       "      <td>40</td>\n",
       "      <td>United-States</td>\n",
       "      <td>0</td>\n",
       "    </tr>\n",
       "    <tr>\n",
       "      <th>3</th>\n",
       "      <td>53</td>\n",
       "      <td>Private</td>\n",
       "      <td>234721</td>\n",
       "      <td>11th</td>\n",
       "      <td>7</td>\n",
       "      <td>Married-civ-spouse</td>\n",
       "      <td>Handlers-cleaners</td>\n",
       "      <td>Husband</td>\n",
       "      <td>Black</td>\n",
       "      <td>Male</td>\n",
       "      <td>0</td>\n",
       "      <td>0</td>\n",
       "      <td>40</td>\n",
       "      <td>United-States</td>\n",
       "      <td>0</td>\n",
       "    </tr>\n",
       "    <tr>\n",
       "      <th>4</th>\n",
       "      <td>28</td>\n",
       "      <td>Private</td>\n",
       "      <td>338409</td>\n",
       "      <td>Bachelors</td>\n",
       "      <td>13</td>\n",
       "      <td>Married-civ-spouse</td>\n",
       "      <td>Prof-specialty</td>\n",
       "      <td>Wife</td>\n",
       "      <td>Black</td>\n",
       "      <td>Female</td>\n",
       "      <td>0</td>\n",
       "      <td>0</td>\n",
       "      <td>40</td>\n",
       "      <td>Cuba</td>\n",
       "      <td>0</td>\n",
       "    </tr>\n",
       "  </tbody>\n",
       "</table>\n",
       "</div>"
      ],
      "text/plain": [
       "   Age         Workclass  fnlwgt  Education  Education-Num  \\\n",
       "0   39         State-gov   77516  Bachelors             13   \n",
       "1   50  Self-emp-not-inc   83311  Bachelors             13   \n",
       "2   38           Private  215646    HS-grad              9   \n",
       "3   53           Private  234721       11th              7   \n",
       "4   28           Private  338409  Bachelors             13   \n",
       "\n",
       "       Martial Status         Occupation   Relationship   Race     Sex  \\\n",
       "0       Never-married       Adm-clerical  Not-in-family  White    Male   \n",
       "1  Married-civ-spouse    Exec-managerial        Husband  White    Male   \n",
       "2            Divorced  Handlers-cleaners  Not-in-family  White    Male   \n",
       "3  Married-civ-spouse  Handlers-cleaners        Husband  Black    Male   \n",
       "4  Married-civ-spouse     Prof-specialty           Wife  Black  Female   \n",
       "\n",
       "   Capital Gain  Capital Loss  Hours per week        Country  Target  \n",
       "0          2174             0              40  United-States       0  \n",
       "1             0             0              13  United-States       0  \n",
       "2             0             0              40  United-States       0  \n",
       "3             0             0              40  United-States       0  \n",
       "4             0             0              40           Cuba       0  "
      ]
     },
     "execution_count": 26,
     "metadata": {},
     "output_type": "execute_result"
    }
   ],
   "source": [
    "df_train = df_train.dropna()\n",
    "df_train.head()"
   ]
  },
  {
   "cell_type": "markdown",
   "metadata": {
    "id": "f1c81fea"
   },
   "source": [
    "#### Q6.3: Train a linear regression model on the training set. Use the numeric columns only."
   ]
  },
  {
   "cell_type": "markdown",
   "metadata": {
    "id": "c8f44441"
   },
   "source": [
    "#### A6.3:"
   ]
  },
  {
   "cell_type": "code",
   "execution_count": 27,
   "metadata": {
    "id": "c34392c7"
   },
   "outputs": [
    {
     "name": "stdout",
     "output_type": "stream",
     "text": [
      "['Age', 'fnlwgt', 'Education-Num', 'Capital Gain', 'Capital Loss', 'Hours per week']\n"
     ]
    }
   ],
   "source": [
    "#Step 1 -- take the numeric columns\n",
    "numericals = [] #start with an empty array\n",
    "for i in range(len(df_train.dtypes)): #for all columns\n",
    "    coltype = df_train.dtypes[i] #take the type of column\n",
    "    if coltype != 'object': #check if the type is not an object\n",
    "        numericals.append(df_train.columns[i])\n",
    "numericals.pop() #remove 'TARGET'\n",
    "print(numericals)"
   ]
  },
  {
   "cell_type": "code",
   "execution_count": 28,
   "metadata": {
    "id": "2455e0ad"
   },
   "outputs": [],
   "source": [
    "#Step 2 -- fit\n",
    "from sklearn.linear_model import LinearRegression\n",
    "X = df_train[numericals] #training predictors\n",
    "y = df_train['Target'] #training target\n",
    "clf = LinearRegression().fit(X, y) #time to fit"
   ]
  },
  {
   "cell_type": "markdown",
   "metadata": {
    "id": "180084ec"
   },
   "source": [
    "#### Q6.4: Apply the linear model that we just fit and predict the training target. Show the first couple of predictions."
   ]
  },
  {
   "cell_type": "markdown",
   "metadata": {
    "id": "9755db00"
   },
   "source": [
    "#### A6.4: \n",
    " "
   ]
  },
  {
   "cell_type": "code",
   "execution_count": 29,
   "metadata": {
    "id": "ebd7fda5"
   },
   "outputs": [
    {
     "name": "stdout",
     "output_type": "stream",
     "text": [
      "['Age', 'fnlwgt', 'Education-Num', 'Capital Gain', 'Capital Loss', 'Hours per week']\n",
      "[ 0.3711157   0.27712797  0.16993872  0.17536679  0.30371731  0.40369919\n",
      " -0.08002465  0.2869114   0.53002798  0.42679262]\n"
     ]
    }
   ],
   "source": [
    "#use \"clf.predict\" function\n",
    "print(numericals)\n",
    "predictions = clf.predict(df_train[numericals])\n",
    "training_predictions = predictions\n",
    "print(predictions[:10])"
   ]
  },
  {
   "cell_type": "markdown",
   "metadata": {
    "id": "668af8f6"
   },
   "source": [
    "#### Q6.5: To make a classification on the *training set*, use a cutoff value = 0.4 so that if the output is more than this value then we classify as \"1\". Compute the accuracy, sensitivity, and specificity manually (do not use a function). Discuss the performance."
   ]
  },
  {
   "cell_type": "markdown",
   "metadata": {
    "id": "19ad6985"
   },
   "source": [
    "#### A6.5:  \n",
    "Accuracy: 0.796 \n",
    "Sensitivity: 0.479 \n",
    "Specificity: 0.901"
   ]
  },
  {
   "cell_type": "code",
   "execution_count": 30,
   "metadata": {
    "id": "04eb793b"
   },
   "outputs": [],
   "source": [
    "cutoff = 0.4"
   ]
  },
  {
   "cell_type": "code",
   "execution_count": 31,
   "metadata": {
    "id": "f1703d10"
   },
   "outputs": [
    {
     "name": "stdout",
     "output_type": "stream",
     "text": [
      "[[20417  2237]\n",
      " [ 3915  3593]]\n"
     ]
    }
   ],
   "source": [
    "from sklearn.metrics import confusion_matrix #import sklearn's confusion matrix\n",
    "predictions = clf.predict(X)\n",
    "predictions[np.where(predictions > cutoff)] = 1\n",
    "predictions[np.where(predictions <= cutoff)] = 0\n",
    "cm = confusion_matrix(y, predictions) #obtain the confusion matrix\n",
    "tn, fp, fn, tp = cm.ravel()\n",
    "print(cm)\n",
    "accuracy_train = (tp + tn)/(cm.sum())\n",
    "sensitivity_train = tp/(tp+fn)\n",
    "specificity_train = tn/(tn+fp)"
   ]
  },
  {
   "cell_type": "code",
   "execution_count": 32,
   "metadata": {
    "id": "c7e38902"
   },
   "outputs": [
    {
     "name": "stdout",
     "output_type": "stream",
     "text": [
      "Accuracy: 0.796 \n",
      "Sensitivity: 0.479 \n",
      "Specificity: 0.901\n"
     ]
    }
   ],
   "source": [
    "print(\"Accuracy:\", round(accuracy_train,3), \"\\nSensitivity:\", round(sensitivity_train,3),\\\n",
    "      \"\\nSpecificity:\", round(specificity_train,3))"
   ]
  },
  {
   "cell_type": "markdown",
   "metadata": {
    "id": "3e794603"
   },
   "source": [
    "#### Q6.6: Apply the same on training set but decrease the cutoff down to 0.2. Inspect the metrics we looked before, and compare the results with the cutoff 0.4. Interpret the results."
   ]
  },
  {
   "cell_type": "markdown",
   "metadata": {
    "id": "6d3104cd"
   },
   "source": [
    "#### A6.6: \n",
    "Accuracy: 0.615 \n",
    "Sensitivity: 0.895 \n",
    "Specificity: 0.523"
   ]
  },
  {
   "cell_type": "code",
   "execution_count": 33,
   "metadata": {
    "id": "ba0f4b4f"
   },
   "outputs": [],
   "source": [
    "cutoff_alternative = 0.2 #cutoff value"
   ]
  },
  {
   "cell_type": "code",
   "execution_count": 34,
   "metadata": {
    "id": "ded638e2"
   },
   "outputs": [
    {
     "name": "stdout",
     "output_type": "stream",
     "text": [
      "[[11845 10809]\n",
      " [  789  6719]]\n"
     ]
    }
   ],
   "source": [
    "from sklearn.metrics import confusion_matrix #import sklearn's confusion matrix\n",
    "predictions = clf.predict(X)\n",
    "predictions[np.where(predictions > cutoff_alternative)] = 1\n",
    "predictions[np.where(predictions <= cutoff_alternative)] = 0\n",
    "cm = confusion_matrix(y, predictions) #obtain the confusion matrix\n",
    "tn, fp, fn, tp = cm.ravel()\n",
    "print(cm)\n",
    "accuracy_train_alt = (tp + tn)/(cm.sum())\n",
    "sensitivity_train_alt = tp/(tp+fn)\n",
    "specificity_train_alt = tn/(tn+fp)"
   ]
  },
  {
   "cell_type": "code",
   "execution_count": 35,
   "metadata": {
    "id": "985e2d17"
   },
   "outputs": [
    {
     "name": "stdout",
     "output_type": "stream",
     "text": [
      "Accuracy: 0.615 \n",
      "Sensitivity: 0.895 \n",
      "Specificity: 0.523\n"
     ]
    }
   ],
   "source": [
    "print(\"Accuracy:\", round(accuracy_train_alt,3), \"\\nSensitivity:\", round(sensitivity_train_alt,3),\\\n",
    "      \"\\nSpecificity:\", round(specificity_train_alt,3))"
   ]
  },
  {
   "cell_type": "markdown",
   "metadata": {
    "id": "2e6064d1"
   },
   "source": [
    "#### Q6.7: Now use the linear model on the *test set*. Choose the cutoff value = 0.4 and return the accuracy, sensitivity, and specificity."
   ]
  },
  {
   "cell_type": "markdown",
   "metadata": {
    "id": "186ec97f"
   },
   "source": [
    "#### A6.7: \n",
    "Accuracy: 0.798 \n",
    "Sensitivity: 0.478 \n",
    "Specificity: 0.896"
   ]
  },
  {
   "cell_type": "code",
   "execution_count": 36,
   "metadata": {},
   "outputs": [
    {
     "name": "stdout",
     "output_type": "stream",
     "text": [
      "[[11146  1289]\n",
      " [ 2006  1840]]\n",
      "Accuracy: 0.798 \n",
      "Sensitivity: 0.478 \n",
      "Specificity: 0.896\n"
     ]
    }
   ],
   "source": [
    "cutoff_test = 0.4 #cutoff value\n",
    "from sklearn.metrics import confusion_matrix #import sklearn's confusion matrix\n",
    "pred_test = clf.predict(df_test[numericals])\n",
    "pred_test[np.where(pred_test > cutoff_test)] = 1\n",
    "pred_test[np.where(pred_test <= cutoff_test)] = 0\n",
    "cm = confusion_matrix(df_test['Target'], pred_test) #obtain the confusion matrix\n",
    "tn, fp, fn, tp = cm.ravel()\n",
    "print(cm)\n",
    "accuracy_test = (tp + tn)/(cm.sum())\n",
    "sensitivity_test = tp/(tp+fn)\n",
    "specificity_test = tn/(tn+fp)\n",
    "print(\"Accuracy:\", round(accuracy_test,3), \"\\nSensitivity:\", round(sensitivity_test,3),\\\n",
    "      \"\\nSpecificity:\", round(specificity_test,3))"
   ]
  },
  {
   "cell_type": "markdown",
   "metadata": {
    "id": "80415e41"
   },
   "source": [
    "#### Q6.8: Try different cutoff values on the training set and choose the best one according to the performance on the training set. Choose the following metric to optimize: *keep accuracy above 76% and trying to obtain the best possible sensitivity*. What is the optimal cutoff value in your experiment? (Note: this approach will be discussed later)."
   ]
  },
  {
   "cell_type": "code",
   "execution_count": 37,
   "metadata": {},
   "outputs": [
    {
     "data": {
      "image/png": "[encoded data removed]",
      "text/plain": [
       "<Figure size 432x288 with 1 Axes>"
      ]
     },
     "metadata": {
      "needs_background": "light"
     },
     "output_type": "display_data"
    }
   ],
   "source": [
    "from sklearn.metrics import confusion_matrix #import sklearn's confusion matrix\n",
    "\n",
    "def calc_sensitivity_cutoff(X,y):\n",
    "    sensitivity = []\n",
    "    cutoffs=[]\n",
    "    start = 0.2\n",
    "    end = 0.8\n",
    "    step = 0.05\n",
    "    accuracy = []\n",
    "    for cutoff in np.arange(start, end, step):\n",
    "        pred = X.copy()\n",
    "        pred[np.where(pred > cutoff)] = 1\n",
    "        pred[np.where(pred <= cutoff)] = 0\n",
    "        cm = confusion_matrix(y, pred) #obtain the confusion matrix\n",
    "        tn, fp, fn, tp = cm.ravel()\n",
    "        acc = (tp + tn)/(cm.sum())\n",
    "        sens = tp/(tp+fn)\n",
    "        if acc > 0.76:\n",
    "            accuracy.append(acc)\n",
    "            sensitivity.append(sens)\n",
    "            cutoffs.append(cutoff)\n",
    "    \n",
    "    return accuracy,sensitivity,cutoffs\n",
    "\n",
    "accuracy,sensitivity,cutoffs = calc_sensitivity_cutoff(training_predictions, df_train['Target'])\n",
    "plt.plot(cutoffs, sensitivity, color='r', label='sensitivity')\n",
    "plt.plot(cutoffs, accuracy, color='g', label='accuracy')\n",
    "plt.legend()\n",
    "plt.show()"
   ]
  },
  {
   "cell_type": "markdown",
   "metadata": {},
   "source": [
    "#### The optimal value for sensitivity is at cutoff value 0.35 which has the highest sensitivity at 0.592"
   ]
  },
  {
   "cell_type": "markdown",
   "metadata": {
    "id": "65a6b24a"
   },
   "source": [
    "#### A6.8: \n",
    "- Application of the previous chunks in an iterated manner."
   ]
  },
  {
   "cell_type": "markdown",
   "metadata": {
    "id": "9835660a"
   },
   "source": [
    "#### Q6.9: In the previous question we tuned the cutoff value on the training set. This initialy makes sense, because we cannot tune on the test-set, which will be indirectly training on the test set. However, we also discussed in the validation-set approach that it is not a good practice to *compare* models on the training set, because of a natural bias in this procedure. Hence, it is a better approach to tune a value on a validation set. For this purpose, apply the following steps:\n",
    "- Split the training set as 80% (training) - 20% (validation) sets. You can take the first 80% and last 20% and no need to randomize the selection.\n",
    "- Train a linear model on the training set obtained in the previous approach. Training one model is enough.\n",
    "- Compare cutoff values between 0.2 - 0.8 with 0.05 increments. Pick the best model by looking at the validation set, where the \"best\" model has an accuracy over 76% and has the highest sensitivity still.\n",
    "- Test the validated cutoff on the test set and return the metrics.\n",
    "- [Extra / optional] Instead of the hold-out validation that you just applied, try 5-fold cross validation in the original training set."
   ]
  },
  {
   "cell_type": "code",
   "execution_count": 38,
   "metadata": {},
   "outputs": [
    {
     "data": {
      "image/png": "[encoded data removed]",
      "text/plain": [
       "<Figure size 432x288 with 1 Axes>"
      ]
     },
     "metadata": {
      "needs_background": "light"
     },
     "output_type": "display_data"
    },
    {
     "name": "stdout",
     "output_type": "stream",
     "text": [
      "[[10415  2020]\n",
      " [ 1581  2265]]\n",
      "Accuracy: 0.779 \n",
      "Sensitivity: 0.589 \n",
      "Specificity: 0.838\n"
     ]
    }
   ],
   "source": [
    "copy_train=df_train\n",
    "\n",
    "#split\n",
    "train = copy_train.sample(frac=0.8, random_state=42)\n",
    "val = copy_train.drop(train.index)\n",
    "from sklearn.linear_model import LinearRegression\n",
    "X1 = train[numericals] #training predictors\n",
    "y1 = train['Target'] #training target\n",
    "\n",
    "#train\n",
    "clf2 = LinearRegression().fit(X1, y1) #time to fit\n",
    "\n",
    "valX = val[numericals]\n",
    "valY = val['Target']\n",
    "\n",
    "#test on validation \n",
    "validation_predictions = clf2.predict(valX)\n",
    "accuracy,sensitivity,cutoffs = calc_sensitivity_cutoff(validation_predictions, valY)\n",
    "plt.plot(cutoffs, sensitivity, color='r', label='sensitivity')\n",
    "plt.plot(cutoffs, accuracy, color='g', label='accuracy')\n",
    "plt.legend()\n",
    "plt.show()\n",
    "\n",
    "#picking the model with cutoff 0.35 with the highest sensitivity\n",
    "best_cutoff = 0.35\n",
    "from sklearn.metrics import confusion_matrix #import sklearn's confusion matrix\n",
    "test_predictions = clf2.predict(df_test[numericals])\n",
    "test_predictions[np.where(test_predictions > best_cutoff)] = 1\n",
    "test_predictions[np.where(test_predictions <= best_cutoff)] = 0\n",
    "cm = confusion_matrix(df_test['Target'], test_predictions) #obtain the confusion matrix\n",
    "tn, fp, fn, tp = cm.ravel()\n",
    "print(cm)\n",
    "accuracy_test = (tp + tn)/(cm.sum())\n",
    "sensitivity_test = tp/(tp+fn)\n",
    "specificity_test = tn/(tn+fp)\n",
    "print(\"Accuracy:\", round(accuracy_test,3), \"\\nSensitivity:\", round(sensitivity_test,3),\\\n",
    "      \"\\nSpecificity:\", round(specificity_test,3))"
   ]
  },
  {
   "cell_type": "markdown",
   "metadata": {
    "id": "05d29000"
   },
   "source": [
    "#### A6.9 \n",
    "Accuracy: 0.779 \n",
    "Sensitivity: 0.589 \n",
    "Specificity: 0.838"
   ]
  },
  {
   "cell_type": "markdown",
   "metadata": {
    "id": "da7d7823"
   },
   "source": [
    "#### Q6.10: Previously we have seen that if we decrese the cutoff value then we get more sensitivity as we try to classify more \"1\"s. Obviously we would expect to have sensitivity = 1 if we pick the smallest possible cutoff. To this end, try a cutoff = 0 on the test set and report the sensitivity. If the sensitivity is not equal to 1, please give a possible reason."
   ]
  },
  {
   "cell_type": "code",
   "execution_count": 39,
   "metadata": {},
   "outputs": [
    {
     "name": "stdout",
     "output_type": "stream",
     "text": [
      "[[ 1518 10917]\n",
      " [   19  3827]]\n",
      "Accuracy: 0.328 \n",
      "Sensitivity: 0.995 \n",
      "Specificity: 0.122\n"
     ]
    }
   ],
   "source": [
    "best_cutoff = 0.0\n",
    "from sklearn.metrics import confusion_matrix #import sklearn's confusion matrix\n",
    "test_predictions = clf2.predict(df_test[numericals])\n",
    "test_predictions[np.where(test_predictions > best_cutoff)] = 1\n",
    "test_predictions[np.where(test_predictions <= best_cutoff)] = 0\n",
    "cm = confusion_matrix(df_test['Target'], test_predictions) #obtain the confusion matrix\n",
    "tn, fp, fn, tp = cm.ravel()\n",
    "print(cm)\n",
    "accuracy_test = (tp + tn)/(cm.sum())\n",
    "sensitivity_test = tp/(tp+fn)\n",
    "specificity_test = tn/(tn+fp)\n",
    "print(\"Accuracy:\", round(accuracy_test,3), \"\\nSensitivity:\", round(sensitivity_test,3),\\\n",
    "      \"\\nSpecificity:\", round(specificity_test,3))"
   ]
  },
  {
   "cell_type": "markdown",
   "metadata": {
    "id": "f9f848a0"
   },
   "source": [
    "#### A6.10: Sensitivity is ~0.995 "
   ]
  },
  {
   "cell_type": "markdown",
   "metadata": {
    "id": "e3fba4f2"
   },
   "source": [
    "#### Q6.11 [Bonus / Optional]: Encode \"worksclass\" with dummies so that we can include these variables in the linear regression (i.e., introduce a column for each value the workclass can take and write '1' if this is true -- note that you should drop one of these dummies without loss of generality as from the others you can figure out the one left out). Train the linear regression by using this new variable in addition to the previous variables. Test on the test set by using the cutoff value you found previously."
   ]
  },
  {
   "cell_type": "markdown",
   "metadata": {
    "id": "a755d39f"
   },
   "source": [
    "#### A6.11:\n",
    "- One can iterate over the \".dtypes\" of the training set and for every \"O\" data type, convert this to \"Categorical\". Then, using \"pd.get_dummies\" one can obtain dummies on this categorical variable. The rest is identical to what we did before -- only add the new additional numeric values."
   ]
  },
  {
   "cell_type": "markdown",
   "metadata": {
    "id": "501d35d5"
   },
   "source": [
    "### Final notes\n",
    "Note that linear regression is not designed for such tasks, however, it works great in many cases. A variant of linear regression, that is called the *logistic regression*, takes a linear relationship as in the linear regression setting, but applies a non-linear mapping on the output. In return, we obtain predictions that are between [0,1], hence simply using \"predict\" function would classify the instances with a prediction of >= 0.5 as \"1\". We can similarly change the threshold. Although logistic regression will be introduced in more detail, we can also write similar code to make use of it easily as the following. "
   ]
  },
  {
   "cell_type": "code",
   "execution_count": 40,
   "metadata": {
    "id": "de14c84f"
   },
   "outputs": [],
   "source": [
    "from sklearn.linear_model import LogisticRegression\n",
    "clf = LogisticRegression(random_state=0).fit(X, y) \n",
    "#X,y have to be filled before so that X comprises numerical variables"
   ]
  },
  {
   "cell_type": "code",
   "execution_count": 41,
   "metadata": {
    "id": "a9cc8f75"
   },
   "outputs": [
    {
     "name": "stdout",
     "output_type": "stream",
     "text": [
      "[0 0 0 ... 0 0 1]\n"
     ]
    }
   ],
   "source": [
    "scores_linear_training = clf.predict(X) #predict function\n",
    "# alternatively, for using a cutoff, first get the assigned 'probabilities' by using \"probs = clf.predict_proba(X)\"\n",
    "# and then apply thresholds.\n",
    "print(scores_linear_training)"
   ]
  },
  {
   "cell_type": "markdown",
   "metadata": {
    "id": "3af32967"
   },
   "source": [
    "As extra, you can try coding other concepts such as:\n",
    "- Visualising lift charts and comparing models via lift charts.\n",
    "- Applying more advanced algorithms and/or using further categorial variables by using several encodings.\n",
    "- Analyzing the categorical variables further to see if we have an ordinal relationship that can be modeled via integers.\n",
    "- As mentioned above, using K fold cross validation."
   ]
  }
 ],
 "metadata": {
  "colab": {
   "collapsed_sections": [
    "797ae857",
    "797ec48d",
    "146b35ef",
    "23e9f381",
    "5adcc5a4",
    "f49afb50",
    "61367d5f",
    "68233a89",
    "d3366487",
    "3d79e4f3",
    "a87bc8cc",
    "3e650ccc",
    "7e568da8",
    "f9ea66e1",
    "e7656c1e",
    "cfb01a85",
    "92e8b941",
    "89f1c7f0",
    "2018caa6",
    "0c0cb992",
    "58fcae06",
    "13ab38b5",
    "3a5ca4f6",
    "cd16ee2a",
    "d107d0dd",
    "342406a0",
    "b99f36f4",
    "c454ebd7",
    "2980b7a0",
    "de9bc7bb",
    "aa329364",
    "f1c81fea",
    "c8f44441",
    "180084ec",
    "9755db00",
    "668af8f6",
    "19ad6985",
    "3e794603",
    "2e6064d1",
    "186ec97f",
    "80415e41",
    "65a6b24a",
    "9835660a",
    "05d29000",
    "da7d7823",
    "f9f848a0",
    "e3fba4f2",
    "a755d39f",
    "501d35d5"
   ],
   "name": "Project Questions.ipynb",
   "provenance": []
  },
  "kernelspec": {
   "display_name": "Python 3",
   "language": "python",
   "name": "python3"
  },
  "language_info": {
   "codemirror_mode": {
    "name": "ipython",
    "version": 3
   },
   "file_extension": ".py",
   "mimetype": "text/x-python",
   "name": "python",
   "nbconvert_exporter": "python",
   "pygments_lexer": "ipython3",
   "version": "3.8.2"
  }
 },
 "nbformat": 4,
 "nbformat_minor": 5
}
