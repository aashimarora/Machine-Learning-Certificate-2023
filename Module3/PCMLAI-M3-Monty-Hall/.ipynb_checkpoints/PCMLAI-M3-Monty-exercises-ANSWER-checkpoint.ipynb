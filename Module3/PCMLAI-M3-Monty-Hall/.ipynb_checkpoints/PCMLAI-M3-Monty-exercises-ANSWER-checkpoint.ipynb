{
 "cells": [
  {
   "cell_type": "code",
   "execution_count": 104,
   "metadata": {},
   "outputs": [],
   "source": [
    "import numpy as np\n",
    "import random\n",
    "from scipy.stats import bernoulli\n",
    "from random import randrange\n",
    "import matplotlib.pyplot as plt\n",
    "random.seed(23)"
   ]
  },
  {
   "cell_type": "markdown",
   "metadata": {},
   "source": [
    "## Modified Monty Hall Game\n",
    "- You are playing a game that is very similar to the Monty Hall game\n",
    "- There are 3 identical doors, one having a car behind, and the other two having goats behind\n",
    "- You pick a door, e.g., the second door\n",
    "- The host throws a fair coin: if it is heads, then the game ends and your door is opened. Otherwise, \n",
    "- The host rolls two fair dice. If the sum of numbers is more than 9, then the game ends similarly. Otherwise, the host opens one of the remaining two doors which has a goat behind.\n",
    "- The host asks you whether you would like to switch your door. You throw a loaded join which shows head 80\\% of the time. If the coin shows head, you switch your door. Otherwise you hold on to your original door.\n",
    "\n",
    "What is the probability of winning this game? Use Monte Carlo simulation and simulate this game at least $100,000$ times."
   ]
  },
  {
   "cell_type": "code",
   "execution_count": 105,
   "metadata": {},
   "outputs": [],
   "source": [
    "#Open a door with a goat behind it \n",
    "\n",
    "def open_door(doors, winning_door):\n",
    "    if len(doors) != 2:\n",
    "        return None\n",
    "    else:\n",
    "        return random.choice([doors[i] for i in range(len(doors)) if doors[i] != winning_door])\n",
    "\n",
    "def simulate_round():\n",
    "    doors = [0,1,2]\n",
    "    winning_door = randrange(3)\n",
    "    picked_door = doors[1]\n",
    "    doors.remove(picked_door)\n",
    "    #print(\"The remaining doors are therefore:\", doors)\n",
    "    fair_coin_flip = bernoulli.rvs(p = 0.5, size = 1)\n",
    "    #it's a head\n",
    "    if fair_coin_flip == 1:\n",
    "        #open the picked door\n",
    "        #game ends\n",
    "        #print(\"The door\", picked_door, \"has been opened.\")\n",
    "        pass\n",
    "    else:\n",
    "        dice1 = np.random.randint(1,7)\n",
    "        dice2 = np.random.randint(1,7)\n",
    "        sum_dice = dice1 + dice2\n",
    "        if sum_dice > 9:\n",
    "            #print(\"Sum of dice:\", sum_dice)\n",
    "            #open the picked door\n",
    "            #game ends\n",
    "            #print(\"The door\", picked_door, \"has been opened.\")\n",
    "            pass\n",
    "        else:\n",
    "            #open a door with goat\n",
    "            opened_door = open_door(doors, winning_door)\n",
    "            #print(\"The host has opened: Door\", opened_door)\n",
    "            doors.remove(opened_door)\n",
    "            remaining_door = doors[0]\n",
    "            #asked whether to switch the door\n",
    "            #do it based on loaded dice \n",
    "            loaded_coin = bernoulli.rvs(p = 0.8, size = 1)\n",
    "            if loaded_coin == 1:\n",
    "                #its  a head\n",
    "                #switch the door\n",
    "                picked_door = remaining_door\n",
    "                #print(\"The picked door has been switched to: \", picked_door)\n",
    "            else:\n",
    "                #hold on to original door\n",
    "                #print(\"The chosen door is still\", picked_door, \".\")\n",
    "                pass\n",
    "\n",
    "    #print(\"Let's see if we won: (True means you are the winner!)\")\n",
    "    #print(picked_door == winning_door)\n",
    "    return int(picked_door == winning_door)"
   ]
  },
  {
   "cell_type": "code",
   "execution_count": 106,
   "metadata": {},
   "outputs": [],
   "source": [
    "simulate = 100000 #number of times to simulate\n",
    "results = np.zeros(simulate) #a lot of zeros \n",
    "for i in range(simulate):\n",
    "    results[i] = simulate_round()\n",
    "ratios = np.cumsum(results) / (np.arange(1,simulate+ 1)) #running ratios. ratios[10] would give us the percentage of times we won by round 10"
   ]
  },
  {
   "cell_type": "code",
   "execution_count": 107,
   "metadata": {},
   "outputs": [
    {
     "name": "stdout",
     "output_type": "stream",
     "text": [
      "We win with a 0.44633 fraction of the time!\n"
     ]
    }
   ],
   "source": [
    "print(\"We win with a\", ratios[-1], \"fraction of the time!\")"
   ]
  },
  {
   "cell_type": "code",
   "execution_count": 108,
   "metadata": {},
   "outputs": [
    {
     "data": {
      "image/png": "[encoded data removed]",
      "text/plain": [
       "<Figure size 432x288 with 1 Axes>"
      ]
     },
     "metadata": {
      "needs_background": "light"
     },
     "output_type": "display_data"
    }
   ],
   "source": [
    "plot_limit = 3000 #plot how the ratio changes oby increasing $n$\n",
    "x = np.arange(1, plot_limit + 1) \n",
    "y = ratios[:plot_limit]\n",
    "plt.title(r\"Win ratio\") \n",
    "plt.xlabel(\"n = number of rounds played\") \n",
    "plt.ylabel(r\"Cumulative win percentage\") \n",
    "plt.axhline(y = 2/3, color = 'k', linestyle='--', alpha = 0.6, label = r\"Probability of winning\")\n",
    "plt.plot(x,y, color='r') \n",
    "plt.xlim(-5,plot_limit)\n",
    "plt.ylim(0.4,0.8)\n",
    "plt.legend()\n",
    "plt.show()"
   ]
  },
  {
   "cell_type": "markdown",
   "metadata": {},
   "source": [
    "#### Explanation of theoretical probability\n",
    "We are switching the cells 33% of the time\n",
    "\n",
    "#### SWITCHING PROBABILITY (33%)\n",
    "1/2 (chose tails) * 5/6 (got sum < 9) * 0.8 (got heads on loaded coin) = 0.333\n",
    "\n",
    "\n",
    "#### NOT SWITCHING PROBABILITY (66%)\n",
    "1/2 (chose heads) + (1/2 (chose tails) * (1/6 (got sum > 9) + 5/6 (sum > 9) * ) * 0.2(got tails on loaded coin)\n",
    "\n",
    "\n",
    "= 0.666 or (1 - 0.333)"
   ]
  },
  {
   "cell_type": "markdown",
   "metadata": {},
   "source": [
    "#### Answer \n",
    "Total probability of winning = 2/3 * 0.333 (switching) + 1/3 * 0.6666 (not switching)\n",
    "= 0.444"
   ]
  }
 ],
 "metadata": {
  "kernelspec": {
   "display_name": "Python 3",
   "language": "python",
   "name": "python3"
  },
  "language_info": {
   "codemirror_mode": {
    "name": "ipython",
    "version": 3
   },
   "file_extension": ".py",
   "mimetype": "text/x-python",
   "name": "python",
   "nbconvert_exporter": "python",
   "pygments_lexer": "ipython3",
   "version": "3.8.2"
  }
 },
 "nbformat": 4,
 "nbformat_minor": 5
}
