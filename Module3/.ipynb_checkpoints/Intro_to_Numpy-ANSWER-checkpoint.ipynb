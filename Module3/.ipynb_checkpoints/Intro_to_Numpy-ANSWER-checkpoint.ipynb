{
 "cells": [
  {
   "cell_type": "code",
   "execution_count": 2,
   "metadata": {
    "id": "a6b48909"
   },
   "outputs": [],
   "source": [
    "import numpy as np"
   ]
  },
  {
   "cell_type": "markdown",
   "metadata": {
    "id": "a40734c3"
   },
   "source": [
    "## A quick introduction to NumPy"
   ]
  },
  {
   "cell_type": "markdown",
   "metadata": {
    "id": "97fce0d5"
   },
   "source": [
    "### Arrays\n",
    "- You throw a die several times and record the outcomes: \"1 - 2 - 1 - 1 - 6 - 5 - 1\"\n",
    "- Record the values in an array"
   ]
  },
  {
   "cell_type": "code",
   "execution_count": 3,
   "metadata": {
    "id": "868a2a74"
   },
   "outputs": [],
   "source": [
    "values = np.array([1,2,1,1,6,5,1])"
   ]
  },
  {
   "cell_type": "markdown",
   "metadata": {
    "id": "b542603a"
   },
   "source": [
    "- Obtain the value you had in the third throw."
   ]
  },
  {
   "cell_type": "code",
   "execution_count": 4,
   "metadata": {
    "id": "674fc1e0",
    "outputId": "7b34f5aa-58dc-4e5a-881e-281a116ee4f6"
   },
   "outputs": [
    {
     "data": {
      "text/plain": [
       "1"
      ]
     },
     "execution_count": 4,
     "metadata": {},
     "output_type": "execute_result"
    }
   ],
   "source": [
    "values[2] #the first throw is indexed with '0'"
   ]
  },
  {
   "cell_type": "markdown",
   "metadata": {
    "id": "36c1a763"
   },
   "source": [
    "- Obtain the second last value you had"
   ]
  },
  {
   "cell_type": "code",
   "execution_count": 5,
   "metadata": {
    "id": "c1e6915b",
    "outputId": "ec6d327e-c13c-4954-97be-e141afe1d45a"
   },
   "outputs": [
    {
     "data": {
      "text/plain": [
       "5"
      ]
     },
     "execution_count": 5,
     "metadata": {},
     "output_type": "execute_result"
    }
   ],
   "source": [
    "values[-2]"
   ]
  },
  {
   "cell_type": "markdown",
   "metadata": {
    "id": "1ee7f08b"
   },
   "source": [
    "- What is the sum of every value we saw in the experiments?"
   ]
  },
  {
   "cell_type": "code",
   "execution_count": 6,
   "metadata": {
    "id": "d0b4b02b",
    "outputId": "0891ff5b-ba54-4dc6-f81a-ecdc363b688f"
   },
   "outputs": [
    {
     "data": {
      "text/plain": [
       "17"
      ]
     },
     "execution_count": 6,
     "metadata": {},
     "output_type": "execute_result"
    }
   ],
   "source": [
    "np.sum(values)"
   ]
  },
  {
   "cell_type": "markdown",
   "metadata": {
    "id": "242f6ca3"
   },
   "source": [
    "- What is the frequency of each number we saw?"
   ]
  },
  {
   "cell_type": "code",
   "execution_count": 7,
   "metadata": {
    "id": "945cf59a",
    "outputId": "bff6dedd-5b4b-4812-e610-00d1d4f9dab7"
   },
   "outputs": [
    {
     "data": {
      "text/plain": [
       "{1: 4, 2: 1, 5: 1, 6: 1}"
      ]
     },
     "execution_count": 7,
     "metadata": {},
     "output_type": "execute_result"
    }
   ],
   "source": [
    "unique, counts = np.unique(values, return_counts=True)\n",
    "dict(zip(unique, counts))"
   ]
  },
  {
   "cell_type": "markdown",
   "metadata": {
    "id": "49802c26"
   },
   "source": [
    "- You keep throw the die three more times and observe \"2-4-3\"\n",
    "- How do you update `values` without changing the order?"
   ]
  },
  {
   "cell_type": "code",
   "execution_count": 8,
   "metadata": {
    "id": "88e8b848",
    "outputId": "f1662105-2825-458f-fa1a-2c780ce0eec3"
   },
   "outputs": [
    {
     "data": {
      "text/plain": [
       "array([1, 2, 1, 1, 6, 5, 1, 2, 4, 3])"
      ]
     },
     "execution_count": 8,
     "metadata": {},
     "output_type": "execute_result"
    }
   ],
   "source": [
    "values = np.append(values, [2,4,3]) #you change 'values' / \n",
    "#to another array that is obtained via appending \"3-4-3\" to 'values'\n",
    "values"
   ]
  },
  {
   "cell_type": "markdown",
   "metadata": {
    "id": "4074cbe9"
   },
   "source": [
    "- You are suspected that the die is not a fair one. \n",
    "- Estimate the probability distribution of the random variable of the die's outcome."
   ]
  },
  {
   "cell_type": "code",
   "execution_count": 9,
   "metadata": {
    "id": "480c6160",
    "outputId": "a4fd4320-e4ed-46ae-f14a-d2d6256f7007",
    "scrolled": true
   },
   "outputs": [
    {
     "data": {
      "image/png": "[encoded data removed]",
      "text/plain": [
       "<Figure size 432x288 with 1 Axes>"
      ]
     },
     "metadata": {
      "needs_background": "light"
     },
     "output_type": "display_data"
    }
   ],
   "source": [
    "import matplotlib.pyplot as plt\n",
    "unique, counts = np.unique(values, return_counts=True)\n",
    "plt.vlines(unique, 0, counts/10,lw = 55)\n",
    "plt.ylim(0, max(counts/10) * 1.06)\n",
    "plt.title(\"Density estimation\")\n",
    "plt.show()"
   ]
  },
  {
   "cell_type": "markdown",
   "metadata": {
    "id": "72f53b26"
   },
   "source": [
    "### Arithmetics\n",
    "- List all the two-digit positive integers"
   ]
  },
  {
   "cell_type": "code",
   "execution_count": 10,
   "metadata": {
    "id": "567d5ed6",
    "outputId": "741cdb7a-6da2-487b-95fa-8efa1d6ad6e9"
   },
   "outputs": [
    {
     "data": {
      "text/plain": [
       "array([10, 11, 12, 13, 14, 15, 16, 17, 18, 19, 20, 21, 22, 23, 24, 25, 26,\n",
       "       27, 28, 29, 30, 31, 32, 33, 34, 35, 36, 37, 38, 39, 40, 41, 42, 43,\n",
       "       44, 45, 46, 47, 48, 49, 50, 51, 52, 53, 54, 55, 56, 57, 58, 59, 60,\n",
       "       61, 62, 63, 64, 65, 66, 67, 68, 69, 70, 71, 72, 73, 74, 75, 76, 77,\n",
       "       78, 79, 80, 81, 82, 83, 84, 85, 86, 87, 88, 89, 90, 91, 92, 93, 94,\n",
       "       95, 96, 97, 98, 99])"
      ]
     },
     "execution_count": 10,
     "metadata": {},
     "output_type": "execute_result"
    }
   ],
   "source": [
    "two_digits = np.arange(10,100) #from 10 (including), up to 100 (excluding)\n",
    "two_digits"
   ]
  },
  {
   "cell_type": "markdown",
   "metadata": {
    "id": "c3074599"
   },
   "source": [
    "- How many numbers are there in the sequence S = 1, 4, 7, ..., 1005 for k?"
   ]
  },
  {
   "cell_type": "code",
   "execution_count": 11,
   "metadata": {
    "id": "3af71ba0",
    "outputId": "4f021d4b-f2b0-4e9f-d109-a21a68f7a103"
   },
   "outputs": [
    {
     "data": {
      "text/plain": [
       "335"
      ]
     },
     "execution_count": 11,
     "metadata": {},
     "output_type": "execute_result"
    }
   ],
   "source": [
    "S = np.arange(1,1006, 3) #of course this is a very long way and we know how to derive this analytically!\n",
    "np.shape(S)[0]"
   ]
  },
  {
   "cell_type": "markdown",
   "metadata": {
    "id": "590181fa"
   },
   "source": [
    "- You are throwing a 6-sided dice and right after you do this your friend is telling you one of the letters 'a' 'b' 'c' 'd' 'e' 'f' 'g'\n",
    "- What are the possible number of outcomes of this whole 'experiment'?"
   ]
  },
  {
   "cell_type": "code",
   "execution_count": 12,
   "metadata": {
    "id": "32ba484c",
    "outputId": "536bcec5-175b-42a0-8eab-5be61688a3ee",
    "scrolled": true
   },
   "outputs": [
    {
     "name": "stdout",
     "output_type": "stream",
     "text": [
      "(1, 'a')\n",
      "(1, 'b')\n",
      "(1, 'c')\n",
      "(1, 'd')\n",
      "(1, 'e')\n",
      "(1, 'f')\n",
      "(1, 'g')\n",
      "(2, 'a')\n",
      "(2, 'b')\n",
      "(2, 'c')\n",
      "(2, 'd')\n",
      "(2, 'e')\n",
      "(2, 'f')\n",
      "(2, 'g')\n",
      "(3, 'a')\n",
      "(3, 'b')\n",
      "(3, 'c')\n",
      "(3, 'd')\n",
      "(3, 'e')\n",
      "(3, 'f')\n",
      "(3, 'g')\n",
      "(4, 'a')\n",
      "(4, 'b')\n",
      "(4, 'c')\n",
      "(4, 'd')\n",
      "(4, 'e')\n",
      "(4, 'f')\n",
      "(4, 'g')\n",
      "(5, 'a')\n",
      "(5, 'b')\n",
      "(5, 'c')\n",
      "(5, 'd')\n",
      "(5, 'e')\n",
      "(5, 'f')\n",
      "(5, 'g')\n",
      "(6, 'a')\n",
      "(6, 'b')\n",
      "(6, 'c')\n",
      "(6, 'd')\n",
      "(6, 'e')\n",
      "(6, 'f')\n",
      "(6, 'g')\n"
     ]
    }
   ],
   "source": [
    "import string #alphabet will be imported from here\n",
    "from itertools import product #we will use cartesian product\n",
    "numbers = np.arange(1,7)\n",
    "letters = list(string.ascii_lowercase)[:7] #take all letters in alphabet then keep until 'g'\n",
    "for element in product(numbers, letters):\n",
    "    print(element)\n",
    "#or save as np.array(list(product(numbers, letters)))"
   ]
  },
  {
   "cell_type": "markdown",
   "metadata": {
    "id": "3c068099"
   },
   "source": [
    "### Matrices"
   ]
  },
  {
   "cell_type": "markdown",
   "metadata": {
    "id": "b88d8dec"
   },
   "source": [
    "- You record a coin-throwing experiment 10 times and obtain 'H-T-H-H-H-T-T-T-T-H'"
   ]
  },
  {
   "cell_type": "code",
   "execution_count": 13,
   "metadata": {
    "id": "03528bb6"
   },
   "outputs": [],
   "source": [
    "values = np.array(['H','T', 'H','H','H','T','T','T','T','H'])"
   ]
  },
  {
   "cell_type": "markdown",
   "metadata": {
    "id": "50f34e52"
   },
   "source": [
    "- You would like to encode this information with binary values (e.g., 'H' is 1, 'T' is 0)"
   ]
  },
  {
   "cell_type": "code",
   "execution_count": 14,
   "metadata": {
    "id": "a617ce52",
    "outputId": "f46de273-5a3e-4151-b029-d7076cc0952e"
   },
   "outputs": [
    {
     "data": {
      "text/plain": [
       "array([1, 0, 1, 1, 1, 0, 0, 0, 0, 1])"
      ]
     },
     "execution_count": 14,
     "metadata": {},
     "output_type": "execute_result"
    }
   ],
   "source": [
    "values = np.where(values == \"H\", 1, 0)\n",
    "values"
   ]
  },
  {
   "cell_type": "markdown",
   "metadata": {
    "id": "96918e03"
   },
   "source": [
    "- You try to see whether or not the coin is a fair one"
   ]
  },
  {
   "cell_type": "code",
   "execution_count": 15,
   "metadata": {
    "id": "66c9d75b",
    "outputId": "a426adea-b22e-4452-80c6-f7cb09506c31"
   },
   "outputs": [
    {
     "data": {
      "text/plain": [
       "0.5"
      ]
     },
     "execution_count": 15,
     "metadata": {},
     "output_type": "execute_result"
    }
   ],
   "source": [
    "np.mean(values)"
   ]
  },
  {
   "cell_type": "markdown",
   "metadata": {
    "id": "25fddc3e"
   },
   "source": [
    "- Then you remember the first 5 flips was with coin #1, where the last 5 flips were with coin #2"
   ]
  },
  {
   "cell_type": "code",
   "execution_count": 16,
   "metadata": {
    "id": "1cf4c946",
    "outputId": "ba83f06b-3173-4e1a-de47-87cbf529057d"
   },
   "outputs": [
    {
     "data": {
      "text/plain": [
       "array([[1, 0, 1, 1, 1],\n",
       "       [0, 0, 0, 0, 1]])"
      ]
     },
     "execution_count": 16,
     "metadata": {},
     "output_type": "execute_result"
    }
   ],
   "source": [
    "values = values.reshape(2,5) #row 1 is the first coin\n",
    "values #this is a 2-D array (similar to a matrix when the elements are numerical)"
   ]
  },
  {
   "cell_type": "markdown",
   "metadata": {
    "id": "51dc5dfa"
   },
   "source": [
    "- Now you try to estimate whether each coin is fair"
   ]
  },
  {
   "cell_type": "code",
   "execution_count": 17,
   "metadata": {
    "id": "12ffb1c0",
    "outputId": "5f496224-7d64-48bd-b0c3-4c24614cf9fb"
   },
   "outputs": [
    {
     "data": {
      "text/plain": [
       "array([0.8, 0.2])"
      ]
     },
     "execution_count": 17,
     "metadata": {},
     "output_type": "execute_result"
    }
   ],
   "source": [
    "np.mean(values, axis = 1) #row-by-row mean"
   ]
  },
  {
   "cell_type": "markdown",
   "metadata": {
    "id": "e59114e5"
   },
   "source": [
    "- You throw coin #1 two times and obtain 'H-T', and throw coin #2 three times and obtain 'H-H-H'. \n",
    "- How do you store this data? (Note that the size varies by coin)"
   ]
  },
  {
   "cell_type": "code",
   "execution_count": 18,
   "metadata": {
    "id": "6742d41a",
    "outputId": "4d8a70cb-eb22-4e96-8088-b1561c23be9a"
   },
   "outputs": [
    {
     "data": {
      "text/plain": [
       "array([list([1, 0]), list([1, 1, 1])], dtype=object)"
      ]
     },
     "execution_count": 18,
     "metadata": {},
     "output_type": "execute_result"
    }
   ],
   "source": [
    "arr = np.array([[1, 0], [1,1,1]], dtype=object)\n",
    "arr"
   ]
  },
  {
   "cell_type": "code",
   "execution_count": 19,
   "metadata": {
    "id": "4fafccbd",
    "outputId": "b225664a-3a5a-493f-e962-a077e0e23a1c"
   },
   "outputs": [
    {
     "data": {
      "text/plain": [
       "[1, 0]"
      ]
     },
     "execution_count": 19,
     "metadata": {},
     "output_type": "execute_result"
    }
   ],
   "source": [
    "arr[0] # first coin"
   ]
  },
  {
   "cell_type": "code",
   "execution_count": 20,
   "metadata": {
    "id": "fb2b20e0",
    "outputId": "e8939d8d-b77a-4c6a-f394-1f6f9cdc0e3b"
   },
   "outputs": [
    {
     "data": {
      "text/plain": [
       "[1, 1, 1]"
      ]
     },
     "execution_count": 20,
     "metadata": {},
     "output_type": "execute_result"
    }
   ],
   "source": [
    "arr[1] # second coin"
   ]
  },
  {
   "cell_type": "code",
   "execution_count": null,
   "metadata": {},
   "outputs": [],
   "source": []
  },
  {
   "cell_type": "code",
   "execution_count": null,
   "metadata": {},
   "outputs": [],
   "source": []
  }
 ],
 "metadata": {
  "colab": {
   "collapsed_sections": [],
   "name": "Intro to Numpy.ipynb",
   "provenance": []
  },
  "kernelspec": {
   "display_name": "Python 3",
   "language": "python",
   "name": "python3"
  },
  "language_info": {
   "codemirror_mode": {
    "name": "ipython",
    "version": 3
   },
   "file_extension": ".py",
   "mimetype": "text/x-python",
   "name": "python",
   "nbconvert_exporter": "python",
   "pygments_lexer": "ipython3",
   "version": "3.8.2"
  }
 },
 "nbformat": 4,
 "nbformat_minor": 5
}
