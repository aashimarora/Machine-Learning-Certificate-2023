{
 "cells": [
  {
   "cell_type": "markdown",
   "metadata": {},
   "source": [
    "## PROJECT TITLE \n",
    "\n",
    "#### AI Dermatologist: Detect skin lesions in a multi-class classification problem using CNNs\n",
    "\n",
    "### NON-TECHNICAL EXPLANATION OF YOUR PROJECT\n",
    "An AI dermatologist utilizing a skin diseases dataset employs Convolutional Neural Networks (CNNs) to analyze dermatological images. Through deep learning, CNNs automatically extract features from images, aiding in the classification of various skin conditions such as melanoma, psoriasis, and eczema. Trained on a diverse dataset, the model learns to distinguish between different skin diseases, assisting dermatologists in accurate diagnosis and treatment planning. This technology revolutionizes dermatology by providing efficient and reliable support in image-based diagnosis, enhancing patient care and outcomes through the integration of artificial intelligence in clinical practice.\n",
    "\n",
    "### DATA\n",
    "I am using the 20 Skin diseases dataset.\n",
    "\n",
    "https://www.kaggle.com/datasets/haroonalam16/20-skin-diseases-dataset\n",
    "\n",
    "('Acne and Rosacea Photos', 840), ('Actinic Keratosis Basal Cell Carcinoma and other Malignant Lesions', 322), ('Light Diseases and Disorders of Pigmentation', 299), ('Warts Molluscum and other Viral Infections', 248), ('Tinea Ringworm Candidiasis and other Fungal Infections', 122), ('Vascular Tumors', 101), ('Atopic Dermatitis Photos', 100), ('Lupus and other Connective Tissue diseases', 90), ('Systemic Disease', 81), ('Seborrheic Keratoses and other Benign Tumors', 80), ('Cellulitis Impetigo and other Bacterial Infections', 65), ('Poison Ivy Photos and other Contact Dermatitis', 62), ('Psoriasis pictures Lichen Planus and related diseases', 62), ('Herpes HPV and other STDs Photos', 40), ('Eczema Photos', 35), ('Melanoma Skin Cancer Nevi and Moles', 24), ('Exanthems and Drug Eruptions', 20), ('Vasculitis Photos', 15), ('Urticaria Hives', 3)\n",
    "\n",
    "### MODEL \n",
    "I am using a CNN architecture inspired my LeNet5. CNNs offer a powerful and versatile framework for image analysis in dermatology, enabling automated diagnosis, classification, and decision support in clinical practice. Their ability to learn discriminative features directly from raw images makes them indispensable tools for AI-driven dermatological diagnosis and patient care.\n",
    "\n",
    "#### HYPERPARAMETER OPTIMISATION\n",
    "Various hyperparamters that I chose to tune were:\n",
    "Learning Rate, Optimizer, number of epochs, Additonal CNN layers, number of filters, size of kernel, add dropout to prevent overfitting.\n",
    "\n",
    "I used the following ideas: \n",
    "Learning Rate: Ensure that the learning rate used for training is appropriate. If the learning rate is too high, the optimization process may overshoot the optimal solution and fail to converge. Conversely, if the learning rate is too low, the optimization process may progress very slowly. Experiment with adjusting the learning rate, either increasing or decreasing it, and observe its impact on the loss curve.\n",
    "\n",
    "Inspect Model Complexity: Evaluate if the model architecture is sufficiently complex to capture the underlying patterns in the data. If the model is too simple, it may struggle to learn the intricacies of the dataset, leading to poor performance. Consider increasing the model's capacity by adding more layers, increasing the number of filters in convolutional layers, or adding dropout layers to prevent overfitting.\n",
    "\n",
    "Check Data Preprocessing: Ensure that the input data is preprocessed appropriately. Common preprocessing steps include normalization (scaling pixel values to the range [0, 1] or [-1, 1]), data augmentation (randomly applying transformations such as rotation, flipping, or scaling to increase dataset diversity), and handling missing or noisy data.\n",
    "\n",
    "Increase Training Epochs: Sometimes, the model may require more training epochs to converge to a good solution. Try increasing the number of epochs beyond 5 and monitor the loss curve. However, be cautious of overfitting if training for too many epochs without regularization techniques.\n",
    "\n",
    "Monitor Validation Loss: Check if the validation loss is also stagnant or increasing. If the validation loss is increasing while the training loss remains constant, it indicates overfitting. In such cases, consider using techniques like early stopping or regularization (e.g., dropout, weight decay) to prevent overfitting.\n",
    "\n",
    "Explore Different Optimizers: Experiment with different optimization algorithms such as Adam, RMSprop, or SGD with momentum. Each optimizer has its strengths and may perform differently on your specific problem and dataset.\n",
    "\n",
    "Debug Model Implementation: Double-check the implementation of your CNN model, loss function, and data loading pipeline for any bugs or inconsistencies. Ensure that the forward pass, backward pass, and gradient updates are correctly implemented.\n",
    "\n",
    "### RESULTS\n",
    "The dataset is imbalanced and produced the following results on each of the classes. The overall accuracy was 53 % \n",
    "\n",
    "Accuracy of Acne and Rosacea Photos : 94 %\n",
    "\n",
    "Accuracy of Seborrheic Keratoses and other Benign Tumors : 22 %\n",
    "\n",
    "Accuracy of Actinic Keratosis Basal Cell Carcinoma and other Malignant Lesions : 22 %\n",
    "\n",
    "Accuracy of Tinea Ringworm Candidiasis and other Fungal Infections : 21 %\n",
    "Accuracy of Herpes HPV and other STDs Photos : 16 %\n",
    "\n",
    "Accuracy of Lupus and other Connective Tissue diseases : 16 %\n",
    "\n",
    "Accuracy of Warts Molluscum and other Viral Infections : 15 %\n",
    "\n",
    "Accuracy of Systemic Disease : 11 %\n",
    "\n",
    "Accuracy of Poison Ivy Photos and other Contact Dermatitis :  7 %\n",
    "\n",
    "Accuracy of Cellulitis Impetigo and other Bacterial Infections :  7 %\n",
    "\n",
    "Accuracy of Vascular Tumors :  5 %\n",
    "\n",
    "Accuracy of Psoriasis pictures Lichen Planus and related diseases :  4 %\n",
    "\n",
    "Accuracy of Atopic Dermatitis Photos :  4 %\n",
    "\n",
    "Accuracy of Light Diseases and Disorders of Pigmentation :  3 %\n",
    "\n",
    "Accuracy of Urticaria Hives :  0 %\n",
    "\n",
    "Accuracy of Eczema Photos :  0 %\n",
    "\n",
    "Accuracy of Exanthems and Drug Eruptions :  0 %\n",
    "\n",
    "Accuracy of Melanoma Skin Cancer Nevi and Moles :  0 %\n",
    "\n",
    "Accuracy of Vasculitis Photos :  0 %"
   ]
  },
  {
   "cell_type": "code",
   "execution_count": 4,
   "metadata": {},
   "outputs": [],
   "source": [
    "%matplotlib inline"
   ]
  },
  {
   "cell_type": "code",
   "execution_count": 54,
   "metadata": {},
   "outputs": [],
   "source": [
    "import torchvision\n",
    "from torchvision.datasets import ImageFolder\n",
    "import argparse\n",
    "import torch\n",
    "import torch.nn as nn\n",
    "import torch.nn.functional as F\n",
    "import torch.optim as optim\n",
    "from torchvision import datasets, transforms, utils\n",
    "from torch.utils.data import Dataset\n",
    "from PIL import Image\n",
    "import os\n",
    "import collections\n",
    "import time\n",
    "import matplotlib.pyplot as plt\n",
    "import torch.optim as optim"
   ]
  },
  {
   "cell_type": "code",
   "execution_count": 105,
   "metadata": {},
   "outputs": [],
   "source": [
    "import numpy as np\n",
    "np.object = object \n",
    "np.bool = bool\n",
    "import tensorflow\n",
    "from torch.utils.tensorboard import SummaryWriter"
   ]
  },
  {
   "cell_type": "code",
   "execution_count": 6,
   "metadata": {},
   "outputs": [
    {
     "name": "stdout",
     "output_type": "stream",
     "text": [
      "[('Acne and Rosacea Photos', 840), ('Actinic Keratosis Basal Cell Carcinoma and other Malignant Lesions', 322), ('Light Diseases and Disorders of Pigmentation', 299), ('Warts Molluscum and other Viral Infections', 248), ('Tinea Ringworm Candidiasis and other Fungal Infections', 122), ('Vascular Tumors', 101), ('Atopic Dermatitis Photos', 100), ('Lupus and other Connective Tissue diseases', 90), ('Systemic Disease', 81), ('Seborrheic Keratoses and other Benign Tumors', 80), ('Cellulitis Impetigo and other Bacterial Infections', 65), ('Poison Ivy Photos and other Contact Dermatitis', 62), ('Psoriasis pictures Lichen Planus and related diseases', 62), ('Herpes HPV and other STDs Photos', 40), ('Eczema Photos', 35), ('Melanoma Skin Cancer Nevi and Moles', 24), ('Exanthems and Drug Eruptions', 20), ('Vasculitis Photos', 15), ('Urticaria Hives', 3)]\n"
     ]
    }
   ],
   "source": [
    "#Apply transform\n",
    "\n",
    "transform = transforms.Compose([\n",
    "      # Resize images to 32x32 pixels\n",
    "    transforms.ToTensor(),    \n",
    "    transforms.Resize((192,192),antialias=True),# Convert images to tensors\n",
    "    transforms.Normalize((0.5, 0.5, 0.5), (0.5, 0.5, 0.5))  # Normalize pixel values\n",
    "])\n",
    "train_dir = './Dataset/train'\n",
    "\n",
    "classes = [d for _,d,_ in os.walk(train_dir) if len(d)][0]\n",
    "labels_map = {classes[k]:k for k in range(0,len(classes))}\n",
    "len(classes)\n",
    "imbalance = collections.defaultdict(int)\n",
    "for dirpath, dirnames, filenames in os.walk(train_dir):\n",
    "    for f in filenames:\n",
    "        if not f.startswith('.'):\n",
    "            full_path = os.path.join(dirpath, f)  # Construct full path once\n",
    "            imbalance[full_path.split('/')[-2]] += 1\n",
    "\n",
    "print(sorted(imbalance.items(), key=lambda k:k[1], reverse=True))\n"
   ]
  },
  {
   "cell_type": "code",
   "execution_count": 7,
   "metadata": {},
   "outputs": [],
   "source": [
    "class SkinCondition(Dataset):\n",
    "    def __init__(self, data_directory, transform=None):\n",
    "        self.data_directory = data_directory\n",
    "        self.transform = transform\n",
    "        self.filenames = []\n",
    "        self.labels = []\n",
    "        for dirpath, dirnames, filenames in os.walk(data_directory):\n",
    "            for f in filenames:\n",
    "                if not f.startswith('.'):\n",
    "                    full_path = os.path.join(dirpath, f)  # Construct full path once\n",
    "                    self.filenames.append(full_path) \n",
    "                    self.labels.append(labels_map[full_path.split('/')[-2]])\n",
    "    \n",
    "    def __len__(self):\n",
    "        return len(self.filenames)\n",
    "    \n",
    "    def __getitem__(self, idx):\n",
    "        img_path = self.filenames[idx]  \n",
    "        image = Image.open(img_path)\n",
    "        label = self.labels[idx]\n",
    "        if self.transform:\n",
    "            image = self.transform(image)\n",
    "        return image, label"
   ]
  },
  {
   "cell_type": "code",
   "execution_count": 8,
   "metadata": {},
   "outputs": [
    {
     "name": "stdout",
     "output_type": "stream",
     "text": [
      "Length of training data: 2609\n",
      "Length of test data: 895\n"
     ]
    }
   ],
   "source": [
    "trainset = SkinCondition(data_directory='./Dataset/train', transform=transform)\n",
    "trainloader = torch.utils.data.DataLoader(trainset, batch_size=10,\n",
    "                                          shuffle=True, num_workers=0)\n",
    "print(\"Length of training data:\", len(trainset))\n",
    "\n",
    "testset = SkinCondition(data_directory='./Dataset/test', transform=transform)\n",
    "\n",
    "testloader = torch.utils.data.DataLoader(testset, batch_size=5,\n",
    "                                         shuffle=False, num_workers=0)\n",
    "print(\"Length of test data:\", len(testset))\n"
   ]
  },
  {
   "cell_type": "markdown",
   "metadata": {},
   "source": [
    "Let us show some of the training images, for fun.\n",
    "\n"
   ]
  },
  {
   "cell_type": "code",
   "execution_count": 9,
   "metadata": {},
   "outputs": [
    {
     "data": {
      "image/png": "[encoded data removed]",
      "text/plain": [
       "<Figure size 432x288 with 1 Axes>"
      ]
     },
     "metadata": {
      "needs_background": "light"
     },
     "output_type": "display_data"
    },
    {
     "name": "stdout",
     "output_type": "stream",
     "text": [
      "Seborrheic Keratoses and other Benign Tumors Acne and Rosacea Photos Actinic Keratosis Basal Cell Carcinoma and other Malignant Lesions Acne and Rosacea Photos\n"
     ]
    }
   ],
   "source": [
    "import matplotlib.pyplot as plt\n",
    "import numpy as np\n",
    "\n",
    "# functions to show an image\n",
    "\n",
    "\n",
    "def imshow(img):\n",
    "    img = img / 2 + 0.5     # unnormalize\n",
    "    npimg = img.numpy()\n",
    "    plt.imshow(np.transpose(npimg, (1, 2, 0)))\n",
    "    plt.show()\n",
    "\n",
    "\n",
    "# get some random training images\n",
    "dataiter = iter(trainloader)\n",
    "images, labels = next(dataiter)\n",
    "\n",
    "# show images\n",
    "imshow(torchvision.utils.make_grid(images))\n",
    "# print labels\n",
    "print(' '.join('%5s' % classes[labels[j]] for j in range(4)))"
   ]
  },
  {
   "cell_type": "markdown",
   "metadata": {},
   "source": [
    "2. Define a Convolutional Neural Network\n",
    "\n",
    "\n",
    "Copy the neural network from the Neural Networks section before and modify it to\n",
    "take 3-channel images (instead of 1-channel images as it was defined).\n",
    "\n"
   ]
  },
  {
   "cell_type": "code",
   "execution_count": 10,
   "metadata": {},
   "outputs": [
    {
     "name": "stdout",
     "output_type": "stream",
     "text": [
      "LetNet5: total params: 4123873\n"
     ]
    }
   ],
   "source": [
    "import torch.nn as nn\n",
    "import torch.nn.functional as F\n",
    "\n",
    "\n",
    "class Net(nn.Module):\n",
    "    def __init__(self, name=None):\n",
    "        super(Net, self).__init__()\n",
    "        if name:\n",
    "            self.name = name\n",
    "        self.dense = 16 * 45 * 45\n",
    "        self.conv1 = nn.Conv2d(3, 8, 5)\n",
    "        self.pool = nn.MaxPool2d(2, 2)\n",
    "        self.conv2 = nn.Conv2d(8, 16, 5)\n",
    "        #add dropout to prevent overfitting\n",
    "        self.dropout = nn.Dropout(p=0.5)  \n",
    "        self.fc1 = nn.Linear(self.dense, 120)\n",
    "        self.fc2 = nn.Linear(120, 84)\n",
    "        self.fc3 = nn.Linear(84, len(trainset.labels))\n",
    "        \n",
    "        # compute the total number of parameters\n",
    "        total_params = sum(p.numel() for p in self.parameters() if p.requires_grad)\n",
    "        print(self.name + ': total params:', total_params)\n",
    "\n",
    "    def forward(self, x):\n",
    "        x = self.pool(F.relu(self.conv1(x)))\n",
    "        x = self.pool(F.relu(self.conv2(x)))\n",
    "        x = x.view(-1, self.dense)\n",
    "        x = F.relu(self.fc1(x))\n",
    "        x = F.relu(self.fc2(x))\n",
    "        x = self.fc3(x)\n",
    "        return x\n",
    "\n",
    "\n",
    "net = Net(name='LetNet5')"
   ]
  },
  {
   "cell_type": "code",
   "execution_count": 15,
   "metadata": {},
   "outputs": [],
   "source": [
    "def train(net, trainloader, epochs=10):\n",
    "    start = time.time()\n",
    "    criterion = nn.CrossEntropyLoss()\n",
    "    optimizer = optim.Adam(net.parameters(), lr=0.001)\n",
    "    losses = []\n",
    "    for epoch in range(epochs):  # loop over the dataset multiple times\n",
    "\n",
    "        running_loss = 0.0\n",
    "        for i, data in enumerate(trainloader, 0):\n",
    "            # get the inputs; data is a list of [inputs, labels]\n",
    "            inputs, labels = data\n",
    "\n",
    "            # zero the parameter gradients\n",
    "            optimizer.zero_grad()\n",
    "\n",
    "            # forward + backward + optimize\n",
    "            outputs = net(inputs)\n",
    "            loss = criterion(outputs, labels)\n",
    "            loss.backward()\n",
    "            optimizer.step()\n",
    "\n",
    "            # print statistics\n",
    "            running_loss += loss.item()\n",
    "            if i % 10 == 9:    # print every 2000 mini-batches\n",
    "                print('[%d, %5d] loss: %.3f' %\n",
    "                      (epoch + 1, i + 1, running_loss / 10))\n",
    "                losses.append(running_loss / 10)\n",
    "                running_loss = 0.0\n",
    "\n",
    "    print('Finished Training')\n",
    "\n",
    "    end = time.time()\n",
    "    print('training time ', end-start)\n",
    "    return losses"
   ]
  },
  {
   "cell_type": "code",
   "execution_count": 16,
   "metadata": {},
   "outputs": [],
   "source": [
    "def plot_losses(losses):\n",
    "    X = range(1,len(losses)+1)\n",
    "    plt.plot(X,losses)"
   ]
  },
  {
   "cell_type": "code",
   "execution_count": 17,
   "metadata": {},
   "outputs": [],
   "source": [
    "def test(net, testloader):\n",
    "    correct = 0\n",
    "    total = 0\n",
    "    with torch.no_grad():\n",
    "        for data in testloader:\n",
    "            images, labels = data\n",
    "            outputs = net(images)\n",
    "            _, predicted = torch.max(outputs.data, 1)\n",
    "            total += labels.size(0)\n",
    "            correct += (predicted == labels).sum().item()\n",
    "\n",
    "    print(correct,total)\n",
    "    print('Accuracy of the network on the 895 test images: %d %%' % (\n",
    "        100 * correct / total))"
   ]
  },
  {
   "cell_type": "code",
   "execution_count": 18,
   "metadata": {},
   "outputs": [
    {
     "name": "stdout",
     "output_type": "stream",
     "text": [
      "[1,    10] loss: 3.039\n",
      "[1,    20] loss: 3.101\n",
      "[1,    30] loss: 2.642\n",
      "[1,    40] loss: 2.331\n",
      "[1,    50] loss: 2.679\n",
      "[1,    60] loss: 2.460\n",
      "[1,    70] loss: 2.595\n",
      "[1,    80] loss: 2.435\n",
      "[1,    90] loss: 2.391\n",
      "[1,   100] loss: 2.481\n",
      "[1,   110] loss: 2.219\n",
      "[1,   120] loss: 2.788\n",
      "[1,   130] loss: 2.419\n",
      "[1,   140] loss: 2.191\n",
      "[1,   150] loss: 2.302\n",
      "[1,   160] loss: 2.318\n",
      "[1,   170] loss: 2.289\n",
      "[1,   180] loss: 2.311\n",
      "[1,   190] loss: 2.188\n",
      "[1,   200] loss: 2.166\n",
      "[1,   210] loss: 2.272\n",
      "[1,   220] loss: 2.131\n",
      "[1,   230] loss: 2.526\n",
      "[1,   240] loss: 2.356\n",
      "[1,   250] loss: 2.468\n",
      "[1,   260] loss: 2.287\n",
      "[2,    10] loss: 2.398\n",
      "[2,    20] loss: 2.561\n",
      "[2,    30] loss: 2.324\n",
      "[2,    40] loss: 2.392\n",
      "[2,    50] loss: 2.452\n",
      "[2,    60] loss: 2.278\n",
      "[2,    70] loss: 2.359\n",
      "[2,    80] loss: 2.255\n",
      "[2,    90] loss: 2.229\n",
      "[2,   100] loss: 2.197\n",
      "[2,   110] loss: 2.311\n",
      "[2,   120] loss: 2.330\n",
      "[2,   130] loss: 2.274\n",
      "[2,   140] loss: 1.996\n",
      "[2,   150] loss: 2.419\n",
      "[2,   160] loss: 2.256\n",
      "[2,   170] loss: 2.195\n",
      "[2,   180] loss: 2.502\n",
      "[2,   190] loss: 2.272\n",
      "[2,   200] loss: 2.181\n",
      "[2,   210] loss: 2.091\n",
      "[2,   220] loss: 2.299\n",
      "[2,   230] loss: 2.384\n",
      "[2,   240] loss: 2.263\n",
      "[2,   250] loss: 2.166\n",
      "[2,   260] loss: 2.241\n",
      "[3,    10] loss: 2.360\n",
      "[3,    20] loss: 2.116\n",
      "[3,    30] loss: 2.120\n",
      "[3,    40] loss: 2.163\n",
      "[3,    50] loss: 2.097\n",
      "[3,    60] loss: 2.214\n",
      "[3,    70] loss: 2.225\n",
      "[3,    80] loss: 2.177\n",
      "[3,    90] loss: 2.269\n",
      "[3,   100] loss: 2.243\n",
      "[3,   110] loss: 2.278\n",
      "[3,   120] loss: 2.175\n",
      "[3,   130] loss: 2.275\n",
      "[3,   140] loss: 2.184\n",
      "[3,   150] loss: 2.002\n",
      "[3,   160] loss: 2.232\n",
      "[3,   170] loss: 2.035\n",
      "[3,   180] loss: 2.242\n",
      "[3,   190] loss: 2.267\n",
      "[3,   200] loss: 2.305\n",
      "[3,   210] loss: 2.315\n",
      "[3,   220] loss: 2.200\n",
      "[3,   230] loss: 2.065\n",
      "[3,   240] loss: 2.014\n",
      "[3,   250] loss: 2.044\n",
      "[3,   260] loss: 2.088\n",
      "[4,    10] loss: 2.023\n",
      "[4,    20] loss: 1.797\n",
      "[4,    30] loss: 2.117\n",
      "[4,    40] loss: 1.974\n",
      "[4,    50] loss: 2.048\n",
      "[4,    60] loss: 1.985\n",
      "[4,    70] loss: 1.960\n",
      "[4,    80] loss: 2.084\n",
      "[4,    90] loss: 2.005\n",
      "[4,   100] loss: 2.047\n",
      "[4,   110] loss: 2.053\n",
      "[4,   120] loss: 1.909\n",
      "[4,   130] loss: 2.028\n",
      "[4,   140] loss: 2.169\n",
      "[4,   150] loss: 1.934\n",
      "[4,   160] loss: 2.031\n",
      "[4,   170] loss: 1.853\n",
      "[4,   180] loss: 1.926\n",
      "[4,   190] loss: 1.838\n",
      "[4,   200] loss: 2.003\n",
      "[4,   210] loss: 1.981\n",
      "[4,   220] loss: 2.302\n",
      "[4,   230] loss: 1.889\n",
      "[4,   240] loss: 1.985\n",
      "[4,   250] loss: 1.993\n",
      "[4,   260] loss: 1.853\n",
      "[5,    10] loss: 1.712\n",
      "[5,    20] loss: 1.540\n",
      "[5,    30] loss: 1.378\n",
      "[5,    40] loss: 1.590\n",
      "[5,    50] loss: 1.372\n",
      "[5,    60] loss: 1.717\n",
      "[5,    70] loss: 1.892\n",
      "[5,    80] loss: 1.655\n",
      "[5,    90] loss: 1.694\n",
      "[5,   100] loss: 1.581\n",
      "[5,   110] loss: 1.644\n",
      "[5,   120] loss: 1.630\n",
      "[5,   130] loss: 1.578\n",
      "[5,   140] loss: 1.609\n",
      "[5,   150] loss: 1.584\n",
      "[5,   160] loss: 1.638\n",
      "[5,   170] loss: 1.707\n",
      "[5,   180] loss: 1.614\n",
      "[5,   190] loss: 1.433\n",
      "[5,   200] loss: 1.478\n",
      "[5,   210] loss: 1.456\n",
      "[5,   220] loss: 1.441\n",
      "[5,   230] loss: 1.508\n",
      "[5,   240] loss: 1.628\n",
      "[5,   250] loss: 1.480\n",
      "[5,   260] loss: 1.567\n",
      "[6,    10] loss: 1.091\n",
      "[6,    20] loss: 1.081\n",
      "[6,    30] loss: 0.969\n",
      "[6,    40] loss: 0.940\n",
      "[6,    50] loss: 1.232\n",
      "[6,    60] loss: 1.284\n",
      "[6,    70] loss: 1.352\n",
      "[6,    80] loss: 1.028\n",
      "[6,    90] loss: 0.973\n",
      "[6,   100] loss: 1.138\n",
      "[6,   110] loss: 0.893\n",
      "[6,   120] loss: 1.039\n",
      "[6,   130] loss: 1.100\n",
      "[6,   140] loss: 0.924\n",
      "[6,   150] loss: 0.914\n",
      "[6,   160] loss: 1.043\n",
      "[6,   170] loss: 1.079\n",
      "[6,   180] loss: 0.907\n",
      "[6,   190] loss: 1.182\n",
      "[6,   200] loss: 1.049\n",
      "[6,   210] loss: 1.105\n",
      "[6,   220] loss: 1.021\n",
      "[6,   230] loss: 1.015\n",
      "[6,   240] loss: 0.945\n",
      "[6,   250] loss: 1.223\n",
      "[6,   260] loss: 1.041\n",
      "[7,    10] loss: 0.695\n",
      "[7,    20] loss: 0.483\n",
      "[7,    30] loss: 0.519\n",
      "[7,    40] loss: 0.594\n",
      "[7,    50] loss: 0.602\n",
      "[7,    60] loss: 0.494\n",
      "[7,    70] loss: 0.583\n",
      "[7,    80] loss: 0.706\n",
      "[7,    90] loss: 0.599\n",
      "[7,   100] loss: 0.559\n",
      "[7,   110] loss: 0.606\n",
      "[7,   120] loss: 0.569\n",
      "[7,   130] loss: 0.743\n",
      "[7,   140] loss: 0.555\n",
      "[7,   150] loss: 0.401\n",
      "[7,   160] loss: 0.647\n",
      "[7,   170] loss: 0.540\n",
      "[7,   180] loss: 0.609\n",
      "[7,   190] loss: 0.652\n",
      "[7,   200] loss: 0.466\n",
      "[7,   210] loss: 0.452\n",
      "[7,   220] loss: 0.554\n",
      "[7,   230] loss: 0.538\n",
      "[7,   240] loss: 0.940\n",
      "[7,   250] loss: 0.620\n",
      "[7,   260] loss: 0.751\n",
      "[8,    10] loss: 0.431\n",
      "[8,    20] loss: 0.362\n",
      "[8,    30] loss: 0.324\n",
      "[8,    40] loss: 0.215\n",
      "[8,    50] loss: 0.408\n",
      "[8,    60] loss: 0.256\n",
      "[8,    70] loss: 0.367\n",
      "[8,    80] loss: 0.287\n",
      "[8,    90] loss: 0.291\n",
      "[8,   100] loss: 0.278\n",
      "[8,   110] loss: 0.276\n",
      "[8,   120] loss: 0.280\n",
      "[8,   130] loss: 0.284\n",
      "[8,   140] loss: 0.241\n",
      "[8,   150] loss: 0.319\n",
      "[8,   160] loss: 0.276\n",
      "[8,   170] loss: 0.304\n",
      "[8,   180] loss: 0.352\n",
      "[8,   190] loss: 0.390\n",
      "[8,   200] loss: 0.355\n",
      "[8,   210] loss: 0.376\n",
      "[8,   220] loss: 0.308\n",
      "[8,   230] loss: 0.405\n",
      "[8,   240] loss: 0.401\n",
      "[8,   250] loss: 0.502\n",
      "[8,   260] loss: 0.240\n",
      "[9,    10] loss: 0.174\n",
      "[9,    20] loss: 0.217\n",
      "[9,    30] loss: 0.266\n",
      "[9,    40] loss: 0.108\n",
      "[9,    50] loss: 0.212\n",
      "[9,    60] loss: 0.161\n",
      "[9,    70] loss: 0.212\n",
      "[9,    80] loss: 0.143\n",
      "[9,    90] loss: 0.132\n",
      "[9,   100] loss: 0.263\n",
      "[9,   110] loss: 0.093\n",
      "[9,   120] loss: 0.216\n",
      "[9,   130] loss: 0.212\n",
      "[9,   140] loss: 0.194\n",
      "[9,   150] loss: 0.123\n",
      "[9,   160] loss: 0.235\n",
      "[9,   170] loss: 0.195\n",
      "[9,   180] loss: 0.273\n",
      "[9,   190] loss: 0.093\n",
      "[9,   200] loss: 0.341\n",
      "[9,   210] loss: 0.312\n",
      "[9,   220] loss: 0.210\n",
      "[9,   230] loss: 0.231\n",
      "[9,   240] loss: 0.212\n",
      "[9,   250] loss: 0.245\n",
      "[9,   260] loss: 0.189\n",
      "[10,    10] loss: 0.132\n",
      "[10,    20] loss: 0.074\n",
      "[10,    30] loss: 0.237\n",
      "[10,    40] loss: 0.078\n",
      "[10,    50] loss: 0.187\n",
      "[10,    60] loss: 0.140\n",
      "[10,    70] loss: 0.063\n",
      "[10,    80] loss: 0.053\n",
      "[10,    90] loss: 0.040\n",
      "[10,   100] loss: 0.107\n",
      "[10,   110] loss: 0.081\n",
      "[10,   120] loss: 0.065\n",
      "[10,   130] loss: 0.233\n",
      "[10,   140] loss: 0.059\n",
      "[10,   150] loss: 0.153\n",
      "[10,   160] loss: 0.055\n",
      "[10,   170] loss: 0.177\n",
      "[10,   180] loss: 0.100\n",
      "[10,   190] loss: 0.183\n",
      "[10,   200] loss: 0.104\n",
      "[10,   210] loss: 0.072\n",
      "[10,   220] loss: 0.119\n",
      "[10,   230] loss: 0.208\n",
      "[10,   240] loss: 0.147\n",
      "[10,   250] loss: 0.218\n",
      "[10,   260] loss: 0.208\n",
      "Finished Training\n",
      "training time  1025.3762290477753\n"
     ]
    }
   ],
   "source": [
    "epochs=10\n",
    "losses = train(net, trainloader, epochs)\n"
   ]
  },
  {
   "cell_type": "code",
   "execution_count": 19,
   "metadata": {},
   "outputs": [
    {
     "data": {
      "image/png": "[encoded data removed]",
      "text/plain": [
       "<Figure size 432x288 with 1 Axes>"
      ]
     },
     "metadata": {
      "needs_background": "light"
     },
     "output_type": "display_data"
    }
   ],
   "source": [
    "plot_losses(losses)"
   ]
  },
  {
   "cell_type": "code",
   "execution_count": 20,
   "metadata": {},
   "outputs": [
    {
     "name": "stdout",
     "output_type": "stream",
     "text": [
      "486 895\n",
      "Accuracy of the network on the 895 test images: 54 %\n"
     ]
    }
   ],
   "source": [
    "test(net, testloader)"
   ]
  },
  {
   "cell_type": "markdown",
   "metadata": {},
   "source": [
    "That looks way better than chance, which is 5% accuracy (randomly picking\n",
    "a class out of 19 classes).\n",
    "Seems like the network learnt something.\n",
    "\n",
    "Hmmm, what are the classes that performed well, and the classes that did\n",
    "not perform well:\n",
    "\n"
   ]
  },
  {
   "cell_type": "code",
   "execution_count": 23,
   "metadata": {},
   "outputs": [],
   "source": [
    "class_correct = list(0. for i in range(20))\n",
    "class_total = list(0. for i in range(20))\n",
    "classes_test = [d for _,d,_ in os.walk('./Dataset/test') if len(d)][0]\n",
    "\n",
    "with torch.no_grad():\n",
    "    for data in testloader:\n",
    "        images, labels = data\n",
    "        outputs = net(images)\n",
    "        _, predicted = torch.max(outputs, 1)\n",
    "        c = (predicted == labels).squeeze()\n",
    "        for i in range(5):\n",
    "            label = labels[i]\n",
    "            class_correct[label] += int(c[i].item())\n",
    "            class_total[label] += 1\n",
    "\n"
   ]
  },
  {
   "cell_type": "code",
   "execution_count": 62,
   "metadata": {},
   "outputs": [
    {
     "data": {
      "image/png": "[encoded data removed]",
      "text/plain": [
       "<Figure size 432x288 with 1 Axes>"
      ]
     },
     "metadata": {
      "needs_background": "light"
     },
     "output_type": "display_data"
    },
    {
     "name": "stdout",
     "output_type": "stream",
     "text": [
      "GroundTruth:  Acne and Rosacea Photos\n",
      "GroundTruth:  Acne and Rosacea Photos\n",
      "GroundTruth:  Acne and Rosacea Photos\n",
      "GroundTruth:  Actinic Keratosis Basal Cell Carcinoma and other Malignant Lesions\n",
      "GroundTruth:  Systemic Disease\n",
      "Predicted:  Acne and Rosacea Photos\n",
      "Predicted:  Acne and Rosacea Photos\n",
      "Predicted:  Acne and Rosacea Photos\n",
      "Predicted:  Psoriasis pictures Lichen Planus and related diseases\n",
      "Predicted:  Systemic Disease\n"
     ]
    }
   ],
   "source": [
    "testloader = torch.utils.data.DataLoader(testset, batch_size=5,\n",
    "                                         shuffle=True)\n",
    "\n",
    "dataiter = iter(testloader)\n",
    "images, labels = next(dataiter)\n",
    "# print images\n",
    "img_grid = torchvision.utils.make_grid(images)\n",
    "\n",
    "imshow(img_grid)\n",
    "for j in range(5):\n",
    "    print('GroundTruth: ', ''.join('%5s' % classes[labels[j]]))\n",
    "    \n",
    "outputs = net(images)\n",
    "\n",
    "_, predicted = torch.max(outputs, 1)\n",
    "for j in range(5):\n",
    "    print('Predicted: ', ''.join('%5s' % classes[predicted[j]]))\n"
   ]
  },
  {
   "cell_type": "code",
   "execution_count": 106,
   "metadata": {},
   "outputs": [],
   "source": [
    "writer = SummaryWriter('runs/ai-derm')\n",
    "writer.add_image('acne_images', img_grid)\n"
   ]
  },
  {
   "cell_type": "code",
   "execution_count": 107,
   "metadata": {},
   "outputs": [
    {
     "ename": "TypeError",
     "evalue": "Parameter to MergeFrom() must be instance of same class: expected tensorboard.compat.proto.node_def_pb2.AttrEntry got str.",
     "output_type": "error",
     "traceback": [
      "\u001b[0;31m---------------------------------------------------------------------------\u001b[0m",
      "\u001b[0;31mTypeError\u001b[0m                                 Traceback (most recent call last)",
      "\u001b[0;32m<ipython-input-107-2bbd46ce1fb3>\u001b[0m in \u001b[0;36m<module>\u001b[0;34m\u001b[0m\n\u001b[0;32m----> 1\u001b[0;31m \u001b[0mwriter\u001b[0m\u001b[0;34m.\u001b[0m\u001b[0madd_graph\u001b[0m\u001b[0;34m(\u001b[0m\u001b[0mnet\u001b[0m\u001b[0;34m,\u001b[0m \u001b[0mimages\u001b[0m\u001b[0;34m)\u001b[0m\u001b[0;34m\u001b[0m\u001b[0;34m\u001b[0m\u001b[0m\n\u001b[0m",
      "\u001b[0;32m/Library/Frameworks/Python.framework/Versions/3.8/lib/python3.8/site-packages/torch/utils/tensorboard/writer.py\u001b[0m in \u001b[0;36madd_graph\u001b[0;34m(self, model, input_to_model, verbose, use_strict_trace)\u001b[0m\n\u001b[1;32m    839\u001b[0m             \u001b[0;31m# A valid PyTorch model should have a 'forward' method\u001b[0m\u001b[0;34m\u001b[0m\u001b[0;34m\u001b[0m\u001b[0;34m\u001b[0m\u001b[0m\n\u001b[1;32m    840\u001b[0m             self._get_file_writer().add_graph(\n\u001b[0;32m--> 841\u001b[0;31m                 \u001b[0mgraph\u001b[0m\u001b[0;34m(\u001b[0m\u001b[0mmodel\u001b[0m\u001b[0;34m,\u001b[0m \u001b[0minput_to_model\u001b[0m\u001b[0;34m,\u001b[0m \u001b[0mverbose\u001b[0m\u001b[0;34m,\u001b[0m \u001b[0muse_strict_trace\u001b[0m\u001b[0;34m)\u001b[0m\u001b[0;34m\u001b[0m\u001b[0;34m\u001b[0m\u001b[0m\n\u001b[0m\u001b[1;32m    842\u001b[0m             )\n\u001b[1;32m    843\u001b[0m         \u001b[0;32melse\u001b[0m\u001b[0;34m:\u001b[0m\u001b[0;34m\u001b[0m\u001b[0;34m\u001b[0m\u001b[0m\n",
      "\u001b[0;32m/Library/Frameworks/Python.framework/Versions/3.8/lib/python3.8/site-packages/torch/utils/tensorboard/_pytorch_graph.py\u001b[0m in \u001b[0;36mgraph\u001b[0;34m(model, args, verbose, use_strict_trace)\u001b[0m\n\u001b[1;32m    345\u001b[0m     \u001b[0;32mif\u001b[0m \u001b[0mverbose\u001b[0m\u001b[0;34m:\u001b[0m\u001b[0;34m\u001b[0m\u001b[0;34m\u001b[0m\u001b[0m\n\u001b[1;32m    346\u001b[0m         \u001b[0mprint\u001b[0m\u001b[0;34m(\u001b[0m\u001b[0mgraph\u001b[0m\u001b[0;34m)\u001b[0m\u001b[0;34m\u001b[0m\u001b[0;34m\u001b[0m\u001b[0m\n\u001b[0;32m--> 347\u001b[0;31m     \u001b[0mlist_of_nodes\u001b[0m \u001b[0;34m=\u001b[0m \u001b[0mparse\u001b[0m\u001b[0;34m(\u001b[0m\u001b[0mgraph\u001b[0m\u001b[0;34m,\u001b[0m \u001b[0mtrace\u001b[0m\u001b[0;34m,\u001b[0m \u001b[0margs\u001b[0m\u001b[0;34m)\u001b[0m\u001b[0;34m\u001b[0m\u001b[0;34m\u001b[0m\u001b[0m\n\u001b[0m\u001b[1;32m    348\u001b[0m     \u001b[0;31m# We are hardcoding that this was run on CPU even though it might have actually\u001b[0m\u001b[0;34m\u001b[0m\u001b[0;34m\u001b[0m\u001b[0;34m\u001b[0m\u001b[0m\n\u001b[1;32m    349\u001b[0m     \u001b[0;31m# run on GPU. Note this is what is shown in TensorBoard and has no bearing\u001b[0m\u001b[0;34m\u001b[0m\u001b[0;34m\u001b[0m\u001b[0;34m\u001b[0m\u001b[0m\n",
      "\u001b[0;32m/Library/Frameworks/Python.framework/Versions/3.8/lib/python3.8/site-packages/torch/utils/tensorboard/_pytorch_graph.py\u001b[0m in \u001b[0;36mparse\u001b[0;34m(graph, trace, args, omit_useless_nodes)\u001b[0m\n\u001b[1;32m    316\u001b[0m \u001b[0;34m\u001b[0m\u001b[0m\n\u001b[1;32m    317\u001b[0m     \u001b[0mnodes_py\u001b[0m\u001b[0;34m.\u001b[0m\u001b[0mpopulate_namespace_from_OP_to_IO\u001b[0m\u001b[0;34m(\u001b[0m\u001b[0;34m)\u001b[0m\u001b[0;34m\u001b[0m\u001b[0;34m\u001b[0m\u001b[0m\n\u001b[0;32m--> 318\u001b[0;31m     \u001b[0;32mreturn\u001b[0m \u001b[0mnodes_py\u001b[0m\u001b[0;34m.\u001b[0m\u001b[0mto_proto\u001b[0m\u001b[0;34m(\u001b[0m\u001b[0;34m)\u001b[0m\u001b[0;34m\u001b[0m\u001b[0;34m\u001b[0m\u001b[0m\n\u001b[0m\u001b[1;32m    319\u001b[0m \u001b[0;34m\u001b[0m\u001b[0m\n\u001b[1;32m    320\u001b[0m \u001b[0;34m\u001b[0m\u001b[0m\n",
      "\u001b[0;32m/Library/Frameworks/Python.framework/Versions/3.8/lib/python3.8/site-packages/torch/utils/tensorboard/_pytorch_graph.py\u001b[0m in \u001b[0;36mto_proto\u001b[0;34m(self)\u001b[0m\n\u001b[1;32m    223\u001b[0m         \u001b[0;32mfor\u001b[0m \u001b[0mv\u001b[0m \u001b[0;32min\u001b[0m \u001b[0mself\u001b[0m\u001b[0;34m.\u001b[0m\u001b[0mnodes_io\u001b[0m\u001b[0;34m.\u001b[0m\u001b[0mvalues\u001b[0m\u001b[0;34m(\u001b[0m\u001b[0;34m)\u001b[0m\u001b[0;34m:\u001b[0m\u001b[0;34m\u001b[0m\u001b[0;34m\u001b[0m\u001b[0m\n\u001b[1;32m    224\u001b[0m             nodes.append(\n\u001b[0;32m--> 225\u001b[0;31m                 node_proto(\n\u001b[0m\u001b[1;32m    226\u001b[0m                     \u001b[0mv\u001b[0m\u001b[0;34m.\u001b[0m\u001b[0mdebugName\u001b[0m\u001b[0;34m,\u001b[0m\u001b[0;34m\u001b[0m\u001b[0;34m\u001b[0m\u001b[0m\n\u001b[1;32m    227\u001b[0m                     \u001b[0minput\u001b[0m\u001b[0;34m=\u001b[0m\u001b[0mv\u001b[0m\u001b[0;34m.\u001b[0m\u001b[0minputs\u001b[0m\u001b[0;34m,\u001b[0m\u001b[0;34m\u001b[0m\u001b[0;34m\u001b[0m\u001b[0m\n",
      "\u001b[0;32m/Library/Frameworks/Python.framework/Versions/3.8/lib/python3.8/site-packages/torch/utils/tensorboard/_proto_graph.py\u001b[0m in \u001b[0;36mnode_proto\u001b[0;34m(name, op, input, dtype, shape, outputsize, attributes)\u001b[0m\n\u001b[1;32m     43\u001b[0m     \u001b[0;32mif\u001b[0m \u001b[0;32mnot\u001b[0m \u001b[0misinstance\u001b[0m\u001b[0;34m(\u001b[0m\u001b[0minput\u001b[0m\u001b[0;34m,\u001b[0m \u001b[0mlist\u001b[0m\u001b[0;34m)\u001b[0m\u001b[0;34m:\u001b[0m\u001b[0;34m\u001b[0m\u001b[0;34m\u001b[0m\u001b[0m\n\u001b[1;32m     44\u001b[0m         \u001b[0minput\u001b[0m \u001b[0;34m=\u001b[0m \u001b[0;34m[\u001b[0m\u001b[0minput\u001b[0m\u001b[0;34m]\u001b[0m\u001b[0;34m\u001b[0m\u001b[0;34m\u001b[0m\u001b[0m\n\u001b[0;32m---> 45\u001b[0;31m     return NodeDef(\n\u001b[0m\u001b[1;32m     46\u001b[0m         \u001b[0mname\u001b[0m\u001b[0;34m=\u001b[0m\u001b[0mname\u001b[0m\u001b[0;34m.\u001b[0m\u001b[0mencode\u001b[0m\u001b[0;34m(\u001b[0m\u001b[0mencoding\u001b[0m\u001b[0;34m=\u001b[0m\u001b[0;34m\"utf_8\"\u001b[0m\u001b[0;34m)\u001b[0m\u001b[0;34m,\u001b[0m\u001b[0;34m\u001b[0m\u001b[0;34m\u001b[0m\u001b[0m\n\u001b[1;32m     47\u001b[0m         \u001b[0mop\u001b[0m\u001b[0;34m=\u001b[0m\u001b[0mop\u001b[0m\u001b[0;34m,\u001b[0m\u001b[0;34m\u001b[0m\u001b[0;34m\u001b[0m\u001b[0m\n",
      "\u001b[0;32m/Library/Frameworks/Python.framework/Versions/3.8/lib/python3.8/site-packages/google/protobuf/internal/python_message.py\u001b[0m in \u001b[0;36minit\u001b[0;34m(self, **kwargs)\u001b[0m\n\u001b[1;32m    532\u001b[0m           \u001b[0;32melse\u001b[0m\u001b[0;34m:\u001b[0m\u001b[0;34m\u001b[0m\u001b[0;34m\u001b[0m\u001b[0m\n\u001b[1;32m    533\u001b[0m             \u001b[0;32mfor\u001b[0m \u001b[0mval\u001b[0m \u001b[0;32min\u001b[0m \u001b[0mfield_value\u001b[0m\u001b[0;34m:\u001b[0m\u001b[0;34m\u001b[0m\u001b[0;34m\u001b[0m\u001b[0m\n\u001b[0;32m--> 534\u001b[0;31m               \u001b[0;32mif\u001b[0m \u001b[0misinstance\u001b[0m\u001b[0;34m(\u001b[0m\u001b[0mval\u001b[0m\u001b[0;34m,\u001b[0m \u001b[0mdict\u001b[0m\u001b[0;34m)\u001b[0m\u001b[0;34m:\u001b[0m\u001b[0;34m\u001b[0m\u001b[0;34m\u001b[0m\u001b[0m\n\u001b[0m\u001b[1;32m    535\u001b[0m                 \u001b[0mcopy\u001b[0m\u001b[0;34m.\u001b[0m\u001b[0madd\u001b[0m\u001b[0;34m(\u001b[0m\u001b[0;34m**\u001b[0m\u001b[0mval\u001b[0m\u001b[0;34m)\u001b[0m\u001b[0;34m\u001b[0m\u001b[0;34m\u001b[0m\u001b[0m\n\u001b[1;32m    536\u001b[0m               \u001b[0;32melse\u001b[0m\u001b[0;34m:\u001b[0m\u001b[0;34m\u001b[0m\u001b[0;34m\u001b[0m\u001b[0m\n",
      "\u001b[0;32m/Library/Frameworks/Python.framework/Versions/3.8/lib/python3.8/site-packages/google/protobuf/internal/python_message.py\u001b[0m in \u001b[0;36mMergeFrom\u001b[0;34m(self, msg)\u001b[0m\n\u001b[1;32m   1302\u001b[0m \u001b[0;34m\u001b[0m\u001b[0m\n\u001b[1;32m   1303\u001b[0m \u001b[0;32mdef\u001b[0m \u001b[0m_AddMergeFromMethod\u001b[0m\u001b[0;34m(\u001b[0m\u001b[0mcls\u001b[0m\u001b[0;34m)\u001b[0m\u001b[0;34m:\u001b[0m\u001b[0;34m\u001b[0m\u001b[0;34m\u001b[0m\u001b[0m\n\u001b[0;32m-> 1304\u001b[0;31m   \u001b[0mLABEL_REPEATED\u001b[0m \u001b[0;34m=\u001b[0m \u001b[0m_FieldDescriptor\u001b[0m\u001b[0;34m.\u001b[0m\u001b[0mLABEL_REPEATED\u001b[0m\u001b[0;34m\u001b[0m\u001b[0;34m\u001b[0m\u001b[0m\n\u001b[0m\u001b[1;32m   1305\u001b[0m   \u001b[0mCPPTYPE_MESSAGE\u001b[0m \u001b[0;34m=\u001b[0m \u001b[0m_FieldDescriptor\u001b[0m\u001b[0;34m.\u001b[0m\u001b[0mCPPTYPE_MESSAGE\u001b[0m\u001b[0;34m\u001b[0m\u001b[0;34m\u001b[0m\u001b[0m\n\u001b[1;32m   1306\u001b[0m \u001b[0;34m\u001b[0m\u001b[0m\n",
      "\u001b[0;31mTypeError\u001b[0m: Parameter to MergeFrom() must be instance of same class: expected tensorboard.compat.proto.node_def_pb2.AttrEntry got str."
     ]
    }
   ],
   "source": [
    "writer.add_graph(net, images)"
   ]
  },
  {
   "cell_type": "code",
   "execution_count": null,
   "metadata": {},
   "outputs": [],
   "source": [
    "accuracy = collections.defaultdict(float)\n",
    "for i in range(len(classes_test)):\n",
    "    accuracy[classes[i]] = 100 * class_correct[i] / class_total[i]\n",
    "\n",
    "for k,v in sorted(accuracy.items(), key=lambda k: k[1], reverse=True):\n",
    "    print('Accuracy of %5s : %2d %%' % (\n",
    "        k, v))"
   ]
  },
  {
   "cell_type": "markdown",
   "metadata": {},
   "source": [
    "This is consistent with the imbalance of data in the above classes. "
   ]
  }
 ],
 "metadata": {
  "kernelspec": {
   "display_name": "Python 3",
   "language": "python",
   "name": "python3"
  },
  "language_info": {
   "codemirror_mode": {
    "name": "ipython",
    "version": 3
   },
   "file_extension": ".py",
   "mimetype": "text/x-python",
   "name": "python",
   "nbconvert_exporter": "python",
   "pygments_lexer": "ipython3",
   "version": "3.8.2"
  }
 },
 "nbformat": 4,
 "nbformat_minor": 1
}
