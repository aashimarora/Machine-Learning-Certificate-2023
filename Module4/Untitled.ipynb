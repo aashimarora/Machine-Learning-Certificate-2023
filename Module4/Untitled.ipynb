{
 "cells": [
  {
   "cell_type": "code",
   "execution_count": 3,
   "metadata": {},
   "outputs": [
    {
     "name": "stdout",
     "output_type": "stream",
     "text": [
      "    Average miles driven per day  Average annual maintenance cost (£)\n",
      "0                             67                                12000\n",
      "1                             90                                12700\n",
      "2                             94                                14000\n",
      "3                            -99                                14400\n",
      "4                            108                                14600\n",
      "5                            129                                17700\n",
      "6                            141                                17600\n",
      "7                            167                                18500\n",
      "8                            214                                22000\n",
      "9                            267                                22300\n",
      "10                           289                                24300\n",
      "11                           305                                24200\n",
      "12                           620                                25100\n",
      "13                          3100                                25400\n"
     ]
    }
   ],
   "source": [
    "import pandas as pd\n",
    "from io import StringIO\n",
    "\n",
    "data = \"\"\"Average miles driven per day\\tAverage annual maintenance cost (£)\n",
    "67\\t12,000\n",
    "90\\t12,700\n",
    "94\\t14,000\n",
    "-99\\t14,400\n",
    "108\\t14,600\n",
    "129\\t17,700\n",
    "141\\t17,600\n",
    "167\\t18,500\n",
    "214\\t22,000\n",
    "267\\t22,300\n",
    "289\\t24,300\n",
    "305\\t24,200\n",
    "620\\t25,100\n",
    "3,100\\t25,400\n",
    "\"\"\"\n",
    "\n",
    "# Replace the commas in numbers and use StringIO to create a file-like object\n",
    "data = data.replace(\",\", \"\")\n",
    "data_file = StringIO(data)\n",
    "\n",
    "# Read the data into a DataFrame\n",
    "df = pd.read_csv(data_file, delimiter='\\t')\n",
    "\n",
    "# Display the DataFrame\n",
    "print(df)"
   ]
  },
  {
   "cell_type": "code",
   "execution_count": 4,
   "metadata": {},
   "outputs": [
    {
     "data": {
      "text/html": [
       "<div>\n",
       "<style scoped>\n",
       "    .dataframe tbody tr th:only-of-type {\n",
       "        vertical-align: middle;\n",
       "    }\n",
       "\n",
       "    .dataframe tbody tr th {\n",
       "        vertical-align: top;\n",
       "    }\n",
       "\n",
       "    .dataframe thead th {\n",
       "        text-align: right;\n",
       "    }\n",
       "</style>\n",
       "<table border=\"1\" class=\"dataframe\">\n",
       "  <thead>\n",
       "    <tr style=\"text-align: right;\">\n",
       "      <th></th>\n",
       "      <th>Average miles driven per day</th>\n",
       "      <th>Average annual maintenance cost (£)</th>\n",
       "    </tr>\n",
       "  </thead>\n",
       "  <tbody>\n",
       "    <tr>\n",
       "      <th>count</th>\n",
       "      <td>14.000000</td>\n",
       "      <td>14.000000</td>\n",
       "    </tr>\n",
       "    <tr>\n",
       "      <th>mean</th>\n",
       "      <td>392.285714</td>\n",
       "      <td>18914.285714</td>\n",
       "    </tr>\n",
       "    <tr>\n",
       "      <th>std</th>\n",
       "      <td>796.187978</td>\n",
       "      <td>4892.672251</td>\n",
       "    </tr>\n",
       "    <tr>\n",
       "      <th>min</th>\n",
       "      <td>-99.000000</td>\n",
       "      <td>12000.000000</td>\n",
       "    </tr>\n",
       "    <tr>\n",
       "      <th>25%</th>\n",
       "      <td>97.500000</td>\n",
       "      <td>14450.000000</td>\n",
       "    </tr>\n",
       "    <tr>\n",
       "      <th>50%</th>\n",
       "      <td>154.000000</td>\n",
       "      <td>18100.000000</td>\n",
       "    </tr>\n",
       "    <tr>\n",
       "      <th>75%</th>\n",
       "      <td>283.500000</td>\n",
       "      <td>23725.000000</td>\n",
       "    </tr>\n",
       "    <tr>\n",
       "      <th>max</th>\n",
       "      <td>3100.000000</td>\n",
       "      <td>25400.000000</td>\n",
       "    </tr>\n",
       "  </tbody>\n",
       "</table>\n",
       "</div>"
      ],
      "text/plain": [
       "       Average miles driven per day  Average annual maintenance cost (£)\n",
       "count                     14.000000                            14.000000\n",
       "mean                     392.285714                         18914.285714\n",
       "std                      796.187978                          4892.672251\n",
       "min                      -99.000000                         12000.000000\n",
       "25%                       97.500000                         14450.000000\n",
       "50%                      154.000000                         18100.000000\n",
       "75%                      283.500000                         23725.000000\n",
       "max                     3100.000000                         25400.000000"
      ]
     },
     "execution_count": 4,
     "metadata": {},
     "output_type": "execute_result"
    }
   ],
   "source": [
    "df.describe()"
   ]
  },
  {
   "cell_type": "code",
   "execution_count": 5,
   "metadata": {},
   "outputs": [
    {
     "data": {
      "text/html": [
       "<div>\n",
       "<style scoped>\n",
       "    .dataframe tbody tr th:only-of-type {\n",
       "        vertical-align: middle;\n",
       "    }\n",
       "\n",
       "    .dataframe tbody tr th {\n",
       "        vertical-align: top;\n",
       "    }\n",
       "\n",
       "    .dataframe thead th {\n",
       "        text-align: right;\n",
       "    }\n",
       "</style>\n",
       "<table border=\"1\" class=\"dataframe\">\n",
       "  <thead>\n",
       "    <tr style=\"text-align: right;\">\n",
       "      <th></th>\n",
       "      <th>Average miles driven per day</th>\n",
       "      <th>Average annual maintenance cost (£)</th>\n",
       "    </tr>\n",
       "  </thead>\n",
       "  <tbody>\n",
       "    <tr>\n",
       "      <th>0.25</th>\n",
       "      <td>97.5</td>\n",
       "      <td>14450.0</td>\n",
       "    </tr>\n",
       "    <tr>\n",
       "      <th>0.50</th>\n",
       "      <td>154.0</td>\n",
       "      <td>18100.0</td>\n",
       "    </tr>\n",
       "    <tr>\n",
       "      <th>0.75</th>\n",
       "      <td>283.5</td>\n",
       "      <td>23725.0</td>\n",
       "    </tr>\n",
       "  </tbody>\n",
       "</table>\n",
       "</div>"
      ],
      "text/plain": [
       "      Average miles driven per day  Average annual maintenance cost (£)\n",
       "0.25                          97.5                              14450.0\n",
       "0.50                         154.0                              18100.0\n",
       "0.75                         283.5                              23725.0"
      ]
     },
     "execution_count": 5,
     "metadata": {},
     "output_type": "execute_result"
    }
   ],
   "source": [
    "df.quantile([0.25,0.5,0.75])"
   ]
  },
  {
   "cell_type": "code",
   "execution_count": 13,
   "metadata": {},
   "outputs": [],
   "source": [
    "df2 = df.drop([3,13,12])"
   ]
  },
  {
   "cell_type": "code",
   "execution_count": 14,
   "metadata": {},
   "outputs": [
    {
     "data": {
      "text/html": [
       "<div>\n",
       "<style scoped>\n",
       "    .dataframe tbody tr th:only-of-type {\n",
       "        vertical-align: middle;\n",
       "    }\n",
       "\n",
       "    .dataframe tbody tr th {\n",
       "        vertical-align: top;\n",
       "    }\n",
       "\n",
       "    .dataframe thead th {\n",
       "        text-align: right;\n",
       "    }\n",
       "</style>\n",
       "<table border=\"1\" class=\"dataframe\">\n",
       "  <thead>\n",
       "    <tr style=\"text-align: right;\">\n",
       "      <th></th>\n",
       "      <th>Average miles driven per day</th>\n",
       "      <th>Average annual maintenance cost (£)</th>\n",
       "    </tr>\n",
       "  </thead>\n",
       "  <tbody>\n",
       "    <tr>\n",
       "      <th>0</th>\n",
       "      <td>67</td>\n",
       "      <td>12000</td>\n",
       "    </tr>\n",
       "    <tr>\n",
       "      <th>1</th>\n",
       "      <td>90</td>\n",
       "      <td>12700</td>\n",
       "    </tr>\n",
       "    <tr>\n",
       "      <th>2</th>\n",
       "      <td>94</td>\n",
       "      <td>14000</td>\n",
       "    </tr>\n",
       "    <tr>\n",
       "      <th>4</th>\n",
       "      <td>108</td>\n",
       "      <td>14600</td>\n",
       "    </tr>\n",
       "    <tr>\n",
       "      <th>5</th>\n",
       "      <td>129</td>\n",
       "      <td>17700</td>\n",
       "    </tr>\n",
       "    <tr>\n",
       "      <th>6</th>\n",
       "      <td>141</td>\n",
       "      <td>17600</td>\n",
       "    </tr>\n",
       "    <tr>\n",
       "      <th>7</th>\n",
       "      <td>167</td>\n",
       "      <td>18500</td>\n",
       "    </tr>\n",
       "    <tr>\n",
       "      <th>8</th>\n",
       "      <td>214</td>\n",
       "      <td>22000</td>\n",
       "    </tr>\n",
       "    <tr>\n",
       "      <th>9</th>\n",
       "      <td>267</td>\n",
       "      <td>22300</td>\n",
       "    </tr>\n",
       "    <tr>\n",
       "      <th>10</th>\n",
       "      <td>289</td>\n",
       "      <td>24300</td>\n",
       "    </tr>\n",
       "    <tr>\n",
       "      <th>11</th>\n",
       "      <td>305</td>\n",
       "      <td>24200</td>\n",
       "    </tr>\n",
       "  </tbody>\n",
       "</table>\n",
       "</div>"
      ],
      "text/plain": [
       "    Average miles driven per day  Average annual maintenance cost (£)\n",
       "0                             67                                12000\n",
       "1                             90                                12700\n",
       "2                             94                                14000\n",
       "4                            108                                14600\n",
       "5                            129                                17700\n",
       "6                            141                                17600\n",
       "7                            167                                18500\n",
       "8                            214                                22000\n",
       "9                            267                                22300\n",
       "10                           289                                24300\n",
       "11                           305                                24200"
      ]
     },
     "execution_count": 14,
     "metadata": {},
     "output_type": "execute_result"
    }
   ],
   "source": [
    "df2"
   ]
  },
  {
   "cell_type": "code",
   "execution_count": 15,
   "metadata": {},
   "outputs": [
    {
     "data": {
      "text/html": [
       "<div>\n",
       "<style scoped>\n",
       "    .dataframe tbody tr th:only-of-type {\n",
       "        vertical-align: middle;\n",
       "    }\n",
       "\n",
       "    .dataframe tbody tr th {\n",
       "        vertical-align: top;\n",
       "    }\n",
       "\n",
       "    .dataframe thead th {\n",
       "        text-align: right;\n",
       "    }\n",
       "</style>\n",
       "<table border=\"1\" class=\"dataframe\">\n",
       "  <thead>\n",
       "    <tr style=\"text-align: right;\">\n",
       "      <th></th>\n",
       "      <th>Average miles driven per day</th>\n",
       "      <th>Average annual maintenance cost (£)</th>\n",
       "    </tr>\n",
       "  </thead>\n",
       "  <tbody>\n",
       "    <tr>\n",
       "      <th>count</th>\n",
       "      <td>11.000000</td>\n",
       "      <td>11.000000</td>\n",
       "    </tr>\n",
       "    <tr>\n",
       "      <th>mean</th>\n",
       "      <td>170.090909</td>\n",
       "      <td>18172.727273</td>\n",
       "    </tr>\n",
       "    <tr>\n",
       "      <th>std</th>\n",
       "      <td>85.376173</td>\n",
       "      <td>4521.524280</td>\n",
       "    </tr>\n",
       "    <tr>\n",
       "      <th>min</th>\n",
       "      <td>67.000000</td>\n",
       "      <td>12000.000000</td>\n",
       "    </tr>\n",
       "    <tr>\n",
       "      <th>25%</th>\n",
       "      <td>101.000000</td>\n",
       "      <td>14300.000000</td>\n",
       "    </tr>\n",
       "    <tr>\n",
       "      <th>50%</th>\n",
       "      <td>141.000000</td>\n",
       "      <td>17700.000000</td>\n",
       "    </tr>\n",
       "    <tr>\n",
       "      <th>75%</th>\n",
       "      <td>240.500000</td>\n",
       "      <td>22150.000000</td>\n",
       "    </tr>\n",
       "    <tr>\n",
       "      <th>max</th>\n",
       "      <td>305.000000</td>\n",
       "      <td>24300.000000</td>\n",
       "    </tr>\n",
       "  </tbody>\n",
       "</table>\n",
       "</div>"
      ],
      "text/plain": [
       "       Average miles driven per day  Average annual maintenance cost (£)\n",
       "count                     11.000000                            11.000000\n",
       "mean                     170.090909                         18172.727273\n",
       "std                       85.376173                          4521.524280\n",
       "min                       67.000000                         12000.000000\n",
       "25%                      101.000000                         14300.000000\n",
       "50%                      141.000000                         17700.000000\n",
       "75%                      240.500000                         22150.000000\n",
       "max                      305.000000                         24300.000000"
      ]
     },
     "execution_count": 15,
     "metadata": {},
     "output_type": "execute_result"
    }
   ],
   "source": [
    "df2.describe()"
   ]
  },
  {
   "cell_type": "code",
   "execution_count": 16,
   "metadata": {},
   "outputs": [
    {
     "data": {
      "text/html": [
       "<div>\n",
       "<style scoped>\n",
       "    .dataframe tbody tr th:only-of-type {\n",
       "        vertical-align: middle;\n",
       "    }\n",
       "\n",
       "    .dataframe tbody tr th {\n",
       "        vertical-align: top;\n",
       "    }\n",
       "\n",
       "    .dataframe thead th {\n",
       "        text-align: right;\n",
       "    }\n",
       "</style>\n",
       "<table border=\"1\" class=\"dataframe\">\n",
       "  <thead>\n",
       "    <tr style=\"text-align: right;\">\n",
       "      <th></th>\n",
       "      <th>Average miles driven per day</th>\n",
       "      <th>Average annual maintenance cost (£)</th>\n",
       "    </tr>\n",
       "  </thead>\n",
       "  <tbody>\n",
       "    <tr>\n",
       "      <th>Average miles driven per day</th>\n",
       "      <td>1.000000</td>\n",
       "      <td>0.973713</td>\n",
       "    </tr>\n",
       "    <tr>\n",
       "      <th>Average annual maintenance cost (£)</th>\n",
       "      <td>0.973713</td>\n",
       "      <td>1.000000</td>\n",
       "    </tr>\n",
       "  </tbody>\n",
       "</table>\n",
       "</div>"
      ],
      "text/plain": [
       "                                     Average miles driven per day  \\\n",
       "Average miles driven per day                             1.000000   \n",
       "Average annual maintenance cost (£)                      0.973713   \n",
       "\n",
       "                                     Average annual maintenance cost (£)  \n",
       "Average miles driven per day                                    0.973713  \n",
       "Average annual maintenance cost (£)                             1.000000  "
      ]
     },
     "execution_count": 16,
     "metadata": {},
     "output_type": "execute_result"
    }
   ],
   "source": [
    "df2.corr()"
   ]
  },
  {
   "cell_type": "code",
   "execution_count": 21,
   "metadata": {},
   "outputs": [
    {
     "name": "stdout",
     "output_type": "stream",
     "text": [
      "Total Miles Driven in Fiscal Year 2020: 33953228.5 miles\n"
     ]
    }
   ],
   "source": [
    "def av_cost(miles):\n",
    "    return 51.6 * miles + 9401.5\n",
    "\n",
    "# Given data\n",
    "total_trucks = 1795\n",
    "local_trucks = 510\n",
    "regional_trucks = 650\n",
    "national_trucks = 635\n",
    "\n",
    "# Calculate the total number of miles driven per day for each category\n",
    "miles_per_day_local = av_cost(42)\n",
    "miles_per_day_regional = av_cost(189)\n",
    "miles_per_day_national = av_cost(294)\n",
    "\n",
    "# Calculate the total miles driven by each category\n",
    "total_miles_local = miles_per_day_local * local_trucks\n",
    "total_miles_regional = miles_per_day_regional * regional_trucks\n",
    "total_miles_national = miles_per_day_national * national_trucks\n",
    "\n",
    "# Calculate the total number of miles driven by the fleet in Fiscal Year 2020\n",
    "total_miles_fy2020 = total_miles_local + total_miles_regional + total_miles_national\n",
    "\n",
    "print(\"Total Miles Driven in Fiscal Year 2020:\", total_miles_fy2020, \"miles\")\n"
   ]
  },
  {
   "cell_type": "code",
   "execution_count": 19,
   "metadata": {},
   "outputs": [
    {
     "data": {
      "text/plain": [
       "17086937.5"
      ]
     },
     "execution_count": 19,
     "metadata": {},
     "output_type": "execute_result"
    }
   ],
   "source": [
    "51.6 * total_miles_fy2020 + 9401.5"
   ]
  },
  {
   "cell_type": "code",
   "execution_count": 22,
   "metadata": {},
   "outputs": [
    {
     "name": "stdout",
     "output_type": "stream",
     "text": [
      "                    Preventative maintenance type  \\\n",
      "0                         Annual tyre replacement   \n",
      "1                        Annual glass replacement   \n",
      "2  Engine oil and filter replacement twice a year   \n",
      "3    Battery terminal cleaning three times a year   \n",
      "4                  Transmission check once a year   \n",
      "\n",
      "  Cost of preventative maintenance per truck  \\\n",
      "0                                       £600   \n",
      "1                                       £350   \n",
      "2                                       £120   \n",
      "3                                        £30   \n",
      "4                                        £80   \n",
      "\n",
      "  Projected repair cost per truck if a breakdown occurs  \\\n",
      "0                                             £1,200      \n",
      "1                                               £370      \n",
      "2                                               £750      \n",
      "3                                               £200      \n",
      "4                                             £2,500      \n",
      "\n",
      "  Probability of one breakdown in a fiscal year if no preventative maintenance is performed  \n",
      "0                                                35%                                         \n",
      "1                                                20%                                         \n",
      "2                                                12%                                         \n",
      "3                                                 6%                                         \n",
      "4                                                 7%                                         \n"
     ]
    }
   ],
   "source": [
    "import pandas as pd\n",
    "\n",
    "data = {\n",
    "    \"Preventative maintenance type\": [\"Annual tyre replacement\", \"Annual glass replacement\", \"Engine oil and filter replacement twice a year\", \"Battery terminal cleaning three times a year\", \"Transmission check once a year\"],\n",
    "    \"Cost of preventative maintenance per truck\": [\"£600\", \"£350\", \"£120\", \"£30\", \"£80\"],\n",
    "    \"Projected repair cost per truck if a breakdown occurs\": [\"£1,200\", \"£370\", \"£750\", \"£200\", \"£2,500\"],\n",
    "    \"Probability of one breakdown in a fiscal year if no preventative maintenance is performed\": [\"35%\", \"20%\", \"12%\", \"6%\", \"7%\"]\n",
    "}\n",
    "\n",
    "# Create a DataFrame\n",
    "df = pd.DataFrame(data)\n",
    "\n",
    "# Display the DataFrame\n",
    "print(df)"
   ]
  },
  {
   "cell_type": "code",
   "execution_count": 23,
   "metadata": {},
   "outputs": [
    {
     "data": {
      "text/html": [
       "<div>\n",
       "<style scoped>\n",
       "    .dataframe tbody tr th:only-of-type {\n",
       "        vertical-align: middle;\n",
       "    }\n",
       "\n",
       "    .dataframe tbody tr th {\n",
       "        vertical-align: top;\n",
       "    }\n",
       "\n",
       "    .dataframe thead th {\n",
       "        text-align: right;\n",
       "    }\n",
       "</style>\n",
       "<table border=\"1\" class=\"dataframe\">\n",
       "  <thead>\n",
       "    <tr style=\"text-align: right;\">\n",
       "      <th></th>\n",
       "      <th>Preventative maintenance type</th>\n",
       "      <th>Cost of preventative maintenance per truck</th>\n",
       "      <th>Projected repair cost per truck if a breakdown occurs</th>\n",
       "      <th>Probability of one breakdown in a fiscal year if no preventative maintenance is performed</th>\n",
       "    </tr>\n",
       "  </thead>\n",
       "  <tbody>\n",
       "    <tr>\n",
       "      <th>0</th>\n",
       "      <td>Annual tyre replacement</td>\n",
       "      <td>£600</td>\n",
       "      <td>£1,200</td>\n",
       "      <td>35%</td>\n",
       "    </tr>\n",
       "    <tr>\n",
       "      <th>1</th>\n",
       "      <td>Annual glass replacement</td>\n",
       "      <td>£350</td>\n",
       "      <td>£370</td>\n",
       "      <td>20%</td>\n",
       "    </tr>\n",
       "    <tr>\n",
       "      <th>2</th>\n",
       "      <td>Engine oil and filter replacement twice a year</td>\n",
       "      <td>£120</td>\n",
       "      <td>£750</td>\n",
       "      <td>12%</td>\n",
       "    </tr>\n",
       "    <tr>\n",
       "      <th>3</th>\n",
       "      <td>Battery terminal cleaning three times a year</td>\n",
       "      <td>£30</td>\n",
       "      <td>£200</td>\n",
       "      <td>6%</td>\n",
       "    </tr>\n",
       "    <tr>\n",
       "      <th>4</th>\n",
       "      <td>Transmission check once a year</td>\n",
       "      <td>£80</td>\n",
       "      <td>£2,500</td>\n",
       "      <td>7%</td>\n",
       "    </tr>\n",
       "  </tbody>\n",
       "</table>\n",
       "</div>"
      ],
      "text/plain": [
       "                    Preventative maintenance type  \\\n",
       "0                         Annual tyre replacement   \n",
       "1                        Annual glass replacement   \n",
       "2  Engine oil and filter replacement twice a year   \n",
       "3    Battery terminal cleaning three times a year   \n",
       "4                  Transmission check once a year   \n",
       "\n",
       "  Cost of preventative maintenance per truck  \\\n",
       "0                                       £600   \n",
       "1                                       £350   \n",
       "2                                       £120   \n",
       "3                                        £30   \n",
       "4                                        £80   \n",
       "\n",
       "  Projected repair cost per truck if a breakdown occurs  \\\n",
       "0                                             £1,200      \n",
       "1                                               £370      \n",
       "2                                               £750      \n",
       "3                                               £200      \n",
       "4                                             £2,500      \n",
       "\n",
       "  Probability of one breakdown in a fiscal year if no preventative maintenance is performed  \n",
       "0                                                35%                                         \n",
       "1                                                20%                                         \n",
       "2                                                12%                                         \n",
       "3                                                 6%                                         \n",
       "4                                                 7%                                         "
      ]
     },
     "execution_count": 23,
     "metadata": {},
     "output_type": "execute_result"
    }
   ],
   "source": [
    "df\n"
   ]
  },
  {
   "cell_type": "code",
   "execution_count": 24,
   "metadata": {},
   "outputs": [],
   "source": [
    "df2 = pd.DataFrame([2, 5, 12, 16, 20, 4, 6, 11, 14, 18, 12, 12, 56])"
   ]
  },
  {
   "cell_type": "code",
   "execution_count": 25,
   "metadata": {},
   "outputs": [
    {
     "data": {
      "text/plain": [
       "(0    14.461538\n",
       " dtype: float64,\n",
       " 0    12.0\n",
       " dtype: float64)"
      ]
     },
     "execution_count": 25,
     "metadata": {},
     "output_type": "execute_result"
    }
   ],
   "source": [
    "df2.mean(), df2.median()"
   ]
  },
  {
   "cell_type": "code",
   "execution_count": 26,
   "metadata": {},
   "outputs": [
    {
     "data": {
      "text/plain": [
       "(0    11.0\n",
       " dtype: float64,\n",
       " 0    12.0\n",
       " dtype: float64)"
      ]
     },
     "execution_count": 26,
     "metadata": {},
     "output_type": "execute_result"
    }
   ],
   "source": [
    "df2 = pd.DataFrame([2, 5, 12, 16, 20, 4, 6, 11, 14, 18, 12, 12])\n",
    "df2.mean(), df2.median()"
   ]
  },
  {
   "cell_type": "code",
   "execution_count": 28,
   "metadata": {},
   "outputs": [],
   "source": [
    "df2 = pd.DataFrame([10, 20, 10, 20, 12, 14, 15, 20])"
   ]
  },
  {
   "cell_type": "code",
   "execution_count": 29,
   "metadata": {},
   "outputs": [
    {
     "data": {
      "text/plain": [
       "0    15.125\n",
       "dtype: float64"
      ]
     },
     "execution_count": 29,
     "metadata": {},
     "output_type": "execute_result"
    }
   ],
   "source": [
    "df2.mean()"
   ]
  },
  {
   "cell_type": "code",
   "execution_count": 32,
   "metadata": {},
   "outputs": [],
   "source": [
    "import numpy as np\n",
    "X =  np.array([6, 5, 11, 7, 5, 4, 4])\n",
    "\n",
    "Y =  np.array([2, 3, 9, 1, 8, 7, 5])"
   ]
  },
  {
   "cell_type": "code",
   "execution_count": 35,
   "metadata": {},
   "outputs": [],
   "source": [
    "X = np.array([43, 21, 25, 42, 57, 59, 247])\n",
    "\n",
    "Y = np.array([99, 65, 79, 75, 87, 81, 486])"
   ]
  },
  {
   "cell_type": "code",
   "execution_count": 53,
   "metadata": {},
   "outputs": [],
   "source": [
    "X =  np.array([0, 1, 2, 3, 4, 5, 6])\n",
    "Y =  np.array([0, 55, 120, 188, 252, 307, 366])"
   ]
  },
  {
   "cell_type": "code",
   "execution_count": 54,
   "metadata": {},
   "outputs": [],
   "source": [
    "a = np.sum(np.dot(X - np.mean(X), Y - np.mean(Y)))/np.sum((X - np.mean(X))**2)"
   ]
  },
  {
   "cell_type": "code",
   "execution_count": 55,
   "metadata": {},
   "outputs": [],
   "source": [
    "b = np.mean(Y) - a * np.mean(X)"
   ]
  },
  {
   "cell_type": "code",
   "execution_count": 56,
   "metadata": {},
   "outputs": [
    {
     "data": {
      "text/plain": [
       "(61.92857142857143, -1.7857142857142776)"
      ]
     },
     "execution_count": 56,
     "metadata": {},
     "output_type": "execute_result"
    }
   ],
   "source": [
    "a,b"
   ]
  },
  {
   "cell_type": "code",
   "execution_count": 59,
   "metadata": {},
   "outputs": [
    {
     "data": {
      "text/plain": [
       "617.5"
      ]
     },
     "execution_count": 59,
     "metadata": {},
     "output_type": "execute_result"
    }
   ],
   "source": [
    "d = a*10 + b\n",
    "d"
   ]
  },
  {
   "cell_type": "code",
   "execution_count": null,
   "metadata": {},
   "outputs": [],
   "source": []
  }
 ],
 "metadata": {
  "kernelspec": {
   "display_name": "Python 3",
   "language": "python",
   "name": "python3"
  },
  "language_info": {
   "codemirror_mode": {
    "name": "ipython",
    "version": 3
   },
   "file_extension": ".py",
   "mimetype": "text/x-python",
   "name": "python",
   "nbconvert_exporter": "python",
   "pygments_lexer": "ipython3",
   "version": "3.8.2"
  }
 },
 "nbformat": 4,
 "nbformat_minor": 4
}
