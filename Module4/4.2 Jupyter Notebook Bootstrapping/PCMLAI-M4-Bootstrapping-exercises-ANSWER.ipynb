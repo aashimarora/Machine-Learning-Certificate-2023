{
 "cells": [
  {
   "cell_type": "code",
   "execution_count": 2,
   "metadata": {},
   "outputs": [],
   "source": [
    "import numpy as np\n",
    "import pandas as pd\n",
    "import random\n",
    "import matplotlib.pyplot as plt"
   ]
  },
  {
   "cell_type": "markdown",
   "metadata": {},
   "source": [
    "## Bootstrapping exercise\n",
    "- There are two correlated stocks, $X$ and $Y$, which are normally distributed\n",
    "- You will invest in both stocks with all your money\n",
    "- Your goal is to find $\\alpha \\in [0,1]$ (the portion of your money invested in stock $X$) to minimize the variance of the portfolio, i.e.,\n",
    " $$ \\mathbb{V}\\mathrm{AR}[\\alpha X + (1-\\alpha)Y] $$\n",
    "- You are given \"returns.npy\", a 2-D numpy array of the past $200$ returns of $(X,Y)$.\n",
    "\n",
    "Exercise questions: \n",
    "1. Estimate $\\mu_X, \\mu_Y, \\sigma_{X}^2, \\sigma_{Y}^2, \\sigma_{XY}$ from the sample, and then compute the optimal investment strategy $\\alpha$\n",
    "2. Since we estimated the parameters by looking at a sample, we may be severly biased. Hence, use bootstrapping to iteratively sample $200$ points (with replacement) from the previous returns, and estimate the optimal investment strategy each time. Apply this $B = 500$ times and compute the standard error of the optimal $\\alpha$ that we computed on the original set of previous returns."
   ]
  },
  {
   "cell_type": "code",
   "execution_count": 120,
   "metadata": {},
   "outputs": [],
   "source": [
    "# load\n",
    "returns = np.load('returns.npy')\n",
    "n = 200"
   ]
  },
  {
   "cell_type": "code",
   "execution_count": 131,
   "metadata": {},
   "outputs": [
    {
     "data": {
      "text/plain": [
       "array([2.97259589, 2.98935547])"
      ]
     },
     "execution_count": 131,
     "metadata": {},
     "output_type": "execute_result"
    }
   ],
   "source": [
    "#Estimate mean returns\n",
    "hat_mean = np.mean(returns,0)\n",
    "hat_mean"
   ]
  },
  {
   "cell_type": "code",
   "execution_count": 132,
   "metadata": {},
   "outputs": [
    {
     "data": {
      "text/plain": [
       "(1.291, 1.108, 0.465)"
      ]
     },
     "execution_count": 132,
     "metadata": {},
     "output_type": "execute_result"
    }
   ],
   "source": [
    "#estimate covariance matrix\n",
    "hat_cov = np.dot((returns - hat_mean).T, (returns - hat_mean))\n",
    "hat_cov = hat_cov/(n-1)\n",
    "hat_varx = round(hat_cov[0,0],3)\n",
    "hat_vary = round(hat_cov[1,1],3)\n",
    "hat_covar = round(hat_cov[0,1],3)\n",
    "hat_varx, hat_vary, hat_covar"
   ]
  },
  {
   "cell_type": "code",
   "execution_count": 123,
   "metadata": {},
   "outputs": [],
   "source": [
    "def optimal_alpha(varx, vary, covar):\n",
    "    return (float) (vary - covar)/(varx + vary - 2*covar)\n",
    "\n",
    "def sample_alpha(returns_df,n=200):\n",
    "    mean = returns_df.mean()\n",
    "    hat_cov = (returns_df - mean).T.dot((returns_df - mean))\n",
    "    hat_cov = hat_cov/(n-1)\n",
    "    hat_varx = hat_cov.loc[0,0]\n",
    "    hat_vary = hat_cov.loc[1,1]\n",
    "    hat_covar = hat_cov.loc[0,1]\n",
    "    return optimal_alpha(hat_varx, hat_vary, hat_covar)"
   ]
  },
  {
   "cell_type": "code",
   "execution_count": 124,
   "metadata": {},
   "outputs": [
    {
     "name": "stdout",
     "output_type": "stream",
     "text": [
      "0.437\n"
     ]
    }
   ],
   "source": [
    "#estimate optimal investment\n",
    "optimal_investment = optimal_alpha(hat_varx, hat_vary, hat_covar)\n",
    "optimal_investment = round(optimal_investment,3)\n",
    "print(optimal_investment)"
   ]
  },
  {
   "cell_type": "code",
   "execution_count": 125,
   "metadata": {},
   "outputs": [
    {
     "name": "stdout",
     "output_type": "stream",
     "text": [
      "0.056\n"
     ]
    },
    {
     "data": {
      "image/png": "[encoded data removed]",
      "text/plain": [
       "<Figure size 432x288 with 1 Axes>"
      ]
     },
     "metadata": {
      "needs_background": "light"
     },
     "output_type": "display_data"
    }
   ],
   "source": [
    "#use bootstrapping for std. error associated with this technique of finding the optimal investment\n",
    "B = 500 #number of bootstraps\n",
    "samples = n #sample n each time\n",
    "estimations = np.zeros(B) #save estimated alphas\n",
    "returns_df = pd.DataFrame(returns)\n",
    "for sim in range(B): #simulate this many times\n",
    "    generated_sample = returns_df.sample(n,replace=True) #sample with replacements\n",
    "    estimations[sim] = sample_alpha(generated_sample)#write the optimized alpha on the sample\n",
    "bootstrap_error = np.sqrt(np.sum(np.square(estimations - np.mean(estimations))/(B-1)))#fill in the formula\n",
    "bootstrap_error = round(bootstrap_error, 3)\n",
    "print(bootstrap_error)\n",
    "\n",
    "#Histogram\n",
    "plt.hist(estimations,  bins = 30, color = 'g')  # density=False would make counts\n",
    "plt.axvline(x=optimal_investment, color='r', linestyle='--', label = r\"optimal value of $\\alpha^\\star$\")\n",
    "plt.legend()\n",
    "plt.show()"
   ]
  },
  {
   "cell_type": "markdown",
   "metadata": {},
   "source": [
    "Report `optimal_investment` and `bootrap_error`"
   ]
  },
  {
   "cell_type": "code",
   "execution_count": 133,
   "metadata": {},
   "outputs": [
    {
     "name": "stdout",
     "output_type": "stream",
     "text": [
      "The optimal investment alpha is 0.437\n",
      "Bootstrap error is  0.056\n"
     ]
    }
   ],
   "source": [
    "print('The optimal investment alpha is', optimal_investment)\n",
    "print('Bootstrap error is ', bootstrap_error)"
   ]
  },
  {
   "cell_type": "code",
   "execution_count": null,
   "metadata": {},
   "outputs": [],
   "source": []
  }
 ],
 "metadata": {
  "kernelspec": {
   "display_name": "Python 3",
   "language": "python",
   "name": "python3"
  },
  "language_info": {
   "codemirror_mode": {
    "name": "ipython",
    "version": 3
   },
   "file_extension": ".py",
   "mimetype": "text/x-python",
   "name": "python",
   "nbconvert_exporter": "python",
   "pygments_lexer": "ipython3",
   "version": "3.8.2"
  }
 },
 "nbformat": 4,
 "nbformat_minor": 5
}
