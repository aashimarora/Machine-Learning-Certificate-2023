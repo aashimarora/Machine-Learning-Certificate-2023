{
 "cells": [
  {
   "cell_type": "code",
   "execution_count": null,
   "metadata": {},
   "outputs": [],
   "source": []
  },
  {
   "cell_type": "code",
   "execution_count": 6,
   "metadata": {},
   "outputs": [],
   "source": [
    "import numpy as np\n",
    "import pandas as pd\n",
    "import random\n",
    "import matplotlib.pyplot as plt\n",
    "from scipy import optimize\n",
    "np.random.seed(1)"
   ]
  },
  {
   "cell_type": "markdown",
   "metadata": {},
   "source": [
    "## Bootstrapping\n",
    "(Examples inspired from Section 5.2 of  ``` James, G., Witten, D., Hastie, T. & Tibshirani, R. (2013). An introduction to statistical learning (Vol. 112, p. 18). New York: Springer.```)"
   ]
  },
  {
   "cell_type": "markdown",
   "metadata": {},
   "source": [
    "### Motivation\n",
    "Let us have two different stocks: $X$ and $Y$. Let they be normally distributed with the same mean such that $\\mu_X := \\mathbb{E}[X] = 2$ and $\\mu_Y := \\mathbb{E}[Y] = 2$. Furthermore, let $\\sigma^2_X := \\mathbb{V}\\mathrm{AR}[X] = 1$, $\\sigma^2_Y := \\mathbb{V}\\mathrm{AR}[Y] = 1.25$, and $\\sigma_{XY} := \\mathbb{C}\\mathrm{OV}[X,Y] = 0.5$.\n",
    "\n",
    "**Question 1:** How can we sample $1,000$ returns from these stocks?\n",
    "\n",
    "**Answer:** See the code below."
   ]
  },
  {
   "cell_type": "code",
   "execution_count": 7,
   "metadata": {},
   "outputs": [],
   "source": [
    "n = 1000\n",
    "\n",
    "# vector of means\n",
    "mu = np.array([2 ,2])\n",
    "\n",
    "# Described covariance matrix\n",
    "r = np.array([\n",
    "        [  1,    0.5],\n",
    "        [ 0.5,  1.25]\n",
    "    ])\n",
    "\n",
    "# Generate the random samples.\n",
    "returns = np.random.multivariate_normal(mu, r, size=n)"
   ]
  },
  {
   "cell_type": "code",
   "execution_count": 8,
   "metadata": {},
   "outputs": [
    {
     "data": {
      "image/png": "[encoded data removed]",
      "text/plain": [
       "<Figure size 432x288 with 1 Axes>"
      ]
     },
     "metadata": {
      "needs_background": "light"
     },
     "output_type": "display_data"
    }
   ],
   "source": [
    "# Plot the returns\n",
    "x = returns[:,0]\n",
    "y = returns[:,1]\n",
    "x1, y1 = [-1, 5.5], [-1, 5.5]\n",
    "plt.plot(x1, y1, c = \"r\", alpha= .3)\n",
    "plt.title(r\"Returns of stocks $X$ and $Y$, points below the red line are the cases where $X$ has a larger return\") \n",
    "plt.xlabel(r\"$X$\") \n",
    "plt.ylabel(r\"$Y$\") \n",
    "plt.scatter(x,y,s=2) \n",
    "plt.show()"
   ]
  },
  {
   "cell_type": "markdown",
   "metadata": {},
   "source": [
    "**Question 2:** Let us invest a money on stocks $X$ and $Y$. We will invest a portion $\\alpha \\in [0,1]$ of our money on stock $X$, and the remaining $1 - \\alpha$ on stock $Y$. Our goal is to minimize the risk of this investment, where we measure risk simply via variance in this case. In other words, we would like to solve:\n",
    "$$\\alpha^\\star \\in \\arg\\min_{\\alpha} \\{ \\mathbb{V}\\mathrm{AR}[\\alpha X + (1-\\alpha)Y] \\}$$\n",
    "How can find such an optimal $\\alpha^\\star$?"
   ]
  },
  {
   "cell_type": "markdown",
   "metadata": {},
   "source": [
    "**Answer:** Recall that \n",
    "\\begin{align*} \\mathbb{V}\\mathrm{AR}[\\alpha X + (1-\\alpha)Y] &= \\alpha^2 \\mathbb{V}\\mathrm{AR}[X] + (1-\\alpha)^2 \\mathbb{V}\\mathrm{AR}[Y] + 2\\alpha(1-\\alpha) \\mathbb{C}\\mathrm{OV}[X,Y]\\\\ \n",
    "& = \\alpha^2 \\sigma^2_X + (1-\\alpha)^2 \\sigma^2_Y + 2\\alpha(1-\\alpha) \\sigma_{XY}\n",
    "\\end{align*}\n",
    "Let us minimize this function by plugging in the true values of $\\sigma_X^2 = 1,\\  \\sigma_Y^2 = 1.25, \\ \\sigma_{XY} = 0.5$ by using ```scipy optimize```. When we plug these values our problem is:\n",
    "\\begin{align*}\n",
    "\\begin{array}{ll}\n",
    "\\mathrm{minimize}_\\alpha & (1-\\alpha)^2 1.25 + \\alpha \\\\\n",
    "\\mathrm{subject to} & \\alpha \\in [0,1].\n",
    " \\end{array}\n",
    "\\end{align*}"
   ]
  },
  {
   "cell_type": "code",
   "execution_count": 9,
   "metadata": {},
   "outputs": [],
   "source": [
    "def objective_given(alpha):\n",
    "    \"\"\"The objective function to minimize\"\"\"\n",
    "    return (1-alpha)**2 * 1.25 + alpha\n",
    "bounds = optimize.Bounds([0],[1])\n",
    "solution = optimize.minimize(objective_given, x0 = [0], bounds = bounds)"
   ]
  },
  {
   "cell_type": "code",
   "execution_count": 10,
   "metadata": {},
   "outputs": [
    {
     "name": "stdout",
     "output_type": "stream",
     "text": [
      "The optimal solution is when alpha =  0.6\n"
     ]
    }
   ],
   "source": [
    "print(\"The optimal solution is when alpha = \", round(float(solution.x),3))"
   ]
  },
  {
   "cell_type": "markdown",
   "metadata": {},
   "source": [
    "What if we keep $\\sigma^2_X, \\sigma^2_Y, \\sigma_{XY}$ as parameters and change them whenever we want? So we want to directly solve\n",
    "\\begin{align*}\n",
    "\\begin{array}{ll}\n",
    "\\mathrm{minimize}_\\alpha & \\alpha^2 \\sigma^2_X + (1-\\alpha)^2 \\sigma^2_Y + 2\\alpha(1-\\alpha) \\sigma_{XY} \\\\\n",
    "\\text{subject to} & \\alpha \\in [0,1].\n",
    " \\end{array}\n",
    "\\end{align*}"
   ]
  },
  {
   "cell_type": "code",
   "execution_count": 11,
   "metadata": {},
   "outputs": [],
   "source": [
    "def objective_given(alpha, varx, vary, covar):\n",
    "    \"\"\"The objective function to minimize\"\"\"\n",
    "    return (alpha**2 * varx) + ((1-alpha)**2 * vary) + (2*alpha*(1-alpha)*covar)\n",
    "bounds = optimize.Bounds([0],[1])\n",
    "solution = optimize.minimize(objective_given, x0 = [0], bounds = bounds, args=(1,1.25,0.5)) #this was previous case"
   ]
  },
  {
   "cell_type": "code",
   "execution_count": 12,
   "metadata": {},
   "outputs": [
    {
     "name": "stdout",
     "output_type": "stream",
     "text": [
      "The optimal solution is when alpha =  0.6\n"
     ]
    }
   ],
   "source": [
    "print(\"The optimal solution is when alpha = \", round(float(solution.x),3))"
   ]
  },
  {
   "cell_type": "code",
   "execution_count": 13,
   "metadata": {},
   "outputs": [
    {
     "name": "stdout",
     "output_type": "stream",
     "text": [
      "The optimal solution is when alpha =  0.143\n"
     ]
    }
   ],
   "source": [
    "solution = optimize.minimize(objective_given, x0 = [0], bounds = bounds, args=(5,1.25,0.5))\n",
    "print(\"The optimal solution is when alpha = \", round(float(solution.x),3))"
   ]
  },
  {
   "cell_type": "markdown",
   "metadata": {},
   "source": [
    "We can see that the larger $\\sigma^2_X$ gets, the less we invest in $X$ as $\\alpha$ decreases."
   ]
  },
  {
   "cell_type": "markdown",
   "metadata": {},
   "source": [
    "A common error in optimization practice is that in several cases we don't need to use an optimization solver, and derive the solution ourselves. If we can do that, one particular advantage would be, the structure of the optimal solution will be parametrized by $\\sigma_X^2, \\ \\sigma_Y^2, \\ \\sigma_{XY}$. This will, in turn, allow us to have more intuition on the optimal investment strategy. Let's see how it works."
   ]
  },
  {
   "cell_type": "markdown",
   "metadata": {},
   "source": [
    "We can rewrite the objective function:\n",
    "\\begin{align*} \\mathbb{V}\\mathrm{AR}[\\alpha X + (1-\\alpha)Y] &= \\alpha^2 \\sigma^2_X + (1-\\alpha)^2 \\sigma^2_Y + 2\\alpha(1-\\alpha) \\sigma_{XY} \\\\\n",
    "& = \\alpha^2 \\sigma^2_X + \\sigma^2_Y + \\alpha^2 \\sigma^2 Y - 2\\alpha \\sigma^2_Y + 2\\alpha \\sigma_{XY} - 2\\alpha^2 \\sigma_{XY} \\\\\n",
    "& = \\alpha^2(\\sigma^2_X + \\sigma^2_Y - 2\\sigma_{XY}) + 2\\alpha(\\sigma_{XY} - \\sigma^2_Y) + \\sigma_Y^2\n",
    "\\end{align*}\n",
    "Notice that this is a quadratic function of $\\alpha$, and the coefficient of $\\alpha^2$ is $\\sigma^2_X + \\sigma^2_Y - 2\\sigma_{XY}$ which is $\\mathbb{V}\\mathrm{AR}[X - Y] \\geq 0$. Hence, $\\alpha^2$ has a coefficient term, concluding the objective function is **convex**. So if we take the first order conditions, then the solution that solves them is optimal. In other words:\n",
    "\\begin{align*}\n",
    "\\dfrac{\\mathrm{d}\\left[ \\alpha^2(\\sigma^2_X + \\sigma^2_Y - 2\\sigma_{XY}) + 2\\alpha(\\sigma_{XY} - \\sigma^2_Y) + \\sigma_Y^2 \\right]}{\\mathrm{d} \\alpha} = 2\\alpha (\\sigma^2_X + \\sigma^2_Y - 2\\sigma_{XY}) + 2(\\sigma_{XY} - \\sigma^2_Y)\n",
    "\\end{align*}\n",
    "Optimal $\\alpha^\\star$ sets the above expression equal to zero, hence it immediately follows that:\n",
    "\\begin{align*}\n",
    "\\alpha^\\star = \\dfrac{\\sigma^2_Y - \\sigma_{XY}}{\\sigma^2_X + \\sigma^2_Y - 2\\sigma_{XY}}.\n",
    "\\end{align*}\n",
    "Let's test if this is correct now:"
   ]
  },
  {
   "cell_type": "code",
   "execution_count": 14,
   "metadata": {},
   "outputs": [
    {
     "data": {
      "text/plain": [
       "0.6"
      ]
     },
     "execution_count": 14,
     "metadata": {},
     "output_type": "execute_result"
    }
   ],
   "source": [
    "def optimal_alpha(varx, vary, covar):\n",
    "    return (float) (vary - covar)/(varx + vary - 2*covar)\n",
    "round(optimal_alpha(1, 1.25, 0.5),3)"
   ]
  },
  {
   "cell_type": "code",
   "execution_count": 15,
   "metadata": {},
   "outputs": [
    {
     "data": {
      "text/plain": [
       "0.143"
      ]
     },
     "execution_count": 15,
     "metadata": {},
     "output_type": "execute_result"
    }
   ],
   "source": [
    "round(optimal_alpha(5, 1.25, 0.5),3)"
   ]
  },
  {
   "cell_type": "markdown",
   "metadata": {},
   "source": [
    "Wow! It is giving the previously optimized solutions. Please let us know your interpretation of this optimal investment strategy."
   ]
  },
  {
   "cell_type": "markdown",
   "metadata": {},
   "source": [
    "**Question 3:** In real life, we **never** know the distribution of stocks $X$ and $Y$. Hence we can only **estimate** $\\sigma^2_X, \\ \\sigma^2_Y, \\ \\sigma_{XY}$ from a sample of $(X,Y)$ realizations. Let us have $n$ samples of $(X,Y)$, name them $(X_i, Y_i)$ for $i=1,\\ldots,n$. So how can we decide the optimal investment strategy of the future, by looking at the **past data**? "
   ]
  },
  {
   "cell_type": "markdown",
   "metadata": {},
   "source": [
    "**Answer:** We estimate $\\sigma_X^2$, $\\sigma_Y^2$, $\\sigma_{XY}$ by using the sample we are given. Let these estimates be $\\hat{\\sigma}_X^2, \\ \\hat{\\sigma}_Y^2, \\ \\hat{\\sigma}_{XY}$."
   ]
  },
  {
   "cell_type": "markdown",
   "metadata": {},
   "source": [
    "*Step 1: Estimate the mean returns $\\bar{X}, \\ \\bar{Y}$ by*\n",
    "\\begin{align*}\n",
    "\\bar{X} &= \\frac{1}{n}\\sum_{i=1}^n X_i \\\\\n",
    "\\bar{Y} &= \\frac{1}{n}\\sum_{i=1}^n Y_i\n",
    "\\end{align*}"
   ]
  },
  {
   "cell_type": "code",
   "execution_count": 16,
   "metadata": {},
   "outputs": [
    {
     "name": "stdout",
     "output_type": "stream",
     "text": [
      "[1.95247227 1.97292093]\n"
     ]
    }
   ],
   "source": [
    "hat_mean = np.mean(returns,0)\n",
    "print(hat_mean)"
   ]
  },
  {
   "cell_type": "markdown",
   "metadata": {},
   "source": [
    "*Step 2: Estimate the covariance matrix by*\n",
    "\\begin{align*}\n",
    "\\begin{bmatrix}\n",
    "\\hat{\\sigma}^2_X & \\hat{\\sigma}_{XY} \\\\\n",
    "\\hat{\\sigma}_{XY} & \\hat{\\sigma}^2_Y\n",
    "\\end{bmatrix} = \\dfrac{1}{n-1} \\sum_{i=1}^n \\left( \\begin{bmatrix} X_i & Y_i \\end{bmatrix}^\\top \\begin{bmatrix} X_i & Y_i \\end{bmatrix} \\right)\n",
    "\\end{align*}"
   ]
  },
  {
   "cell_type": "code",
   "execution_count": 17,
   "metadata": {},
   "outputs": [
    {
     "data": {
      "text/plain": [
       "array([[0.97695395, 0.50269434],\n",
       "       [0.50269434, 1.30685668]])"
      ]
     },
     "execution_count": 17,
     "metadata": {},
     "output_type": "execute_result"
    }
   ],
   "source": [
    "hat_cov = np.zeros((2,2))\n",
    "for i in range(n):\n",
    "    hat_cov = hat_cov + (returns[i]-hat_mean).reshape((2,1))*(returns[i]-hat_mean).reshape((1,2))\n",
    "hat_cov = hat_cov/(n-1)\n",
    "hat_cov"
   ]
  },
  {
   "cell_type": "code",
   "execution_count": 18,
   "metadata": {},
   "outputs": [],
   "source": [
    "hat_varx = hat_cov[0,0]\n",
    "hat_vary = hat_cov[1,1]\n",
    "hat_covar = hat_cov[0,1]"
   ]
  },
  {
   "cell_type": "markdown",
   "metadata": {},
   "source": [
    "*Step 3: Estimate $\\alpha^\\star$ by*\n",
    "\\begin{align*}\n",
    "\\hat{\\alpha}^\\star = \\dfrac{\\hat{\\sigma}^2_Y - \\hat{\\sigma}_{XY}}{\\hat{\\sigma}^2_X + \\hat{\\sigma}^2_Y - 2\\hat{\\sigma}_{XY}}.\n",
    "\\end{align*}"
   ]
  },
  {
   "cell_type": "code",
   "execution_count": 19,
   "metadata": {},
   "outputs": [
    {
     "data": {
      "text/plain": [
       "0.629"
      ]
     },
     "execution_count": 19,
     "metadata": {},
     "output_type": "execute_result"
    }
   ],
   "source": [
    "round(optimal_alpha(hat_varx, hat_vary, hat_covar),3)"
   ]
  },
  {
   "cell_type": "markdown",
   "metadata": {},
   "source": [
    "The real optimal strategy (if we really knew the distribution behind $(X,Y)$) would be $\\alpha^\\star = 0.6$, however, as we see $1,000$ samples, we can estimate $0.629$. Let us make a function that generalizes this process."
   ]
  },
  {
   "cell_type": "code",
   "execution_count": 20,
   "metadata": {},
   "outputs": [],
   "source": [
    "def generate_sample(n, varx=1, vary=1.25, covar=0.5): #generate a sample of n returns\n",
    "    mu = np.array([2 ,2])\n",
    "    r = np.array([\n",
    "            [  varx, covar],\n",
    "            [ covar,  vary]])\n",
    "    sample_returns = np.random.multivariate_normal(mu, r, size=n)\n",
    "    return sample_returns\n",
    "def hat_alpha(sample_returns): #estimate the optimal investment strategy\n",
    "    hat_mean = np.mean(sample_returns,0)\n",
    "    hat_cov = np.zeros((2,2))\n",
    "    n = np.size(sample_returns,0)\n",
    "    for i in range(n):\n",
    "        hat_cov = hat_cov + (sample_returns[i]-hat_mean).reshape((2,1))*(sample_returns[i]-hat_mean).reshape((1,2))\n",
    "    hat_cov = hat_cov/(n-1)\n",
    "    hat_varx = hat_cov[0,0]\n",
    "    hat_vary = hat_cov[1,1]\n",
    "    hat_covar = hat_cov[0,1]\n",
    "    return round(optimal_alpha(hat_varx, hat_vary, hat_covar),3)"
   ]
  },
  {
   "cell_type": "markdown",
   "metadata": {},
   "source": [
    "**Question 4:** How does our estimation change if we see different samples? Can it be that our estimation $\\hat{\\alpha}^\\star$ is very different than the real $\\alpha$ (which we don't see), but the specific sample of returns give us a huge bias?"
   ]
  },
  {
   "cell_type": "code",
   "execution_count": 21,
   "metadata": {},
   "outputs": [],
   "source": [
    "simulation = 1000 #number of times to simulate\n",
    "samples = 1000 #how many samples do we see in each \"scenario\"\n",
    "estimations = np.zeros(simulation)\n",
    "for sim in range(simulation):\n",
    "    estimations[sim] = hat_alpha(generate_sample(samples))"
   ]
  },
  {
   "cell_type": "code",
   "execution_count": 22,
   "metadata": {},
   "outputs": [
    {
     "name": "stdout",
     "output_type": "stream",
     "text": [
      "mean 0.601 min 0.528 max 0.686\n"
     ]
    }
   ],
   "source": [
    "print(\"mean\", round(np.mean(estimations),3),\"min\",np.min(estimations), \"max\", np.max(estimations))"
   ]
  },
  {
   "cell_type": "markdown",
   "metadata": {},
   "source": [
    "As we can see, the mean of all estimations are equal to the true $\\alpha$, which is the result of our unbiased estimation. However, our estimation vary between $[0.528, 0.686]$. How often do you think we have 'bad' values? Let's see in a histogram:"
   ]
  },
  {
   "cell_type": "code",
   "execution_count": 40,
   "metadata": {},
   "outputs": [
    {
     "data": {
      "image/png": "[encoded data removed]",
      "text/plain": [
       "<Figure size 432x288 with 1 Axes>"
      ]
     },
     "metadata": {
      "needs_background": "light"
     },
     "output_type": "display_data"
    }
   ],
   "source": [
    "plt.hist(estimations,  bins = 20)  # density=False would make counts\n",
    "plt.axvline(x=0.6, color='r', linestyle='--', label = r\"true value of $\\alpha^\\star$\")\n",
    "plt.legend()\n",
    "plt.show()"
   ]
  },
  {
   "cell_type": "markdown",
   "metadata": {},
   "source": [
    "Previously, we had $1,000$ simulations, and in each simulation we had $1,000$ samples. In real-life, we rarely get such a big sample. What if we just have $100$ samples? Let's see the histogram again."
   ]
  },
  {
   "cell_type": "code",
   "execution_count": 24,
   "metadata": {},
   "outputs": [
    {
     "name": "stdout",
     "output_type": "stream",
     "text": [
      "mean 0.595 min 0.359 max 0.87\n"
     ]
    }
   ],
   "source": [
    "samples = 100 #how many samples do we see in each \"scenario\"\n",
    "estimations = np.zeros(simulation)\n",
    "for sim in range(simulation):\n",
    "    estimations[sim] = hat_alpha(generate_sample(samples))\n",
    "print(\"mean\", round(np.mean(estimations),3),\"min\",np.min(estimations), \"max\", np.max(estimations))"
   ]
  },
  {
   "cell_type": "code",
   "execution_count": 25,
   "metadata": {},
   "outputs": [
    {
     "data": {
      "image/png": "[encoded data removed]",
      "text/plain": [
       "<Figure size 432x288 with 1 Axes>"
      ]
     },
     "metadata": {
      "needs_background": "light"
     },
     "output_type": "display_data"
    }
   ],
   "source": [
    "plt.hist(estimations,  bins = 30, color = 'g')  # density=False would make counts\n",
    "plt.axvline(x=0.6, color='r', linestyle='--', label = r\"true value of $\\alpha^\\star$\")\n",
    "plt.legend()\n",
    "plt.show()"
   ]
  },
  {
   "cell_type": "markdown",
   "metadata": {},
   "source": [
    "**Question 5:** In real life we are in a single 'simulation'. As we don't know the real distribution of data, we cannot generate $1,000$ samples and decide accordingly. We need to take the risk and trust on our $\\hat{\\alpha}^\\star$ estimation. The question is, can we quantify this 'trust'? "
   ]
  },
  {
   "cell_type": "markdown",
   "metadata": {},
   "source": [
    "**Answer:** It turns out yes!!! Bootstrapping saves us here. Let us first see simple statistics of our previous simulation. As a step 1, let us denote the previous simulations by $B = 1,\\ldots,1000$. Recall that in the very last experiment, in every simulation we generated a sample of $100$ returns of $(X,Y)$. What is the mean of our estimations $\\hat{\\alpha}_b$ (where $b \\in \\{ 1,\\ldots, B\\}$ is the simulation number)?"
   ]
  },
  {
   "cell_type": "markdown",
   "metadata": {},
   "source": [
    "We get that via $\\bar{\\alpha} = \\sum_{b=1}^B \\hat{\\alpha}_b$. Note that we drop the notation $\\alpha^\\star$ as it is clear that we are estimating the optimal $\\alpha$. "
   ]
  },
  {
   "cell_type": "code",
   "execution_count": 26,
   "metadata": {},
   "outputs": [
    {
     "data": {
      "text/plain": [
       "0.595"
      ]
     },
     "execution_count": 26,
     "metadata": {},
     "output_type": "execute_result"
    }
   ],
   "source": [
    "B = simulation #notational convenience\n",
    "bar_alpha = np.mean(estimations)\n",
    "round(bar_alpha,3)"
   ]
  },
  {
   "cell_type": "markdown",
   "metadata": {},
   "source": [
    "Now let us compute the standard deviation of these estmates:"
   ]
  },
  {
   "cell_type": "code",
   "execution_count": 27,
   "metadata": {},
   "outputs": [
    {
     "data": {
      "text/plain": [
       "0.081"
      ]
     },
     "execution_count": 27,
     "metadata": {},
     "output_type": "execute_result"
    }
   ],
   "source": [
    "standard_error = np.sqrt( np.sum(np.square(estimations - bar_alpha)) /(B-1))\n",
    "round(standard_error,3)"
   ]
  },
  {
   "cell_type": "markdown",
   "metadata": {},
   "source": [
    "We have that our estimation satisfies $SE(\\hat{\\alpha}) \\approx 0.081$ **based on the simulations**. So if we randomly sample $100$ returns of $(X,Y)$ just once, and estimate $\\hat{\\alpha}$ via the formula we derived, i.e.,\n",
    "\\begin{align*}\n",
    "\\hat{\\alpha}^\\star = \\dfrac{\\hat{\\sigma}^2_Y - \\hat{\\sigma}_{XY}}{\\hat{\\sigma}^2_X + \\hat{\\sigma}^2_Y - 2\\hat{\\sigma}_{XY}}.\n",
    "\\end{align*}\n",
    "then we expect this number to deviate from the *true optimal* $\\alpha$, i.e., \n",
    "\\begin{align*}\n",
    "\\alpha^\\star = \\dfrac{\\sigma^2_Y - \\sigma_{XY}}{\\sigma^2_X + \\sigma^2_Y - 2\\sigma_{XY}}.\n",
    "\\end{align*}\n",
    "by an amount of $0.082$ in average."
   ]
  },
  {
   "cell_type": "markdown",
   "metadata": {},
   "source": [
    "However, in the above experiments, we simulated a sampe of returns (of size $100$) for $1,000$ times. Such sampling requires us to use the distribution of $(X,Y)$. Again, in real life, we do **not** know the true distribution. We only have a single sample of $100$ returns of $(X,Y)$ and that is all we know. Let us denote the sample as $\\mathcal{R} = \\{(X_i, Y_i) \\ : \\ i = 1,\\ldots,100 \\}$.\n",
    "\n",
    "So how can we apply the previous simulation? Here comes bootstrapping. The idea is simple: as before, we simulate $1,000$ times, and in each simulation we sample $100$ realizations of $(X,Y)$ returns. But, this time, we use the returns $\\mathcal{R}$ we already have. However, if we sample $100$ distinct values, this is basically equivalent with the true set of returns we have. Instead, here, we sample **with replacements**. Let's see how it works now."
   ]
  },
  {
   "cell_type": "markdown",
   "metadata": {},
   "source": [
    "*Step 1: We are given a sample of $100$ returns and we do not know the true distribution.*"
   ]
  },
  {
   "cell_type": "code",
   "execution_count": 28,
   "metadata": {},
   "outputs": [],
   "source": [
    "given_returns = np.random.multivariate_normal(mu, r, size=n)"
   ]
  },
  {
   "cell_type": "markdown",
   "metadata": {},
   "source": [
    "*Step 2: We estimate the optimal investment strategy by estimating $\\hat{\\alpha}$ from the given returns.*"
   ]
  },
  {
   "cell_type": "code",
   "execution_count": 29,
   "metadata": {},
   "outputs": [
    {
     "data": {
      "text/plain": [
       "0.582"
      ]
     },
     "execution_count": 29,
     "metadata": {},
     "output_type": "execute_result"
    }
   ],
   "source": [
    "estimated_alpha = hat_alpha(given_returns)\n",
    "estimated_alpha"
   ]
  },
  {
   "cell_type": "markdown",
   "metadata": {},
   "source": [
    "*Step 3: We see the standard error associated with such estimation technique by using Bootstrapping*"
   ]
  },
  {
   "cell_type": "code",
   "execution_count": 30,
   "metadata": {},
   "outputs": [
    {
     "name": "stdout",
     "output_type": "stream",
     "text": [
      "mean 0.582 min 0.346 max 0.854\n"
     ]
    }
   ],
   "source": [
    "simulation = 1000#same as before\n",
    "B = simulation\n",
    "samples = 100#same\n",
    "estimations = np.zeros(simulation)#same as before \n",
    "for sim in range(simulation):\n",
    "    generated_sample = given_returns[np.random.randint(given_returns.shape[0], size=samples), :]\n",
    "    estimations[sim] = hat_alpha(generated_sample)\n",
    "print(\"mean\", round(np.mean(estimations),3),\"min\",np.min(estimations), \"max\", np.max(estimations))"
   ]
  },
  {
   "cell_type": "code",
   "execution_count": 31,
   "metadata": {},
   "outputs": [
    {
     "data": {
      "text/plain": [
       "0.076"
      ]
     },
     "execution_count": 31,
     "metadata": {},
     "output_type": "execute_result"
    }
   ],
   "source": [
    "#compute standard error\n",
    "bootstrap_error = np.sqrt( np.sum(np.square(estimations - np.mean(estimations))) /(B-1))\n",
    "np.round(bootstrap_error,3)"
   ]
  },
  {
   "cell_type": "code",
   "execution_count": 32,
   "metadata": {},
   "outputs": [
    {
     "name": "stdout",
     "output_type": "stream",
     "text": [
      "The estimation of the standard error from the simulations when we knew the distribution (which is very close to the truth due to the law of large numbers) was 0.081\n",
      "While the bootstrap estimation of the standard error is 0.076\n",
      "Boostrapping does not use any single information except for the given single 100-returns!\n"
     ]
    }
   ],
   "source": [
    "print(\"The estimation of the standard error from the simulations when we knew the distribution (which is very close to the truth due to the law of large numbers) was\", round(standard_error,3))\n",
    "print(\"While the bootstrap estimation of the standard error is\", round(bootstrap_error,3))\n",
    "print(\"Boostrapping does not use any single information except for the given single 100-returns!\")"
   ]
  },
  {
   "cell_type": "markdown",
   "metadata": {},
   "source": [
    "**Question 6:** When we are given a single sample of $100$-returns and estimate $\\hat{\\alpha}$, how can we obtain a confidence interval of the true $\\alpha$?"
   ]
  },
  {
   "cell_type": "markdown",
   "metadata": {},
   "source": [
    "**Answer:** This answer is inspired by ```Professor Martin Haugh```'s lecture notes on ```Resampling Methods```.\n",
    "Let us be interested in a $1-\\beta$-Confidence Interval (CI) on the true $\\alpha$. Fix any $\\beta$."
   ]
  },
  {
   "cell_type": "code",
   "execution_count": 33,
   "metadata": {},
   "outputs": [],
   "source": [
    "beta = 0.1"
   ]
  },
  {
   "cell_type": "markdown",
   "metadata": {},
   "source": [
    "Let $q_l, \\ q_u$ be the $\\beta/2$ lower and upper quantiles of the bootstrap samples."
   ]
  },
  {
   "cell_type": "code",
   "execution_count": 34,
   "metadata": {},
   "outputs": [],
   "source": [
    "ql = np.quantile(estimations, beta/2)\n",
    "qu = np.quantile(estimations, 1- beta/2)"
   ]
  },
  {
   "cell_type": "markdown",
   "metadata": {},
   "source": [
    "Then, the fraction of $\\hat{\\alpha}_b$ satisfying $q_l \\leq \\hat{\\alpha}_b \\leq q_u$ out of all $b=1,\\ldots,B$ (where $B =1000$ in this case) is $1-  \\beta$. Let's observe this:"
   ]
  },
  {
   "cell_type": "code",
   "execution_count": 35,
   "metadata": {},
   "outputs": [
    {
     "data": {
      "text/plain": [
       "0.9"
      ]
     },
     "execution_count": 35,
     "metadata": {},
     "output_type": "execute_result"
    }
   ],
   "source": [
    "collect = 0\n",
    "for i in range(B):\n",
    "    if estimations[i] <= qu and estimations[i] >= ql:\n",
    "        collect += 1\n",
    "collect/B"
   ]
  },
  {
   "cell_type": "markdown",
   "metadata": {},
   "source": [
    "A naive approach is to claim $\\alpha$ lies in the range $[q_l, q_u]$ which is a $1-\\beta$ ($90\\%$ in this case) confidence interval. Hence in our case (recall true $\\alpha = 0.6$), our confidence interval is:"
   ]
  },
  {
   "cell_type": "code",
   "execution_count": 36,
   "metadata": {},
   "outputs": [
    {
     "data": {
      "text/plain": [
       "array([0.45995, 0.71025])"
      ]
     },
     "execution_count": 36,
     "metadata": {},
     "output_type": "execute_result"
    }
   ],
   "source": [
    "np.array([ql, qu])"
   ]
  },
  {
   "cell_type": "markdown",
   "metadata": {},
   "source": [
    "However, we can improve this! Recall that $\\bar{\\alpha}$ is our estimation by using the whole sample of 100 returns. It is:"
   ]
  },
  {
   "cell_type": "code",
   "execution_count": 37,
   "metadata": {},
   "outputs": [
    {
     "data": {
      "text/plain": [
       "0.594963"
      ]
     },
     "execution_count": 37,
     "metadata": {},
     "output_type": "execute_result"
    }
   ],
   "source": [
    "bar_alpha"
   ]
  },
  {
   "cell_type": "markdown",
   "metadata": {},
   "source": [
    "The estimations that satisfy $q_l \\leq \\hat{\\alpha}_b \\leq q_u$ also satisfy $\\bar{\\alpha} - q_u \\leq \\bar{\\alpha} - \\hat{\\alpha}_b \\leq \\bar{\\alpha} -q_l$. Hence, $\\bar{\\alpha} - q_u$ and $\\bar{\\alpha}- q_l$ are lower/upper $\\beta/2$ quantiles for $\\bar{\\alpha} - \\hat{\\alpha}_b$!\n",
    "\n",
    "So if we add $\\bar{\\alpha}$ to this equation, we will obtain: $2\\bar{\\alpha} - q_u \\leq \\alpha \\leq 2\\bar{\\alpha}  - q_l$.\n",
    "\n",
    "Thus, a $(1 - \\beta)\\%$ CI of the true $\\alpha$ is $(2\\bar{\\alpha} - q_u, 2\\bar{\\alpha}  - q_l)$. In our case, a $90\\%$ CI is:"
   ]
  },
  {
   "cell_type": "code",
   "execution_count": 38,
   "metadata": {},
   "outputs": [
    {
     "data": {
      "text/plain": [
       "array([0.479676, 0.729976])"
      ]
     },
     "execution_count": 38,
     "metadata": {},
     "output_type": "execute_result"
    }
   ],
   "source": [
    "np.array([2*bar_alpha - qu, 2*bar_alpha - ql])"
   ]
  },
  {
   "cell_type": "markdown",
   "metadata": {},
   "source": [
    "Note that previously we observed that the minimum bootsrap estimate of the $\\alpha$ was $0.35$ and the maximum was $0.85$, so we can observe how a $90\\%$ CI is more compact."
   ]
  },
  {
   "cell_type": "markdown",
   "metadata": {},
   "source": [
    "**Exercise**\n",
    "- How would you modify the estimation of $\\alpha$, the simulation, and the Bootstrapping for obtaining CI, if you were told that $(X,Y)$ has a normal distribution?"
   ]
  }
 ],
 "metadata": {
  "kernelspec": {
   "display_name": "Python 3",
   "language": "python",
   "name": "python3"
  },
  "language_info": {
   "codemirror_mode": {
    "name": "ipython",
    "version": 3
   },
   "file_extension": ".py",
   "mimetype": "text/x-python",
   "name": "python",
   "nbconvert_exporter": "python",
   "pygments_lexer": "ipython3",
   "version": "3.8.2"
  }
 },
 "nbformat": 4,
 "nbformat_minor": 5
}
