{
 "cells": [
  {
   "cell_type": "code",
   "execution_count": 114,
   "metadata": {},
   "outputs": [
    {
     "name": "stdout",
     "output_type": "stream",
     "text": [
      "    Sepal length  Sepal width       Class\n",
      "0            6.3          2.9   virginica\n",
      "1            5.1          3.4      setosa\n",
      "2            5.7          2.5   virginica\n",
      "3            5.0          3.5      setosa\n",
      "4            4.8          3.4      setosa\n",
      "5            6.6          2.9  versicolor\n",
      "6            6.3          3.3  versicolor\n",
      "7            6.3          3.4  versicolor\n",
      "8            6.0          3.4  versicolor\n",
      "9            4.7          3.2         ???\n",
      "10           5.0          3.3         ???\n",
      "11           6.1          2.9         ???\n",
      "12           6.8          3.2         ???\n",
      "13           4.5          2.3         ???\n",
      "14           7.7          3.0         ???\n"
     ]
    }
   ],
   "source": [
    "import pandas as pd\n",
    "import numpy as np\n",
    "from collections import Counter\n",
    "import matplotlib.pyplot as plt\n",
    "# Create a dictionary with the data\n",
    "data = {\n",
    "    'Sepal length': [6.3, 5.1, 5.7, 5.0, 4.8, 6.6, 6.3, 6.3, 6.0, 4.7, 5.0, 6.1, 6.8, 4.5, 7.7],\n",
    "    'Sepal width': [2.9, 3.4, 2.5, 3.5, 3.4, 2.9, 3.3, 3.4, 3.4, 3.2, 3.3, 2.9, 3.2, 2.3, 3.0],\n",
    "    'Class': ['virginica', 'setosa', 'virginica', 'setosa', 'setosa', 'versicolor', 'versicolor', 'versicolor', 'versicolor', '???', '???', '???', '???', '???', '???']\n",
    "}\n",
    "\n",
    "# Create a DataFrame\n",
    "df = pd.DataFrame(data)\n",
    "n = len(df)\n",
    "print(df)"
   ]
  },
  {
   "cell_type": "code",
   "execution_count": 102,
   "metadata": {},
   "outputs": [
    {
     "data": {
      "text/plain": [
       "5.793333333333333"
      ]
     },
     "execution_count": 102,
     "metadata": {},
     "output_type": "execute_result"
    }
   ],
   "source": [
    "mu_l = df['Sepal length'].mean()\n",
    "mu_l"
   ]
  },
  {
   "cell_type": "code",
   "execution_count": 64,
   "metadata": {},
   "outputs": [
    {
     "data": {
      "text/plain": [
       "0.8435238095238095"
      ]
     },
     "execution_count": 64,
     "metadata": {},
     "output_type": "execute_result"
    }
   ],
   "source": [
    "df['Sepal length'].var()"
   ]
  },
  {
   "cell_type": "code",
   "execution_count": 108,
   "metadata": {},
   "outputs": [],
   "source": [
    "ssd_l = ((df['Sepal length'] - mu_l) ** 2).sum()"
   ]
  },
  {
   "cell_type": "code",
   "execution_count": 109,
   "metadata": {},
   "outputs": [
    {
     "data": {
      "text/plain": [
       "0.8872930118562238"
      ]
     },
     "execution_count": 109,
     "metadata": {},
     "output_type": "execute_result"
    }
   ],
   "source": [
    "np.sqrt(ssd_l/n)"
   ]
  },
  {
   "cell_type": "code",
   "execution_count": 24,
   "metadata": {},
   "outputs": [
    {
     "data": {
      "text/plain": [
       "0.8872930118562238"
      ]
     },
     "execution_count": 24,
     "metadata": {},
     "output_type": "execute_result"
    }
   ],
   "source": [
    "std_l = df['Sepal length'].std(ddof=0)\n",
    "std_l"
   ]
  },
  {
   "cell_type": "code",
   "execution_count": 25,
   "metadata": {},
   "outputs": [
    {
     "data": {
      "text/plain": [
       "0.8872930118562238"
      ]
     },
     "execution_count": 25,
     "metadata": {},
     "output_type": "execute_result"
    }
   ],
   "source": [
    "np.sqrt(((df['Sepal length'] - mu_l) ** 2).sum())/np.sqrt(n)"
   ]
  },
  {
   "cell_type": "code",
   "execution_count": 104,
   "metadata": {},
   "outputs": [
    {
     "data": {
      "text/plain": [
       "3.1066666666666665"
      ]
     },
     "execution_count": 104,
     "metadata": {},
     "output_type": "execute_result"
    }
   ],
   "source": [
    "mu_w = df['Sepal width'].mean()\n",
    "mu_w"
   ]
  },
  {
   "cell_type": "code",
   "execution_count": 21,
   "metadata": {},
   "outputs": [
    {
     "data": {
      "text/plain": [
       "0.3414999593297519"
      ]
     },
     "execution_count": 21,
     "metadata": {},
     "output_type": "execute_result"
    }
   ],
   "source": [
    "std_w = df['Sepal width'].std(ddof=0)\n",
    "std_w"
   ]
  },
  {
   "cell_type": "code",
   "execution_count": 112,
   "metadata": {},
   "outputs": [
    {
     "data": {
      "text/plain": [
       "1.7493333333333332"
      ]
     },
     "execution_count": 112,
     "metadata": {},
     "output_type": "execute_result"
    }
   ],
   "source": [
    "ssd_w = ((df['Sepal width'] - mu_w) ** 2).sum()\n",
    "ssd_w"
   ]
  },
  {
   "cell_type": "code",
   "execution_count": 113,
   "metadata": {},
   "outputs": [
    {
     "data": {
      "text/plain": [
       "0.3414999593297519"
      ]
     },
     "execution_count": 113,
     "metadata": {},
     "output_type": "execute_result"
    }
   ],
   "source": [
    "np.sqrt(ssd_w/n)"
   ]
  },
  {
   "cell_type": "code",
   "execution_count": 22,
   "metadata": {},
   "outputs": [
    {
     "data": {
      "text/plain": [
       "0.3414999593297519"
      ]
     },
     "execution_count": 22,
     "metadata": {},
     "output_type": "execute_result"
    }
   ],
   "source": [
    "np.sqrt(((df['Sepal width'] - mu_w) ** 2).sum())/np.sqrt(n)"
   ]
  },
  {
   "cell_type": "code",
   "execution_count": 26,
   "metadata": {},
   "outputs": [],
   "source": [
    "df2 = df.copy()"
   ]
  },
  {
   "cell_type": "code",
   "execution_count": 28,
   "metadata": {},
   "outputs": [],
   "source": [
    "df2['Sepal length'] = (df2['Sepal length'] - mu_l) / std_l"
   ]
  },
  {
   "cell_type": "code",
   "execution_count": 27,
   "metadata": {},
   "outputs": [],
   "source": [
    "df2['Sepal width'] = (df2['Sepal width'] - mu_w) / std_w"
   ]
  },
  {
   "cell_type": "code",
   "execution_count": 163,
   "metadata": {},
   "outputs": [
    {
     "data": {
      "text/html": [
       "<div>\n",
       "<style scoped>\n",
       "    .dataframe tbody tr th:only-of-type {\n",
       "        vertical-align: middle;\n",
       "    }\n",
       "\n",
       "    .dataframe tbody tr th {\n",
       "        vertical-align: top;\n",
       "    }\n",
       "\n",
       "    .dataframe thead th {\n",
       "        text-align: right;\n",
       "    }\n",
       "</style>\n",
       "<table border=\"1\" class=\"dataframe\">\n",
       "  <thead>\n",
       "    <tr style=\"text-align: right;\">\n",
       "      <th></th>\n",
       "      <th>Sepal length</th>\n",
       "      <th>Sepal width</th>\n",
       "      <th>Class</th>\n",
       "    </tr>\n",
       "  </thead>\n",
       "  <tbody>\n",
       "    <tr>\n",
       "      <th>0</th>\n",
       "      <td>0.571025</td>\n",
       "      <td>-0.605173</td>\n",
       "      <td>virginica</td>\n",
       "    </tr>\n",
       "    <tr>\n",
       "      <th>1</th>\n",
       "      <td>-0.781403</td>\n",
       "      <td>0.858956</td>\n",
       "      <td>setosa</td>\n",
       "    </tr>\n",
       "    <tr>\n",
       "      <th>2</th>\n",
       "      <td>-0.105189</td>\n",
       "      <td>-1.776477</td>\n",
       "      <td>virginica</td>\n",
       "    </tr>\n",
       "    <tr>\n",
       "      <th>3</th>\n",
       "      <td>-0.894105</td>\n",
       "      <td>1.151781</td>\n",
       "      <td>setosa</td>\n",
       "    </tr>\n",
       "    <tr>\n",
       "      <th>4</th>\n",
       "      <td>-1.119510</td>\n",
       "      <td>0.858956</td>\n",
       "      <td>setosa</td>\n",
       "    </tr>\n",
       "    <tr>\n",
       "      <th>5</th>\n",
       "      <td>0.909132</td>\n",
       "      <td>-0.605173</td>\n",
       "      <td>versicolor</td>\n",
       "    </tr>\n",
       "    <tr>\n",
       "      <th>6</th>\n",
       "      <td>0.571025</td>\n",
       "      <td>0.566130</td>\n",
       "      <td>versicolor</td>\n",
       "    </tr>\n",
       "    <tr>\n",
       "      <th>7</th>\n",
       "      <td>0.571025</td>\n",
       "      <td>0.858956</td>\n",
       "      <td>versicolor</td>\n",
       "    </tr>\n",
       "    <tr>\n",
       "      <th>8</th>\n",
       "      <td>0.232918</td>\n",
       "      <td>0.858956</td>\n",
       "      <td>versicolor</td>\n",
       "    </tr>\n",
       "    <tr>\n",
       "      <th>9</th>\n",
       "      <td>-1.232212</td>\n",
       "      <td>0.273304</td>\n",
       "      <td>???</td>\n",
       "    </tr>\n",
       "    <tr>\n",
       "      <th>10</th>\n",
       "      <td>-0.894105</td>\n",
       "      <td>0.566130</td>\n",
       "      <td>???</td>\n",
       "    </tr>\n",
       "    <tr>\n",
       "      <th>11</th>\n",
       "      <td>0.345621</td>\n",
       "      <td>-0.605173</td>\n",
       "      <td>???</td>\n",
       "    </tr>\n",
       "    <tr>\n",
       "      <th>12</th>\n",
       "      <td>1.134537</td>\n",
       "      <td>0.273304</td>\n",
       "      <td>???</td>\n",
       "    </tr>\n",
       "    <tr>\n",
       "      <th>13</th>\n",
       "      <td>-1.457617</td>\n",
       "      <td>-2.362128</td>\n",
       "      <td>???</td>\n",
       "    </tr>\n",
       "    <tr>\n",
       "      <th>14</th>\n",
       "      <td>2.148858</td>\n",
       "      <td>-0.312348</td>\n",
       "      <td>???</td>\n",
       "    </tr>\n",
       "  </tbody>\n",
       "</table>\n",
       "</div>"
      ],
      "text/plain": [
       "    Sepal length  Sepal width       Class\n",
       "0       0.571025    -0.605173   virginica\n",
       "1      -0.781403     0.858956      setosa\n",
       "2      -0.105189    -1.776477   virginica\n",
       "3      -0.894105     1.151781      setosa\n",
       "4      -1.119510     0.858956      setosa\n",
       "5       0.909132    -0.605173  versicolor\n",
       "6       0.571025     0.566130  versicolor\n",
       "7       0.571025     0.858956  versicolor\n",
       "8       0.232918     0.858956  versicolor\n",
       "9      -1.232212     0.273304         ???\n",
       "10     -0.894105     0.566130         ???\n",
       "11      0.345621    -0.605173         ???\n",
       "12      1.134537     0.273304         ???\n",
       "13     -1.457617    -2.362128         ???\n",
       "14      2.148858    -0.312348         ???"
      ]
     },
     "execution_count": 163,
     "metadata": {},
     "output_type": "execute_result"
    }
   ],
   "source": [
    "df2"
   ]
  },
  {
   "cell_type": "code",
   "execution_count": 94,
   "metadata": {},
   "outputs": [],
   "source": [
    "train  = df2[:9]"
   ]
  },
  {
   "cell_type": "code",
   "execution_count": 126,
   "metadata": {},
   "outputs": [
    {
     "data": {
      "text/html": [
       "<div>\n",
       "<style scoped>\n",
       "    .dataframe tbody tr th:only-of-type {\n",
       "        vertical-align: middle;\n",
       "    }\n",
       "\n",
       "    .dataframe tbody tr th {\n",
       "        vertical-align: top;\n",
       "    }\n",
       "\n",
       "    .dataframe thead th {\n",
       "        text-align: right;\n",
       "    }\n",
       "</style>\n",
       "<table border=\"1\" class=\"dataframe\">\n",
       "  <thead>\n",
       "    <tr style=\"text-align: right;\">\n",
       "      <th></th>\n",
       "      <th>Sepal length</th>\n",
       "      <th>Sepal width</th>\n",
       "      <th>Class</th>\n",
       "    </tr>\n",
       "  </thead>\n",
       "  <tbody>\n",
       "    <tr>\n",
       "      <th>9</th>\n",
       "      <td>-1.232212</td>\n",
       "      <td>0.273304</td>\n",
       "      <td>???</td>\n",
       "    </tr>\n",
       "    <tr>\n",
       "      <th>10</th>\n",
       "      <td>-0.894105</td>\n",
       "      <td>0.566130</td>\n",
       "      <td>???</td>\n",
       "    </tr>\n",
       "    <tr>\n",
       "      <th>11</th>\n",
       "      <td>0.345621</td>\n",
       "      <td>-0.605173</td>\n",
       "      <td>???</td>\n",
       "    </tr>\n",
       "    <tr>\n",
       "      <th>12</th>\n",
       "      <td>1.134537</td>\n",
       "      <td>0.273304</td>\n",
       "      <td>???</td>\n",
       "    </tr>\n",
       "    <tr>\n",
       "      <th>13</th>\n",
       "      <td>-1.457617</td>\n",
       "      <td>-2.362128</td>\n",
       "      <td>???</td>\n",
       "    </tr>\n",
       "    <tr>\n",
       "      <th>14</th>\n",
       "      <td>2.148858</td>\n",
       "      <td>-0.312348</td>\n",
       "      <td>???</td>\n",
       "    </tr>\n",
       "  </tbody>\n",
       "</table>\n",
       "</div>"
      ],
      "text/plain": [
       "    Sepal length  Sepal width Class\n",
       "9      -1.232212     0.273304   ???\n",
       "10     -0.894105     0.566130   ???\n",
       "11      0.345621    -0.605173   ???\n",
       "12      1.134537     0.273304   ???\n",
       "13     -1.457617    -2.362128   ???\n",
       "14      2.148858    -0.312348   ???"
      ]
     },
     "execution_count": 126,
     "metadata": {},
     "output_type": "execute_result"
    }
   ],
   "source": [
    "test = df2[9:]\n",
    "test"
   ]
  },
  {
   "cell_type": "code",
   "execution_count": 183,
   "metadata": {},
   "outputs": [],
   "source": [
    "def knn(train,test,k=3):\n",
    "    classes = []\n",
    "    final=[]\n",
    "    dists=[]\n",
    "    for index,row in test.iterrows():\n",
    "        test_vec = row.values\n",
    "        dist = []\n",
    "        cls = []\n",
    "        for i,r in train.iterrows():\n",
    "            train_vec = r.values\n",
    "            dist.append(round(np.linalg.norm(train_vec[:2] - test_vec[:2]),3))\n",
    "            cls.append(train_vec[2])\n",
    "        zipped = sorted(zip(dist,cls))[:3]\n",
    "        dists.append(dist)\n",
    "        final.append(zipped)\n",
    "        classes.append(Counter([x[1] for x in zipped]).most_common()[0][0])\n",
    "    \n",
    "    return pd.DataFrame(final), pd.DataFrame(classes),  pd.DataFrame(dists)"
   ]
  },
  {
   "cell_type": "code",
   "execution_count": 184,
   "metadata": {},
   "outputs": [
    {
     "name": "stdout",
     "output_type": "stream",
     "text": [
      "       0      1      2      3      4      5      6      7      8\n",
      "0  2.006  0.739  2.339  0.941  0.596  2.315  1.827  1.896  1.578\n",
      "1  1.876  0.314  2.472  0.586  0.370  2.150  1.465  1.494  1.164\n",
      "2  0.225  1.848  1.255  2.150  2.071  0.564  1.193  1.481  1.468\n",
      "3  1.044  2.003  2.396  2.211  2.329  0.907  0.635  0.813  1.075\n",
      "4  2.684  3.291  1.474  3.559  3.239  2.948  3.562  3.807  3.638\n",
      "5  1.605  3.156  2.688  3.377  3.472  1.274  1.806  1.965  2.246\n",
      "                     0                    1                    2           0\n",
      "0      (0.596, setosa)      (0.739, setosa)      (0.941, setosa)      setosa\n",
      "1      (0.314, setosa)       (0.37, setosa)      (0.586, setosa)      setosa\n",
      "2   (0.225, virginica)  (0.564, versicolor)  (1.193, versicolor)  versicolor\n",
      "3  (0.635, versicolor)  (0.813, versicolor)  (0.907, versicolor)  versicolor\n",
      "4   (1.474, virginica)   (2.684, virginica)  (2.948, versicolor)   virginica\n",
      "5  (1.274, versicolor)   (1.605, virginica)  (1.806, versicolor)  versicolor\n"
     ]
    }
   ],
   "source": [
    "final, classes, dists = knn(train, test)\n",
    "print(dists)\n",
    "df = test.copy()\n",
    "df = df.reset_index(drop=True)\n",
    "df = df.drop('Class', axis=1)\n",
    "result = pd.concat([final, classes],axis=1)\n",
    "print(result)"
   ]
  },
  {
   "cell_type": "code",
   "execution_count": 177,
   "metadata": {},
   "outputs": [
    {
     "name": "stdout",
     "output_type": "stream",
     "text": [
      "            0\n",
      "0      setosa\n",
      "1      setosa\n",
      "2  versicolor\n",
      "3  versicolor\n",
      "4   virginica\n",
      "5  versicolor\n"
     ]
    }
   ],
   "source": [
    "print(pd.DataFrame(classes))\n"
   ]
  },
  {
   "cell_type": "code",
   "execution_count": null,
   "metadata": {},
   "outputs": [],
   "source": [
    "import numpy as np\n",
    "round(0.01 ** 0.002,4)"
   ]
  },
  {
   "cell_type": "code",
   "execution_count": null,
   "metadata": {},
   "outputs": [],
   "source": []
  }
 ],
 "metadata": {
  "kernelspec": {
   "display_name": "Python 3",
   "language": "python",
   "name": "python3"
  },
  "language_info": {
   "codemirror_mode": {
    "name": "ipython",
    "version": 3
   },
   "file_extension": ".py",
   "mimetype": "text/x-python",
   "name": "python",
   "nbconvert_exporter": "python",
   "pygments_lexer": "ipython3",
   "version": "3.8.2"
  }
 },
 "nbformat": 4,
 "nbformat_minor": 4
}
