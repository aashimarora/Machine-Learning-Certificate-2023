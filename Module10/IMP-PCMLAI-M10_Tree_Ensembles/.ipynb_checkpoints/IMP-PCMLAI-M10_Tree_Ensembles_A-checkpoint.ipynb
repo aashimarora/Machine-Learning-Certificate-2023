{
 "cells": [
  {
   "cell_type": "code",
   "execution_count": 26,
   "metadata": {},
   "outputs": [],
   "source": [
    "import numpy as np\n",
    "import pandas as pd\n",
    "from sklearn import tree, ensemble\n",
    "import matplotlib.pyplot as plt\n",
    "from sklearn.datasets import load_wine\n",
    "from sklearn.inspection import permutation_importance"
   ]
  },
  {
   "cell_type": "markdown",
   "metadata": {},
   "source": [
    "# Tree Ensembles "
   ]
  },
  {
   "cell_type": "markdown",
   "metadata": {},
   "source": [
    "## Assignment overview \n",
    "\n",
    "In this assignment you will build two types of tree ensemble models: Random Forest and Boosted. You will then investigate two methods for feature selection. \n",
    "\n",
    "###### Outline:\n",
    "\n",
    "\n",
    "- [Part 1](#part1)- Importing the data set and formatting it \n",
    "- [Part 2](#part2)- Fitting a single decision tree\n",
    "- [Part 3](#part3)- Using a Random Forest Classifier\n",
    "- [Part 4](#part4)- Using the AdaBoost Classifier\n",
    "- [Part 5](#part5)- Choosing the best classifier and retraining using all the samples, testing on the test set\n",
    "- [Part 6](#part6)- Feature selection\n"
   ]
  },
  {
   "cell_type": "markdown",
   "metadata": {},
   "source": [
    "[Back to top](#Index:) \n",
    "\n",
    "<a id='part1'></a>\n",
    "\n",
    "### Part 1 - Importing the data set\n",
    "\n",
    "For this excercise we will be using a data set from the University of Medicine and Pharmacy of Craiova, Romania to predict the hospitalisation period of patients after colon cancer operations based on socio-economic variables and clinical information. You can read more about the data and it's origins [here](https://figshare.com/articles/dataset/LOS_Colon_Cancer_621_cases/4747246/1). "
   ]
  },
  {
   "cell_type": "markdown",
   "metadata": {},
   "source": [
    "The data is stored in xlsx format again in the `colon_data.xlsx` file. Use the `read_excel()` function to load it"
   ]
  },
  {
   "cell_type": "code",
   "execution_count": 27,
   "metadata": {},
   "outputs": [
    {
     "data": {
      "text/plain": [
       "298"
      ]
     },
     "execution_count": 27,
     "metadata": {},
     "output_type": "execute_result"
    }
   ],
   "source": [
    "df = pd.read_excel('colon_data.xlsx')\n",
    "len(df)"
   ]
  },
  {
   "cell_type": "markdown",
   "metadata": {},
   "source": [
    "Use the `.head()` function to visulise the data"
   ]
  },
  {
   "cell_type": "code",
   "execution_count": 28,
   "metadata": {
    "scrolled": true
   },
   "outputs": [
    {
     "name": "stdout",
     "output_type": "stream",
     "text": [
      "Index(['AGE', 'SEX', 'TOPOGRAPHY', 'STAGE', 'T', 'N', 'M', 'SURGERY', 'CLASS'], dtype='object')\n"
     ]
    }
   ],
   "source": [
    "df.head()\n",
    "print(df.columns)"
   ]
  },
  {
   "cell_type": "markdown",
   "metadata": {},
   "source": [
    "First we want to replace the categorical values of the output (the `CLASS` variable) with numerical values. Fill in the gaps below to use the `.replace()` function to do this."
   ]
  },
  {
   "cell_type": "code",
   "execution_count": 29,
   "metadata": {},
   "outputs": [],
   "source": [
    "df['CLASS'].replace(to_replace=['short', 'medium', 'long'], value=[1, 2, 3], inplace=True) "
   ]
  },
  {
   "cell_type": "markdown",
   "metadata": {},
   "source": [
    "Now use the `get_dummies()` function to transform the other categorical variables to numerical ones. "
   ]
  },
  {
   "cell_type": "code",
   "execution_count": 30,
   "metadata": {
    "scrolled": false
   },
   "outputs": [
    {
     "name": "stdout",
     "output_type": "stream",
     "text": [
      "   AGE  CLASS  SEX_F  SEX_M  TOPOGRAPHY_cec  TOPOGRAPHY_colon_asc  \\\n",
      "0   64      2      0      1               0                     0   \n",
      "1   70      2      0      1               0                     0   \n",
      "2   76      2      1      0               1                     0   \n",
      "\n",
      "   TOPOGRAPHY_colon_desc  TOPOGRAPHY_colon_sigm  TOPOGRAPHY_colon_trans  \\\n",
      "0                      0                      0                       0   \n",
      "1                      0                      0                       0   \n",
      "2                      0                      0                       0   \n",
      "\n",
      "   TOPOGRAPHY_jonc_rect_sigm  ...  N_N1  N_N2  N_Nx  M_M0  M_M1  M_M1_hep  \\\n",
      "0                          0  ...     0     0     1     0     0         0   \n",
      "1                          0  ...     0     0     1     0     0         0   \n",
      "2                          0  ...     0     0     1     0     0         0   \n",
      "\n",
      "   M_Mx  SURGERY_ten  SURGERY_three  SURGERY_two  \n",
      "0     1            1              0            0  \n",
      "1     1            1              0            0  \n",
      "2     1            0              1            0  \n",
      "\n",
      "[3 rows x 31 columns]\n"
     ]
    }
   ],
   "source": [
    "df = pd.get_dummies(df)\n",
    "print(df.head(3))"
   ]
  },
  {
   "cell_type": "markdown",
   "metadata": {},
   "source": [
    "The following cell is just to ensure the 'CLASS' variable is the last column"
   ]
  },
  {
   "cell_type": "code",
   "execution_count": 31,
   "metadata": {},
   "outputs": [],
   "source": [
    "columns = df.columns.to_list()\n",
    "columns.remove('CLASS')\n",
    "df = df[columns + ['CLASS']]"
   ]
  },
  {
   "cell_type": "markdown",
   "metadata": {},
   "source": [
    "We will now process the data similar to how we did for the loan data set activity."
   ]
  },
  {
   "cell_type": "markdown",
   "metadata": {},
   "source": [
    "Run the cell below to convert the `df` into a `NumPy` array"
   ]
  },
  {
   "cell_type": "code",
   "execution_count": 32,
   "metadata": {},
   "outputs": [],
   "source": [
    "Xy=np.array(df)"
   ]
  },
  {
   "cell_type": "markdown",
   "metadata": {},
   "source": [
    "For reproducibility, set the random seed = 1. You can do this by using the `NumPy` function `random.seed()`. Assign your seed to the variable `seed`. Next, complete the code cell below by using the function `random.shuffle()` on `Xy`."
   ]
  },
  {
   "cell_type": "code",
   "execution_count": 33,
   "metadata": {},
   "outputs": [],
   "source": [
    "seed = np.random.seed(1)\n",
    "np.random.shuffle(Xy)"
   ]
  },
  {
   "cell_type": "markdown",
   "metadata": {},
   "source": [
    "Before splitting the data into a training set, a test set, and a validation set, we need to divide `Xy` into two arrays: the first one, `X`, a 2D array containing all the predictors and the second, `y`, is a 1D array with the response. \n",
    "\n",
    "Run the code cell below to generate `X`. Complete the remaining code to define `y`."
   ]
  },
  {
   "cell_type": "code",
   "execution_count": 34,
   "metadata": {},
   "outputs": [],
   "source": [
    "X=Xy[:,:-1]\n",
    "y=Xy[:,-1]"
   ]
  },
  {
   "cell_type": "code",
   "execution_count": 35,
   "metadata": {},
   "outputs": [],
   "source": [
    "#define y\n",
    "y=Xy[:,-1]"
   ]
  },
  {
   "cell_type": "markdown",
   "metadata": {},
   "source": [
    "Next, we need to split the messages into into 50% training data, 25% validation data, and 25% test data.\n",
    "\n",
    "Run the code below to split `X` into training, validation and test sets."
   ]
  },
  {
   "cell_type": "code",
   "execution_count": 36,
   "metadata": {},
   "outputs": [],
   "source": [
    "trainsize = int(len(df)/2)\n",
    "trainplusvalsize = int(len(df)/4)\n",
    "X_train=X[:trainsize]\n",
    "X_val=X[trainsize:trainsize + trainplusvalsize]\n",
    "X_test=X[trainsize + trainplusvalsize:]\n",
    "\n",
    "y_train=y[:trainsize]\n",
    "y_val=y[trainsize:trainsize + trainplusvalsize]\n",
    "y_test=y[trainsize + trainplusvalsize:]"
   ]
  },
  {
   "cell_type": "markdown",
   "metadata": {},
   "source": [
    "[Back to top](#Index:) \n",
    "\n",
    "<a id='part2'></a>\n",
    "\n",
    "### Part 2: Fit a Single Decision Tree \n",
    "\n",
    "Use the same code as you used for the loan dataset notebook to fit decision trees with different depths up to `max_depth = 15`. Select the best depth - you will compare this to your tree ensemble methods later. "
   ]
  },
  {
   "cell_type": "code",
   "execution_count": 37,
   "metadata": {},
   "outputs": [
    {
     "name": "stdout",
     "output_type": "stream",
     "text": [
      "Depth: 1 Train Score: 0.738255033557047 Validation Score: 0.6081081081081081\n",
      "Depth: 2 Train Score: 0.7986577181208053 Validation Score: 0.6891891891891891\n",
      "Depth: 3 Train Score: 0.8456375838926175 Validation Score: 0.7567567567567568\n",
      "Depth: 4 Train Score: 0.8657718120805369 Validation Score: 0.7432432432432432\n",
      "Depth: 5 Train Score: 0.912751677852349 Validation Score: 0.7297297297297297\n",
      "Depth: 6 Train Score: 0.9463087248322147 Validation Score: 0.7567567567567568\n",
      "Depth: 7 Train Score: 0.9664429530201343 Validation Score: 0.7432432432432432\n",
      "Depth: 8 Train Score: 0.9731543624161074 Validation Score: 0.7702702702702703\n",
      "Depth: 9 Train Score: 0.9798657718120806 Validation Score: 0.7432432432432432\n",
      "Depth: 10 Train Score: 0.9932885906040269 Validation Score: 0.7702702702702703\n",
      "Depth: 11 Train Score: 0.9932885906040269 Validation Score: 0.7567567567567568\n",
      "Depth: 12 Train Score: 0.9932885906040269 Validation Score: 0.7432432432432432\n",
      "Depth: 13 Train Score: 0.9932885906040269 Validation Score: 0.7702702702702703\n",
      "Depth: 14 Train Score: 0.9932885906040269 Validation Score: 0.7432432432432432\n",
      "Depth: 15 Train Score: 0.9932885906040269 Validation Score: 0.7702702702702703\n",
      "8 0.7702702702702703\n"
     ]
    }
   ],
   "source": [
    "max_depth = 15\n",
    "bestscore = 0\n",
    "for i in range(max_depth):\n",
    "    clf = tree.DecisionTreeClassifier(max_depth=i+1)\n",
    "    clf.fit(X_train,y_train)\n",
    "    trainscore=clf.score(X_train,y_train)\n",
    "    valscore=clf.score(X_val,y_val)\n",
    "    print( 'Depth:', i+1, 'Train Score:', trainscore, 'Validation Score:', valscore)\n",
    "\n",
    "    if valscore>bestscore:\n",
    "        bestscore=valscore\n",
    "        bestdepth=i+1\n",
    "print(bestdepth, bestscore)"
   ]
  },
  {
   "cell_type": "markdown",
   "metadata": {},
   "source": [
    "***Question***\n",
    "\n",
    "What is the best maximum depth? \n",
    "\n",
    "\n",
    "***Double click on this cell to enter your answer***\n",
    "\n",
    "The best maximum depth is 8 with validation score 0.77027  (1 mark)"
   ]
  },
  {
   "cell_type": "markdown",
   "metadata": {},
   "source": [
    "[Back to top](#Index:) \n",
    "\n",
    "<a id='part3'></a>\n",
    "\n",
    "## Part 3: Random Forest\n",
    "\n",
    "In this section you will learn how to build a random forest model in sklearn and explore the effect of the `max_features` hyperparameter. "
   ]
  },
  {
   "cell_type": "markdown",
   "metadata": {},
   "source": [
    "Use the `ensemble.RandomForestClassifier()` function to build a random forest model with the default parameters. Use the `.fit()` function to train it, the same as you did for the decision tree. "
   ]
  },
  {
   "cell_type": "code",
   "execution_count": 38,
   "metadata": {
    "scrolled": true
   },
   "outputs": [
    {
     "data": {
      "text/plain": [
       "RandomForestClassifier()"
      ]
     },
     "execution_count": 38,
     "metadata": {},
     "output_type": "execute_result"
    }
   ],
   "source": [
    "rf_clf = ensemble.RandomForestClassifier()\n",
    "rf_clf.fit(X_train, y_train)"
   ]
  },
  {
   "cell_type": "code",
   "execution_count": 39,
   "metadata": {},
   "outputs": [
    {
     "name": "stdout",
     "output_type": "stream",
     "text": [
      "Full tree guess train/validation  0.9932885906040269 0.7702702702702703\n"
     ]
    }
   ],
   "source": [
    "print ( 'Full tree guess train/validation ',rf_clf.score(X_train, y_train),rf_clf.score(X_val, y_val))"
   ]
  },
  {
   "cell_type": "markdown",
   "metadata": {},
   "source": [
    "In random forest classifiers, the algorithm only considers a subset of the features at each split. This is controlled using the `max_features` argument. Normally this subset size is set to the square root of the total number of features, but here we will look at both setting it to the square root `\"sqrt\"` (this is the default in sklearn) and to `None`. when `max_features = None` the algorithm is using all the features at every split. \n"
   ]
  },
  {
   "cell_type": "code",
   "execution_count": 40,
   "metadata": {
    "scrolled": true
   },
   "outputs": [
    {
     "name": "stdout",
     "output_type": "stream",
     "text": [
      "Full tree guess train/validation sqrt 0.9932885906040269 0.7702702702702703\n",
      "Full tree guess train/validation None 0.9932885906040269 0.7837837837837838\n"
     ]
    }
   ],
   "source": [
    "# for loop looking at RF with different max_features \n",
    "# select best one\n",
    "\n",
    "for max_features in [\"sqrt\",  None]:\n",
    "    rf_clf = ensemble.RandomForestClassifier(max_features = max_features)\n",
    "    rf_clf.fit(X_train, y_train)\n",
    "\n",
    "    print ( f'Full tree guess train/validation {max_features}',rf_clf.score(X_train, y_train),rf_clf.score(X_val, y_val))\n"
   ]
  },
  {
   "cell_type": "markdown",
   "metadata": {},
   "source": [
    "***Question***\n",
    "\n",
    "Which method performs best? Why might this be?\n",
    "\n",
    "Rerun the cell above with different random seeds (but remember to set it back to `random_seed=1`). What happens? Why is this? \n",
    "\n",
    "***Double click on this cell to enter your answer***\n",
    "\n",
    "A: The method using the square root performs better - this is because by taking the square root we are reducing the correlation between trees. (2 marks)\n",
    "\n",
    "A: With different random seeds, the scores are different. This is because the building of the trees in random forest is a random process so will vary each time. (2 marks)"
   ]
  },
  {
   "cell_type": "markdown",
   "metadata": {},
   "source": [
    "[Back to top](#Index:) \n",
    "\n",
    "<a id='part4'></a>\n",
    "\n",
    "## Part 4: Boosting\n",
    "\n",
    "For our boosting algorithm we will use scikit learn's AdaBoost. This boosting algorithm works by building an ensemble of weak classifiers (in our case decision trees) by sequentially weighting the incorrectly classified instances. \n",
    "\n"
   ]
  },
  {
   "cell_type": "markdown",
   "metadata": {},
   "source": [
    "Use the .AdaBoostClassifier() to build an boosting model and fit it to the training data"
   ]
  },
  {
   "cell_type": "code",
   "execution_count": 41,
   "metadata": {},
   "outputs": [
    {
     "data": {
      "text/plain": [
       "AdaBoostClassifier()"
      ]
     },
     "execution_count": 41,
     "metadata": {},
     "output_type": "execute_result"
    }
   ],
   "source": [
    "ab_clf = ensemble.AdaBoostClassifier()\n",
    "ab_clf.fit(X_train, y_train)"
   ]
  },
  {
   "cell_type": "code",
   "execution_count": 42,
   "metadata": {
    "scrolled": true
   },
   "outputs": [
    {
     "name": "stdout",
     "output_type": "stream",
     "text": [
      "Full tree guess train/validation  0.7785234899328859 0.6351351351351351\n"
     ]
    }
   ],
   "source": [
    "print ( 'Full tree guess train/validation ',ab_clf.score(X_train, y_train),ab_clf.score(X_val, y_val))"
   ]
  },
  {
   "cell_type": "markdown",
   "metadata": {},
   "source": [
    "[Back to top](#Index:) \n",
    "\n",
    "<a id='part5'></a>\n",
    "\n",
    "## Part 5: Model Selection"
   ]
  },
  {
   "cell_type": "markdown",
   "metadata": {},
   "source": [
    "***Question***\n",
    "\n",
    "Which model would you use for this dataset? Decision tree, Random Forest or Boosting? Why? \n",
    "\n",
    "***Double click on this cell to enter your answer***\n",
    "\n",
    "The Random forest is the best model as it performs best on the validation set. (2 marks)"
   ]
  },
  {
   "cell_type": "markdown",
   "metadata": {},
   "source": [
    "Retrain the best model with both the training and validation data and test it on the test data"
   ]
  },
  {
   "cell_type": "code",
   "execution_count": 43,
   "metadata": {},
   "outputs": [
    {
     "name": "stdout",
     "output_type": "stream",
     "text": [
      "Full tree guess train/validation  0.9864864864864865 0.7733333333333333\n"
     ]
    }
   ],
   "source": [
    "X_trainval=X[:trainplusvalsize,:]\n",
    "y_trainval = y[:trainplusvalsize ]\n",
    "\n",
    "best_clf = ensemble.RandomForestClassifier()\n",
    "best_clf.fit(X_trainval, y_trainval)\n",
    "\n",
    "print ( 'Full tree guess train/validation ',best_clf.score(X_trainval, y_trainval),best_clf.score(X_test, y_test))"
   ]
  },
  {
   "cell_type": "markdown",
   "metadata": {},
   "source": [
    "[Back to top](#Index:) \n",
    "\n",
    "<a id='part6'></a>\n",
    "\n",
    "# Part 6: Feature Selection\n",
    "\n",
    "Feature selection can help us understand our model and the outputs it gives us, as well as remove any irrelevant predictors. In this section we will be looking at how to identify the most important features in a decision tree using two different methods:\n",
    "- Impurity metric approaches\n",
    "- Permutation Importances \n",
    "\n",
    "We will be looking at feature selection for your best model (`best_clf`)"
   ]
  },
  {
   "cell_type": "markdown",
   "metadata": {},
   "source": [
    "Use the `.feature_importances_` function to get the inbuilt impurity metric measure. Then use the .argsort() function to sort the resulting feature importances. \n",
    "\n"
   ]
  },
  {
   "cell_type": "code",
   "execution_count": 44,
   "metadata": {},
   "outputs": [],
   "source": [
    "feature_importances = best_clf.feature_importances_\n",
    "sorted_idx = feature_importances.argsort()"
   ]
  },
  {
   "cell_type": "markdown",
   "metadata": {},
   "source": [
    "Get the feature names from the dataframe columns. Remember to remove the last column from the list as this is the output column."
   ]
  },
  {
   "cell_type": "code",
   "execution_count": 45,
   "metadata": {},
   "outputs": [],
   "source": [
    "feature_names = df.columns[:-1]"
   ]
  },
  {
   "cell_type": "markdown",
   "metadata": {},
   "source": [
    "Use the function below to plot the importances."
   ]
  },
  {
   "cell_type": "code",
   "execution_count": 46,
   "metadata": {},
   "outputs": [],
   "source": [
    "def plot_impurity_metric_features( feature_importances, sorted_idx, feature_names):\n",
    "    y_ticks = np.arange(0, len(feature_names))\n",
    "    fig, ax = plt.subplots(figsize=(10, 10))\n",
    "    ax.barh(y_ticks, feature_importances[sorted_idx])\n",
    "    ax.set_yticks(y_ticks)\n",
    "    ax.set_yticklabels(feature_names[sorted_idx])\n",
    "    ax.set_title(\"Random Forest Feature Importances (MDI)\")\n",
    "    fig.tight_layout()\n",
    "    plt.show()\n",
    "\n"
   ]
  },
  {
   "cell_type": "code",
   "execution_count": 47,
   "metadata": {
    "scrolled": false
   },
   "outputs": [
    {
     "data": {
      "image/png": "[encoded data removed]",
      "text/plain": [
       "<Figure size 720x720 with 1 Axes>"
      ]
     },
     "metadata": {
      "needs_background": "light"
     },
     "output_type": "display_data"
    }
   ],
   "source": [
    "# impurity metric based approach on training\n",
    "\n",
    "plot_impurity_metric_features( feature_importances, sorted_idx, feature_names)"
   ]
  },
  {
   "cell_type": "markdown",
   "metadata": {},
   "source": [
    "***Question***\n",
    "\n",
    "What are the 3 most important features? \n",
    "\n",
    "***Double click on this cell to enter your answer***\n",
    "\n",
    "Age, T_T3 and T_T2 are the 3 most important features (1 mark)\n",
    "\n"
   ]
  },
  {
   "cell_type": "markdown",
   "metadata": {},
   "source": [
    "One of the downsides of the inbuilt impurity metric is that it can only be applied to training data. This doesn't give us any indication of which features will be the most important on unseen data. \n",
    "\n",
    "Instead, we can use the permutation importance to measure the feature importances on both the training and validation sets. "
   ]
  },
  {
   "cell_type": "markdown",
   "metadata": {},
   "source": [
    "First, use the `permutation_importance` function to calculate the importance of the diffierent features in the training dataset. "
   ]
  },
  {
   "cell_type": "code",
   "execution_count": 48,
   "metadata": {},
   "outputs": [],
   "source": [
    "# permutation method on both training and test\n",
    "\n",
    "\n",
    "result = permutation_importance(estimator=best_clf, X=X_train, y=y_train, n_repeats=10, n_jobs=2)\n",
    "sorted_idx = result.importances_mean.argsort()\n",
    "\n"
   ]
  },
  {
   "cell_type": "markdown",
   "metadata": {},
   "source": [
    "Use the function below to plot the permutation importances."
   ]
  },
  {
   "cell_type": "code",
   "execution_count": 49,
   "metadata": {
    "scrolled": false
   },
   "outputs": [
    {
     "data": {
      "image/png": "[encoded data removed]",
      "text/plain": [
       "<Figure size 720x720 with 1 Axes>"
      ]
     },
     "metadata": {
      "needs_background": "light"
     },
     "output_type": "display_data"
    }
   ],
   "source": [
    "\n",
    "def plot_perm_importance(result, sorted_idx, feature_names):\n",
    "\n",
    "    fig, ax = plt.subplots(figsize=(10, 10))\n",
    "    ax.boxplot(\n",
    "        result.importances[sorted_idx].T, vert=False, labels=feature_names[sorted_idx]\n",
    "    )\n",
    "    ax.set_title(\"Permutation Importances (train set)\")\n",
    "    fig.tight_layout()\n",
    "    plt.show()\n",
    "    \n",
    "plot_perm_importance(result, sorted_idx, feature_names)\n"
   ]
  },
  {
   "cell_type": "markdown",
   "metadata": {},
   "source": [
    "What do you notice about the difference between the two methods of doing feature selection? Why do you think this is?\n",
    "\n",
    "***Double click on this cell to enter your answer***\n",
    "\n",
    "The most important features are different. This is because impurity based metrics can overestimate the imporantance of numerical features with a wide range of variables (i.e. age) in contrast to one with few (e.g. T_T3)\n",
    "\n",
    "Permutation importance also makes the importance of a lot of the parameters zero, where as the impurity based method lists almost all the features as being important.  \n",
    "\n",
    "(3 marks)\n"
   ]
  },
  {
   "cell_type": "markdown",
   "metadata": {},
   "source": [
    "Now calculate the permutation importance on the test set. "
   ]
  },
  {
   "cell_type": "code",
   "execution_count": 50,
   "metadata": {},
   "outputs": [
    {
     "data": {
      "image/png": "[encoded data removed]",
      "text/plain": [
       "<Figure size 720x720 with 1 Axes>"
      ]
     },
     "metadata": {
      "needs_background": "light"
     },
     "output_type": "display_data"
    }
   ],
   "source": [
    "result = permutation_importance(best_clf, X_test, y_test, n_repeats=10, n_jobs=2\n",
    ")\n",
    "sorted_idx = result.importances_mean.argsort()\n",
    "\n",
    "plot_perm_importance(result, sorted_idx, feature_names)"
   ]
  },
  {
   "cell_type": "markdown",
   "metadata": {},
   "source": [
    "What do you see in the test data?\n",
    "\n",
    "Why do some of the importances go negative?\n",
    "\n",
    "***Double click on this cell to enter your answer***\n",
    "\n",
    "The most important feature is still the same, but the order of some of the others have changed. \n",
    "\n",
    "The permutation importance goes negative when a feature has no importance and by chance the permutations perform better than the original model. This is more likely to happen on small datasets. \n",
    "\n",
    "\n",
    "(3 marks)"
   ]
  },
  {
   "cell_type": "code",
   "execution_count": null,
   "metadata": {},
   "outputs": [],
   "source": []
  },
  {
   "cell_type": "code",
   "execution_count": null,
   "metadata": {},
   "outputs": [],
   "source": []
  }
 ],
 "metadata": {
  "kernelspec": {
   "display_name": "Python 3",
   "language": "python",
   "name": "python3"
  },
  "language_info": {
   "codemirror_mode": {
    "name": "ipython",
    "version": 3
   },
   "file_extension": ".py",
   "mimetype": "text/x-python",
   "name": "python",
   "nbconvert_exporter": "python",
   "pygments_lexer": "ipython3",
   "version": "3.8.2"
  }
 },
 "nbformat": 4,
 "nbformat_minor": 5
}
