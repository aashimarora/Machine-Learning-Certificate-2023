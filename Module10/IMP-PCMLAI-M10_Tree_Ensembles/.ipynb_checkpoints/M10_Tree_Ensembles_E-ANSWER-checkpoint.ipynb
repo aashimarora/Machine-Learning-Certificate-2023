{
 "cells": [
  {
   "cell_type": "code",
   "execution_count": 1,
   "metadata": {},
   "outputs": [],
   "source": [
    "import numpy as np\n",
    "import pandas as pd\n",
    "from sklearn import tree, ensemble\n",
    "import matplotlib.pyplot as plt\n",
    "from sklearn.datasets import load_wine\n",
    "from sklearn.inspection import permutation_importance"
   ]
  },
  {
   "cell_type": "markdown",
   "metadata": {},
   "source": [
    "# Tree Ensembles "
   ]
  },
  {
   "cell_type": "markdown",
   "metadata": {},
   "source": [
    "## Assignment overview \n",
    "\n",
    "In this assignment you will build two types of tree ensemble models: Random Forest and Boosted. You will then investigate two methods for feature selection. \n",
    "\n",
    "###### Outline:\n",
    "\n",
    "\n",
    "- [Part 1](#part1)- Importing the data set and formatting it \n",
    "- [Part 2](#part2)- Fitting a single decision tree\n",
    "- [Part 3](#part3)- Using a Random Forest Classifier\n",
    "- [Part 4](#part4)- Using the AdaBoost Classifier\n",
    "- [Part 5](#part5)- Choosing the best classifier and retraining using all the samples, testing on the test set\n",
    "- [Part 6](#part6)- Feature selection\n"
   ]
  },
  {
   "cell_type": "markdown",
   "metadata": {},
   "source": [
    "[Back to top](#Index:) \n",
    "\n",
    "<a id='part1'></a>\n",
    "\n",
    "### Part 1 - Importing the data set\n",
    "\n",
    "For this excercise we will be using a data set from the University of Medicine and Pharmacy of Craiova, Romania to predict the hospitalisation period of patients after colon cancer operations based on socio-economic variables and clinical information. You can read more about the data and it's origins [here](https://figshare.com/articles/dataset/LOS_Colon_Cancer_621_cases/4747246/1). "
   ]
  },
  {
   "cell_type": "markdown",
   "metadata": {},
   "source": [
    "The data is stored in xlsx format again in the `colon_data.xlsx` file. Use the `read_excel()` function to load it."
   ]
  },
  {
   "cell_type": "code",
   "execution_count": 2,
   "metadata": {},
   "outputs": [
    {
     "data": {
      "text/plain": [
       "298"
      ]
     },
     "execution_count": 2,
     "metadata": {},
     "output_type": "execute_result"
    }
   ],
   "source": [
    "df = pd.read_excel('colon_data.xlsx')\n",
    "len(df)"
   ]
  },
  {
   "cell_type": "markdown",
   "metadata": {},
   "source": [
    "Use the `.head()` function to visulise the data."
   ]
  },
  {
   "cell_type": "code",
   "execution_count": 3,
   "metadata": {
    "scrolled": true
   },
   "outputs": [
    {
     "data": {
      "text/plain": [
       "array(['medium', 'short', 'long'], dtype=object)"
      ]
     },
     "execution_count": 3,
     "metadata": {},
     "output_type": "execute_result"
    }
   ],
   "source": [
    "df.head()\n",
    "df['CLASS'].unique()"
   ]
  },
  {
   "cell_type": "markdown",
   "metadata": {},
   "source": [
    "First we want to replace the categorical values of the output (the `CLASS` variable) with numerical values. Fill in the gaps below to use the `.replace()` function to do this."
   ]
  },
  {
   "cell_type": "code",
   "execution_count": 4,
   "metadata": {},
   "outputs": [
    {
     "data": {
      "text/html": [
       "<div>\n",
       "<style scoped>\n",
       "    .dataframe tbody tr th:only-of-type {\n",
       "        vertical-align: middle;\n",
       "    }\n",
       "\n",
       "    .dataframe tbody tr th {\n",
       "        vertical-align: top;\n",
       "    }\n",
       "\n",
       "    .dataframe thead th {\n",
       "        text-align: right;\n",
       "    }\n",
       "</style>\n",
       "<table border=\"1\" class=\"dataframe\">\n",
       "  <thead>\n",
       "    <tr style=\"text-align: right;\">\n",
       "      <th></th>\n",
       "      <th>AGE</th>\n",
       "      <th>SEX</th>\n",
       "      <th>TOPOGRAPHY</th>\n",
       "      <th>STAGE</th>\n",
       "      <th>T</th>\n",
       "      <th>N</th>\n",
       "      <th>M</th>\n",
       "      <th>SURGERY</th>\n",
       "      <th>CLASS</th>\n",
       "    </tr>\n",
       "  </thead>\n",
       "  <tbody>\n",
       "    <tr>\n",
       "      <th>0</th>\n",
       "      <td>64</td>\n",
       "      <td>M</td>\n",
       "      <td>rect</td>\n",
       "      <td>three</td>\n",
       "      <td>T4</td>\n",
       "      <td>Nx</td>\n",
       "      <td>Mx</td>\n",
       "      <td>ten</td>\n",
       "      <td>1</td>\n",
       "    </tr>\n",
       "    <tr>\n",
       "      <th>1</th>\n",
       "      <td>70</td>\n",
       "      <td>M</td>\n",
       "      <td>rect</td>\n",
       "      <td>three</td>\n",
       "      <td>T4</td>\n",
       "      <td>Nx</td>\n",
       "      <td>Mx</td>\n",
       "      <td>ten</td>\n",
       "      <td>1</td>\n",
       "    </tr>\n",
       "    <tr>\n",
       "      <th>2</th>\n",
       "      <td>76</td>\n",
       "      <td>F</td>\n",
       "      <td>cec</td>\n",
       "      <td>three</td>\n",
       "      <td>T3</td>\n",
       "      <td>Nx</td>\n",
       "      <td>Mx</td>\n",
       "      <td>three</td>\n",
       "      <td>1</td>\n",
       "    </tr>\n",
       "    <tr>\n",
       "      <th>3</th>\n",
       "      <td>62</td>\n",
       "      <td>M</td>\n",
       "      <td>cec</td>\n",
       "      <td>three</td>\n",
       "      <td>T2</td>\n",
       "      <td>Nx</td>\n",
       "      <td>Mx</td>\n",
       "      <td>three</td>\n",
       "      <td>2</td>\n",
       "    </tr>\n",
       "    <tr>\n",
       "      <th>4</th>\n",
       "      <td>62</td>\n",
       "      <td>M</td>\n",
       "      <td>cec</td>\n",
       "      <td>two</td>\n",
       "      <td>T2</td>\n",
       "      <td>Nx</td>\n",
       "      <td>Mx</td>\n",
       "      <td>three</td>\n",
       "      <td>2</td>\n",
       "    </tr>\n",
       "  </tbody>\n",
       "</table>\n",
       "</div>"
      ],
      "text/plain": [
       "   AGE SEX TOPOGRAPHY  STAGE   T   N   M SURGERY  CLASS\n",
       "0   64   M       rect  three  T4  Nx  Mx     ten      1\n",
       "1   70   M       rect  three  T4  Nx  Mx     ten      1\n",
       "2   76   F        cec  three  T3  Nx  Mx   three      1\n",
       "3   62   M        cec  three  T2  Nx  Mx   three      2\n",
       "4   62   M        cec    two  T2  Nx  Mx   three      2"
      ]
     },
     "execution_count": 4,
     "metadata": {},
     "output_type": "execute_result"
    }
   ],
   "source": [
    "df['CLASS'].replace(to_replace=['medium', 'short', 'long'] , value=[1,2,3], inplace=True) \n",
    "df.head()"
   ]
  },
  {
   "cell_type": "markdown",
   "metadata": {},
   "source": [
    "Now use the `get_dummies()` function to transform the other categorical variables to numerical ones. "
   ]
  },
  {
   "cell_type": "code",
   "execution_count": 5,
   "metadata": {
    "scrolled": true
   },
   "outputs": [
    {
     "data": {
      "text/html": [
       "<div>\n",
       "<style scoped>\n",
       "    .dataframe tbody tr th:only-of-type {\n",
       "        vertical-align: middle;\n",
       "    }\n",
       "\n",
       "    .dataframe tbody tr th {\n",
       "        vertical-align: top;\n",
       "    }\n",
       "\n",
       "    .dataframe thead th {\n",
       "        text-align: right;\n",
       "    }\n",
       "</style>\n",
       "<table border=\"1\" class=\"dataframe\">\n",
       "  <thead>\n",
       "    <tr style=\"text-align: right;\">\n",
       "      <th></th>\n",
       "      <th>AGE</th>\n",
       "      <th>CLASS</th>\n",
       "      <th>SEX_F</th>\n",
       "      <th>SEX_M</th>\n",
       "      <th>TOPOGRAPHY_cec</th>\n",
       "      <th>TOPOGRAPHY_colon_asc</th>\n",
       "      <th>TOPOGRAPHY_colon_desc</th>\n",
       "      <th>TOPOGRAPHY_colon_sigm</th>\n",
       "      <th>TOPOGRAPHY_colon_trans</th>\n",
       "      <th>TOPOGRAPHY_jonc_rect_sigm</th>\n",
       "      <th>...</th>\n",
       "      <th>N_N1</th>\n",
       "      <th>N_N2</th>\n",
       "      <th>N_Nx</th>\n",
       "      <th>M_M0</th>\n",
       "      <th>M_M1</th>\n",
       "      <th>M_M1_hep</th>\n",
       "      <th>M_Mx</th>\n",
       "      <th>SURGERY_ten</th>\n",
       "      <th>SURGERY_three</th>\n",
       "      <th>SURGERY_two</th>\n",
       "    </tr>\n",
       "  </thead>\n",
       "  <tbody>\n",
       "    <tr>\n",
       "      <th>0</th>\n",
       "      <td>64</td>\n",
       "      <td>1</td>\n",
       "      <td>False</td>\n",
       "      <td>True</td>\n",
       "      <td>False</td>\n",
       "      <td>False</td>\n",
       "      <td>False</td>\n",
       "      <td>False</td>\n",
       "      <td>False</td>\n",
       "      <td>False</td>\n",
       "      <td>...</td>\n",
       "      <td>False</td>\n",
       "      <td>False</td>\n",
       "      <td>True</td>\n",
       "      <td>False</td>\n",
       "      <td>False</td>\n",
       "      <td>False</td>\n",
       "      <td>True</td>\n",
       "      <td>True</td>\n",
       "      <td>False</td>\n",
       "      <td>False</td>\n",
       "    </tr>\n",
       "    <tr>\n",
       "      <th>1</th>\n",
       "      <td>70</td>\n",
       "      <td>1</td>\n",
       "      <td>False</td>\n",
       "      <td>True</td>\n",
       "      <td>False</td>\n",
       "      <td>False</td>\n",
       "      <td>False</td>\n",
       "      <td>False</td>\n",
       "      <td>False</td>\n",
       "      <td>False</td>\n",
       "      <td>...</td>\n",
       "      <td>False</td>\n",
       "      <td>False</td>\n",
       "      <td>True</td>\n",
       "      <td>False</td>\n",
       "      <td>False</td>\n",
       "      <td>False</td>\n",
       "      <td>True</td>\n",
       "      <td>True</td>\n",
       "      <td>False</td>\n",
       "      <td>False</td>\n",
       "    </tr>\n",
       "    <tr>\n",
       "      <th>2</th>\n",
       "      <td>76</td>\n",
       "      <td>1</td>\n",
       "      <td>True</td>\n",
       "      <td>False</td>\n",
       "      <td>True</td>\n",
       "      <td>False</td>\n",
       "      <td>False</td>\n",
       "      <td>False</td>\n",
       "      <td>False</td>\n",
       "      <td>False</td>\n",
       "      <td>...</td>\n",
       "      <td>False</td>\n",
       "      <td>False</td>\n",
       "      <td>True</td>\n",
       "      <td>False</td>\n",
       "      <td>False</td>\n",
       "      <td>False</td>\n",
       "      <td>True</td>\n",
       "      <td>False</td>\n",
       "      <td>True</td>\n",
       "      <td>False</td>\n",
       "    </tr>\n",
       "    <tr>\n",
       "      <th>3</th>\n",
       "      <td>62</td>\n",
       "      <td>2</td>\n",
       "      <td>False</td>\n",
       "      <td>True</td>\n",
       "      <td>True</td>\n",
       "      <td>False</td>\n",
       "      <td>False</td>\n",
       "      <td>False</td>\n",
       "      <td>False</td>\n",
       "      <td>False</td>\n",
       "      <td>...</td>\n",
       "      <td>False</td>\n",
       "      <td>False</td>\n",
       "      <td>True</td>\n",
       "      <td>False</td>\n",
       "      <td>False</td>\n",
       "      <td>False</td>\n",
       "      <td>True</td>\n",
       "      <td>False</td>\n",
       "      <td>True</td>\n",
       "      <td>False</td>\n",
       "    </tr>\n",
       "    <tr>\n",
       "      <th>4</th>\n",
       "      <td>62</td>\n",
       "      <td>2</td>\n",
       "      <td>False</td>\n",
       "      <td>True</td>\n",
       "      <td>True</td>\n",
       "      <td>False</td>\n",
       "      <td>False</td>\n",
       "      <td>False</td>\n",
       "      <td>False</td>\n",
       "      <td>False</td>\n",
       "      <td>...</td>\n",
       "      <td>False</td>\n",
       "      <td>False</td>\n",
       "      <td>True</td>\n",
       "      <td>False</td>\n",
       "      <td>False</td>\n",
       "      <td>False</td>\n",
       "      <td>True</td>\n",
       "      <td>False</td>\n",
       "      <td>True</td>\n",
       "      <td>False</td>\n",
       "    </tr>\n",
       "  </tbody>\n",
       "</table>\n",
       "<p>5 rows × 31 columns</p>\n",
       "</div>"
      ],
      "text/plain": [
       "   AGE  CLASS  SEX_F  SEX_M  TOPOGRAPHY_cec  TOPOGRAPHY_colon_asc  \\\n",
       "0   64      1  False   True           False                 False   \n",
       "1   70      1  False   True           False                 False   \n",
       "2   76      1   True  False            True                 False   \n",
       "3   62      2  False   True            True                 False   \n",
       "4   62      2  False   True            True                 False   \n",
       "\n",
       "   TOPOGRAPHY_colon_desc  TOPOGRAPHY_colon_sigm  TOPOGRAPHY_colon_trans  \\\n",
       "0                  False                  False                   False   \n",
       "1                  False                  False                   False   \n",
       "2                  False                  False                   False   \n",
       "3                  False                  False                   False   \n",
       "4                  False                  False                   False   \n",
       "\n",
       "   TOPOGRAPHY_jonc_rect_sigm  ...   N_N1   N_N2  N_Nx   M_M0   M_M1  M_M1_hep  \\\n",
       "0                      False  ...  False  False  True  False  False     False   \n",
       "1                      False  ...  False  False  True  False  False     False   \n",
       "2                      False  ...  False  False  True  False  False     False   \n",
       "3                      False  ...  False  False  True  False  False     False   \n",
       "4                      False  ...  False  False  True  False  False     False   \n",
       "\n",
       "   M_Mx  SURGERY_ten  SURGERY_three  SURGERY_two  \n",
       "0  True         True          False        False  \n",
       "1  True         True          False        False  \n",
       "2  True        False           True        False  \n",
       "3  True        False           True        False  \n",
       "4  True        False           True        False  \n",
       "\n",
       "[5 rows x 31 columns]"
      ]
     },
     "execution_count": 5,
     "metadata": {},
     "output_type": "execute_result"
    }
   ],
   "source": [
    "df = pd.get_dummies(df)\n",
    "df.head()"
   ]
  },
  {
   "cell_type": "markdown",
   "metadata": {},
   "source": [
    "The following cell is just to ensure the 'CLASS' variable is the last column."
   ]
  },
  {
   "cell_type": "code",
   "execution_count": 6,
   "metadata": {},
   "outputs": [
    {
     "data": {
      "text/html": [
       "<div>\n",
       "<style scoped>\n",
       "    .dataframe tbody tr th:only-of-type {\n",
       "        vertical-align: middle;\n",
       "    }\n",
       "\n",
       "    .dataframe tbody tr th {\n",
       "        vertical-align: top;\n",
       "    }\n",
       "\n",
       "    .dataframe thead th {\n",
       "        text-align: right;\n",
       "    }\n",
       "</style>\n",
       "<table border=\"1\" class=\"dataframe\">\n",
       "  <thead>\n",
       "    <tr style=\"text-align: right;\">\n",
       "      <th></th>\n",
       "      <th>AGE</th>\n",
       "      <th>SEX_F</th>\n",
       "      <th>SEX_M</th>\n",
       "      <th>TOPOGRAPHY_cec</th>\n",
       "      <th>TOPOGRAPHY_colon_asc</th>\n",
       "      <th>TOPOGRAPHY_colon_desc</th>\n",
       "      <th>TOPOGRAPHY_colon_sigm</th>\n",
       "      <th>TOPOGRAPHY_colon_trans</th>\n",
       "      <th>TOPOGRAPHY_jonc_rect_sigm</th>\n",
       "      <th>TOPOGRAPHY_rect</th>\n",
       "      <th>...</th>\n",
       "      <th>N_N2</th>\n",
       "      <th>N_Nx</th>\n",
       "      <th>M_M0</th>\n",
       "      <th>M_M1</th>\n",
       "      <th>M_M1_hep</th>\n",
       "      <th>M_Mx</th>\n",
       "      <th>SURGERY_ten</th>\n",
       "      <th>SURGERY_three</th>\n",
       "      <th>SURGERY_two</th>\n",
       "      <th>CLASS</th>\n",
       "    </tr>\n",
       "  </thead>\n",
       "  <tbody>\n",
       "    <tr>\n",
       "      <th>0</th>\n",
       "      <td>64</td>\n",
       "      <td>False</td>\n",
       "      <td>True</td>\n",
       "      <td>False</td>\n",
       "      <td>False</td>\n",
       "      <td>False</td>\n",
       "      <td>False</td>\n",
       "      <td>False</td>\n",
       "      <td>False</td>\n",
       "      <td>True</td>\n",
       "      <td>...</td>\n",
       "      <td>False</td>\n",
       "      <td>True</td>\n",
       "      <td>False</td>\n",
       "      <td>False</td>\n",
       "      <td>False</td>\n",
       "      <td>True</td>\n",
       "      <td>True</td>\n",
       "      <td>False</td>\n",
       "      <td>False</td>\n",
       "      <td>1</td>\n",
       "    </tr>\n",
       "    <tr>\n",
       "      <th>1</th>\n",
       "      <td>70</td>\n",
       "      <td>False</td>\n",
       "      <td>True</td>\n",
       "      <td>False</td>\n",
       "      <td>False</td>\n",
       "      <td>False</td>\n",
       "      <td>False</td>\n",
       "      <td>False</td>\n",
       "      <td>False</td>\n",
       "      <td>True</td>\n",
       "      <td>...</td>\n",
       "      <td>False</td>\n",
       "      <td>True</td>\n",
       "      <td>False</td>\n",
       "      <td>False</td>\n",
       "      <td>False</td>\n",
       "      <td>True</td>\n",
       "      <td>True</td>\n",
       "      <td>False</td>\n",
       "      <td>False</td>\n",
       "      <td>1</td>\n",
       "    </tr>\n",
       "    <tr>\n",
       "      <th>2</th>\n",
       "      <td>76</td>\n",
       "      <td>True</td>\n",
       "      <td>False</td>\n",
       "      <td>True</td>\n",
       "      <td>False</td>\n",
       "      <td>False</td>\n",
       "      <td>False</td>\n",
       "      <td>False</td>\n",
       "      <td>False</td>\n",
       "      <td>False</td>\n",
       "      <td>...</td>\n",
       "      <td>False</td>\n",
       "      <td>True</td>\n",
       "      <td>False</td>\n",
       "      <td>False</td>\n",
       "      <td>False</td>\n",
       "      <td>True</td>\n",
       "      <td>False</td>\n",
       "      <td>True</td>\n",
       "      <td>False</td>\n",
       "      <td>1</td>\n",
       "    </tr>\n",
       "    <tr>\n",
       "      <th>3</th>\n",
       "      <td>62</td>\n",
       "      <td>False</td>\n",
       "      <td>True</td>\n",
       "      <td>True</td>\n",
       "      <td>False</td>\n",
       "      <td>False</td>\n",
       "      <td>False</td>\n",
       "      <td>False</td>\n",
       "      <td>False</td>\n",
       "      <td>False</td>\n",
       "      <td>...</td>\n",
       "      <td>False</td>\n",
       "      <td>True</td>\n",
       "      <td>False</td>\n",
       "      <td>False</td>\n",
       "      <td>False</td>\n",
       "      <td>True</td>\n",
       "      <td>False</td>\n",
       "      <td>True</td>\n",
       "      <td>False</td>\n",
       "      <td>2</td>\n",
       "    </tr>\n",
       "    <tr>\n",
       "      <th>4</th>\n",
       "      <td>62</td>\n",
       "      <td>False</td>\n",
       "      <td>True</td>\n",
       "      <td>True</td>\n",
       "      <td>False</td>\n",
       "      <td>False</td>\n",
       "      <td>False</td>\n",
       "      <td>False</td>\n",
       "      <td>False</td>\n",
       "      <td>False</td>\n",
       "      <td>...</td>\n",
       "      <td>False</td>\n",
       "      <td>True</td>\n",
       "      <td>False</td>\n",
       "      <td>False</td>\n",
       "      <td>False</td>\n",
       "      <td>True</td>\n",
       "      <td>False</td>\n",
       "      <td>True</td>\n",
       "      <td>False</td>\n",
       "      <td>2</td>\n",
       "    </tr>\n",
       "  </tbody>\n",
       "</table>\n",
       "<p>5 rows × 31 columns</p>\n",
       "</div>"
      ],
      "text/plain": [
       "   AGE  SEX_F  SEX_M  TOPOGRAPHY_cec  TOPOGRAPHY_colon_asc  \\\n",
       "0   64  False   True           False                 False   \n",
       "1   70  False   True           False                 False   \n",
       "2   76   True  False            True                 False   \n",
       "3   62  False   True            True                 False   \n",
       "4   62  False   True            True                 False   \n",
       "\n",
       "   TOPOGRAPHY_colon_desc  TOPOGRAPHY_colon_sigm  TOPOGRAPHY_colon_trans  \\\n",
       "0                  False                  False                   False   \n",
       "1                  False                  False                   False   \n",
       "2                  False                  False                   False   \n",
       "3                  False                  False                   False   \n",
       "4                  False                  False                   False   \n",
       "\n",
       "   TOPOGRAPHY_jonc_rect_sigm  TOPOGRAPHY_rect  ...   N_N2  N_Nx   M_M0   M_M1  \\\n",
       "0                      False             True  ...  False  True  False  False   \n",
       "1                      False             True  ...  False  True  False  False   \n",
       "2                      False            False  ...  False  True  False  False   \n",
       "3                      False            False  ...  False  True  False  False   \n",
       "4                      False            False  ...  False  True  False  False   \n",
       "\n",
       "   M_M1_hep  M_Mx  SURGERY_ten  SURGERY_three  SURGERY_two  CLASS  \n",
       "0     False  True         True          False        False      1  \n",
       "1     False  True         True          False        False      1  \n",
       "2     False  True        False           True        False      1  \n",
       "3     False  True        False           True        False      2  \n",
       "4     False  True        False           True        False      2  \n",
       "\n",
       "[5 rows x 31 columns]"
      ]
     },
     "execution_count": 6,
     "metadata": {},
     "output_type": "execute_result"
    }
   ],
   "source": [
    "columns = df.columns.to_list()\n",
    "columns.remove('CLASS')\n",
    "df = df[columns + ['CLASS']]\n",
    "df.head()"
   ]
  },
  {
   "cell_type": "markdown",
   "metadata": {},
   "source": [
    "We will now process the data similar to how we did for the loan data set activity."
   ]
  },
  {
   "cell_type": "markdown",
   "metadata": {},
   "source": [
    "Run the cell below to convert the `df` into a `NumPy` array"
   ]
  },
  {
   "cell_type": "code",
   "execution_count": 7,
   "metadata": {},
   "outputs": [],
   "source": [
    "Xy=np.array(df)"
   ]
  },
  {
   "cell_type": "markdown",
   "metadata": {},
   "source": [
    "For reproducibility, set the random seed = 1. You can do this by using the `NumPy` function `random.seed()`. Assign your seed to the variable `seed`. Next, complete the code cell below by using the function `random.shuffle()` on `Xy`."
   ]
  },
  {
   "cell_type": "code",
   "execution_count": 8,
   "metadata": {},
   "outputs": [],
   "source": [
    "seed = np.random.seed(1)\n",
    "np.random.shuffle(Xy)"
   ]
  },
  {
   "cell_type": "markdown",
   "metadata": {},
   "source": [
    "Before splitting the data into a training set, a test set, and a validation set, we need to divide `Xy` into two arrays: the first one, `X`, a 2D array containing all the predictors and the second, `y`, a 1D array with the response. \n",
    "\n",
    "Run the code cell below to generate `X`. Complete the remaining code to define `y`."
   ]
  },
  {
   "cell_type": "code",
   "execution_count": 9,
   "metadata": {},
   "outputs": [],
   "source": [
    "X=Xy[:,:-1]"
   ]
  },
  {
   "cell_type": "code",
   "execution_count": 10,
   "metadata": {},
   "outputs": [
    {
     "data": {
      "text/plain": [
       "array([1, 2, 3, 2, 2, 2, 1, 3, 1, 2, 2, 1, 1, 2, 2, 1, 1, 2, 2, 2, 1, 2,\n",
       "       2, 2, 2, 2, 3, 2, 2, 2, 2, 2, 1, 3, 3, 1, 2, 2, 3, 2, 2, 1, 2, 2,\n",
       "       2, 1, 2, 1, 3, 3, 3, 2, 2, 3, 1, 2, 2, 2, 2, 2, 2, 1, 2, 2, 2, 1,\n",
       "       2, 2, 2, 1, 2, 1, 1, 1, 2, 2, 1, 2, 2, 2, 1, 1, 2, 2, 1, 2, 2, 1,\n",
       "       1, 2, 2, 2, 2, 2, 2, 2, 2, 2, 2, 1, 2, 2, 3, 2, 2, 2, 2, 2, 1, 3,\n",
       "       3, 2, 2, 3, 3, 2, 1, 3, 1, 1, 2, 1, 1, 3, 2, 1, 2, 1, 3, 1, 1, 1,\n",
       "       2, 3, 2, 3, 2, 2, 3, 2, 3, 2, 2, 2, 1, 1, 2, 1, 2, 1, 2, 3, 1, 3,\n",
       "       3, 1, 3, 2, 1, 2, 3, 1, 2, 1, 2, 2, 3, 2, 1, 2, 2, 2, 3, 2, 3, 2,\n",
       "       3, 2, 3, 3, 1, 1, 2, 1, 3, 2, 3, 2, 2, 2, 2, 3, 2, 1, 2, 1, 2, 1,\n",
       "       1, 1, 2, 2, 2, 2, 2, 2, 2, 2, 1, 1, 3, 1, 2, 2, 1, 2, 3, 2, 1, 2,\n",
       "       1, 2, 1, 1, 2, 1, 2, 2, 1, 2, 2, 2, 3, 1, 2, 2, 2, 3, 2, 3, 3, 2,\n",
       "       2, 2, 2, 1, 1, 2, 2, 2, 1, 2, 2, 1, 2, 2, 2, 1, 2, 1, 2, 2, 2, 2,\n",
       "       3, 1, 2, 1, 3, 1, 3, 2, 2, 1, 1, 2, 1, 3, 2, 2, 2, 1, 2, 3, 2, 2,\n",
       "       2, 2, 3, 3, 2, 2, 1, 1, 2, 2, 2, 1])"
      ]
     },
     "execution_count": 10,
     "metadata": {},
     "output_type": "execute_result"
    }
   ],
   "source": [
    "#define y\n",
    "y=Xy[:,-1]\n",
    "y = y.astype(int)\n",
    "y"
   ]
  },
  {
   "cell_type": "markdown",
   "metadata": {},
   "source": [
    "Next, we need to split the messages into into 50% training data, 25% validation data, and 25% test data.\n",
    "\n",
    "Run the code below to split `X` and `y` into training, validation and test sets."
   ]
  },
  {
   "cell_type": "code",
   "execution_count": 11,
   "metadata": {},
   "outputs": [],
   "source": [
    "trainsize = int(len(df)/2)\n",
    "trainplusvalsize = int(len(df)/4)\n",
    "X_train=X[:trainsize]\n",
    "X_val=X[trainsize:trainsize + trainplusvalsize]\n",
    "X_test=X[trainsize + trainplusvalsize:]\n",
    "\n",
    "y_train=y[:trainsize]\n",
    "y_val=y[trainsize:trainsize + trainplusvalsize]\n",
    "y_test=y[trainsize + trainplusvalsize:]"
   ]
  },
  {
   "cell_type": "markdown",
   "metadata": {},
   "source": [
    "[Back to top](#Index:) \n",
    "\n",
    "<a id='part2'></a>\n",
    "\n",
    "### Part 2: Fit a Single Decision Tree \n",
    "\n",
    "Use the same code as you used for the loan dataset notebook to fit decision trees with different depths up to `max_depth = 15`. Select the best depth - you will compare this to your tree ensemble methods later. "
   ]
  },
  {
   "cell_type": "code",
   "execution_count": 12,
   "metadata": {
    "scrolled": true
   },
   "outputs": [
    {
     "name": "stdout",
     "output_type": "stream",
     "text": [
      "Depth: 1 Train Score: 0.738255033557047 Validation Score: 0.6081081081081081\n",
      "Depth: 2 Train Score: 0.7986577181208053 Validation Score: 0.6891891891891891\n",
      "Depth: 3 Train Score: 0.8456375838926175 Validation Score: 0.7567567567567568\n",
      "Depth: 4 Train Score: 0.8657718120805369 Validation Score: 0.7432432432432432\n",
      "Depth: 5 Train Score: 0.912751677852349 Validation Score: 0.7297297297297297\n",
      "Depth: 6 Train Score: 0.9463087248322147 Validation Score: 0.7567567567567568\n",
      "Depth: 7 Train Score: 0.9664429530201343 Validation Score: 0.7432432432432432\n",
      "Depth: 8 Train Score: 0.9731543624161074 Validation Score: 0.7702702702702703\n",
      "Depth: 9 Train Score: 0.9798657718120806 Validation Score: 0.7297297297297297\n",
      "Depth: 10 Train Score: 0.9932885906040269 Validation Score: 0.7702702702702703\n",
      "Depth: 11 Train Score: 0.9932885906040269 Validation Score: 0.7567567567567568\n",
      "Depth: 12 Train Score: 0.9932885906040269 Validation Score: 0.7432432432432432\n",
      "Depth: 13 Train Score: 0.9932885906040269 Validation Score: 0.7702702702702703\n",
      "Depth: 14 Train Score: 0.9932885906040269 Validation Score: 0.7432432432432432\n",
      "Depth: 15 Train Score: 0.9932885906040269 Validation Score: 0.7702702702702703\n",
      "Bestscore:  0.7702702702702703 Bestdepth:  8\n"
     ]
    }
   ],
   "source": [
    "bestdepth=-1\n",
    "bestscore=0\n",
    "max_depth = 15\n",
    "\n",
    "for i in range(15):\n",
    "    clf = tree.DecisionTreeClassifier(max_depth=i+1)\n",
    "    #fit the training sets\n",
    "    clf.fit(X_train, y_train)\n",
    "    #update trainscore\n",
    "    trainscore=clf.score(X_train, y_train)\n",
    "    #update valscore\n",
    "    valscore=clf.score(X_val, y_val)\n",
    "    print( 'Depth:', i+1, 'Train Score:', trainscore, 'Validation Score:', valscore)\n",
    "    if valscore > bestscore:\n",
    "        #update bestscore\n",
    "        bestscore=valscore\n",
    "        #update depth\n",
    "        bestdepth=i+1\n",
    "\n",
    "\n",
    "print('Bestscore: ', bestscore, 'Bestdepth: ',bestdepth)"
   ]
  },
  {
   "cell_type": "markdown",
   "metadata": {},
   "source": [
    "***Question***\n",
    "\n",
    "What is the best maximum depth? \n",
    "\n",
    "8 \n",
    "\n",
    "***Double click on this cell to enter your answer***\n"
   ]
  },
  {
   "cell_type": "markdown",
   "metadata": {},
   "source": [
    "[Back to top](#Index:) \n",
    "\n",
    "<a id='part3'></a>\n",
    "\n",
    "## Part 3: Random Forest\n",
    "\n",
    "In this section you will learn how to build a random forest model in sklearn and explore the effect of the `max_features` hyperparameter. "
   ]
  },
  {
   "cell_type": "markdown",
   "metadata": {},
   "source": [
    "Use the `ensemble.RandomForestClassifier()` function to build a random forest model with the default parameters. Use the `.fit()` function to train it, the same as you did for the decision tree. "
   ]
  },
  {
   "cell_type": "code",
   "execution_count": 13,
   "metadata": {
    "scrolled": true
   },
   "outputs": [
    {
     "data": {
      "text/html": [
       "<style>#sk-container-id-1 {color: black;}#sk-container-id-1 pre{padding: 0;}#sk-container-id-1 div.sk-toggleable {background-color: white;}#sk-container-id-1 label.sk-toggleable__label {cursor: pointer;display: block;width: 100%;margin-bottom: 0;padding: 0.3em;box-sizing: border-box;text-align: center;}#sk-container-id-1 label.sk-toggleable__label-arrow:before {content: \"▸\";float: left;margin-right: 0.25em;color: #696969;}#sk-container-id-1 label.sk-toggleable__label-arrow:hover:before {color: black;}#sk-container-id-1 div.sk-estimator:hover label.sk-toggleable__label-arrow:before {color: black;}#sk-container-id-1 div.sk-toggleable__content {max-height: 0;max-width: 0;overflow: hidden;text-align: left;background-color: #f0f8ff;}#sk-container-id-1 div.sk-toggleable__content pre {margin: 0.2em;color: black;border-radius: 0.25em;background-color: #f0f8ff;}#sk-container-id-1 input.sk-toggleable__control:checked~div.sk-toggleable__content {max-height: 200px;max-width: 100%;overflow: auto;}#sk-container-id-1 input.sk-toggleable__control:checked~label.sk-toggleable__label-arrow:before {content: \"▾\";}#sk-container-id-1 div.sk-estimator input.sk-toggleable__control:checked~label.sk-toggleable__label {background-color: #d4ebff;}#sk-container-id-1 div.sk-label input.sk-toggleable__control:checked~label.sk-toggleable__label {background-color: #d4ebff;}#sk-container-id-1 input.sk-hidden--visually {border: 0;clip: rect(1px 1px 1px 1px);clip: rect(1px, 1px, 1px, 1px);height: 1px;margin: -1px;overflow: hidden;padding: 0;position: absolute;width: 1px;}#sk-container-id-1 div.sk-estimator {font-family: monospace;background-color: #f0f8ff;border: 1px dotted black;border-radius: 0.25em;box-sizing: border-box;margin-bottom: 0.5em;}#sk-container-id-1 div.sk-estimator:hover {background-color: #d4ebff;}#sk-container-id-1 div.sk-parallel-item::after {content: \"\";width: 100%;border-bottom: 1px solid gray;flex-grow: 1;}#sk-container-id-1 div.sk-label:hover label.sk-toggleable__label {background-color: #d4ebff;}#sk-container-id-1 div.sk-serial::before {content: \"\";position: absolute;border-left: 1px solid gray;box-sizing: border-box;top: 0;bottom: 0;left: 50%;z-index: 0;}#sk-container-id-1 div.sk-serial {display: flex;flex-direction: column;align-items: center;background-color: white;padding-right: 0.2em;padding-left: 0.2em;position: relative;}#sk-container-id-1 div.sk-item {position: relative;z-index: 1;}#sk-container-id-1 div.sk-parallel {display: flex;align-items: stretch;justify-content: center;background-color: white;position: relative;}#sk-container-id-1 div.sk-item::before, #sk-container-id-1 div.sk-parallel-item::before {content: \"\";position: absolute;border-left: 1px solid gray;box-sizing: border-box;top: 0;bottom: 0;left: 50%;z-index: -1;}#sk-container-id-1 div.sk-parallel-item {display: flex;flex-direction: column;z-index: 1;position: relative;background-color: white;}#sk-container-id-1 div.sk-parallel-item:first-child::after {align-self: flex-end;width: 50%;}#sk-container-id-1 div.sk-parallel-item:last-child::after {align-self: flex-start;width: 50%;}#sk-container-id-1 div.sk-parallel-item:only-child::after {width: 0;}#sk-container-id-1 div.sk-dashed-wrapped {border: 1px dashed gray;margin: 0 0.4em 0.5em 0.4em;box-sizing: border-box;padding-bottom: 0.4em;background-color: white;}#sk-container-id-1 div.sk-label label {font-family: monospace;font-weight: bold;display: inline-block;line-height: 1.2em;}#sk-container-id-1 div.sk-label-container {text-align: center;}#sk-container-id-1 div.sk-container {/* jupyter's `normalize.less` sets `[hidden] { display: none; }` but bootstrap.min.css set `[hidden] { display: none !important; }` so we also need the `!important` here to be able to override the default hidden behavior on the sphinx rendered scikit-learn.org. See: https://github.com/scikit-learn/scikit-learn/issues/21755 */display: inline-block !important;position: relative;}#sk-container-id-1 div.sk-text-repr-fallback {display: none;}</style><div id=\"sk-container-id-1\" class=\"sk-top-container\"><div class=\"sk-text-repr-fallback\"><pre>RandomForestClassifier()</pre><b>In a Jupyter environment, please rerun this cell to show the HTML representation or trust the notebook. <br />On GitHub, the HTML representation is unable to render, please try loading this page with nbviewer.org.</b></div><div class=\"sk-container\" hidden><div class=\"sk-item\"><div class=\"sk-estimator sk-toggleable\"><input class=\"sk-toggleable__control sk-hidden--visually\" id=\"sk-estimator-id-1\" type=\"checkbox\" checked><label for=\"sk-estimator-id-1\" class=\"sk-toggleable__label sk-toggleable__label-arrow\">RandomForestClassifier</label><div class=\"sk-toggleable__content\"><pre>RandomForestClassifier()</pre></div></div></div></div></div>"
      ],
      "text/plain": [
       "RandomForestClassifier()"
      ]
     },
     "execution_count": 13,
     "metadata": {},
     "output_type": "execute_result"
    }
   ],
   "source": [
    "rf_clf = ensemble.RandomForestClassifier()\n",
    "\n",
    "rf_clf.fit(X_train, y_train)\n"
   ]
  },
  {
   "cell_type": "code",
   "execution_count": 14,
   "metadata": {},
   "outputs": [
    {
     "name": "stdout",
     "output_type": "stream",
     "text": [
      "Full tree guess train/validation  0.9932885906040269 0.7702702702702703\n"
     ]
    }
   ],
   "source": [
    "print ( 'Full tree guess train/validation ',rf_clf.score(X_train, y_train),rf_clf.score(X_val, y_val))"
   ]
  },
  {
   "cell_type": "markdown",
   "metadata": {},
   "source": [
    "In random forest classifiers, the algorithm only considers a subset of the features at each split. This is controlled using the `max_features` argument. Normally this subset size is set to the square root of the total number of features, but here we will look at both setting it to the square root `\"sqrt\"` (this is the default in sklearn) and to `None`. when `max_features = None` the algorithm is using all the features at every split. \n"
   ]
  },
  {
   "cell_type": "code",
   "execution_count": 15,
   "metadata": {
    "scrolled": true
   },
   "outputs": [
    {
     "name": "stdout",
     "output_type": "stream",
     "text": [
      "Full tree guess train/validation sqrt 0.9932885906040269 0.7837837837837838\n",
      "Full tree guess train/validation None 0.9932885906040269 0.7837837837837838\n"
     ]
    }
   ],
   "source": [
    "# for loop looking at RF with different max_features \n",
    "\n",
    "np.random.seed(1)\n",
    "for val in [\"sqrt\",  None]:\n",
    "    # build the rf classifier wwith different arguments for max_features\n",
    "    #fit to the training data\n",
    "    rf_clf = ensemble.RandomForestClassifier(max_features=val)\n",
    "    rf_clf.fit(X_train, y_train)\n",
    "\n",
    "    print ( f'Full tree guess train/validation {val}',rf_clf.score(X_train, y_train),rf_clf.score(X_val, y_val))\n"
   ]
  },
  {
   "cell_type": "markdown",
   "metadata": {},
   "source": [
    "***Question***\n",
    "\n",
    "Which method performs best? Why might this be?\n",
    " \n",
    "*Answer*: They perform similarly(due to seed, if seed is removed, sqrt is better. It reduces correlated features)\n",
    "\n",
    "Rerun the cell above with different random seeds (but remember to set it back to `random_seed=1`). What happens? Why is this? \n",
    "\n",
    "*Answer*: However when seed is changed, their values differ slightly. This could be because: \n",
    "\n",
    "Random Selection of Features: In a Random Forest, each tree is trained on a random subset of features (especially when max_features is set to a value less than the total number of features). Changing the random seed changes the random subsets of features selected, which can lead to differences in how each tree in the forest makes decisions.\n",
    "\n",
    "Random Selection of Data Points: Random Forest uses bootstrapping (sampling with replacement) to create different training sets for each tree. A different random seed leads to a different bootstrapped dataset for each tree, thus varying the learning process and outcomes.\n",
    "\n",
    "Tree Initialization: The initialization of decision trees within the forest is also subject to randomness.\n",
    "***Double click on this cell to enter your answer***\n",
    "\n"
   ]
  },
  {
   "cell_type": "markdown",
   "metadata": {},
   "source": [
    "[Back to top](#Index:) \n",
    "\n",
    "<a id='part4'></a>\n",
    "\n",
    "## Part 4: Boosting\n",
    "\n",
    "For our boosting algorithm we will use scikit learn's AdaBoost. This boosting algorithm works by building an ensemble of weak classifiers (in our case decision trees) by sequentially weighting the incorrectly classified instances. \n",
    "\n"
   ]
  },
  {
   "cell_type": "markdown",
   "metadata": {},
   "source": [
    "Use the .AdaBoostClassifier() to build a boosting model and fit it to the training data."
   ]
  },
  {
   "cell_type": "code",
   "execution_count": 16,
   "metadata": {},
   "outputs": [
    {
     "data": {
      "text/html": [
       "<style>#sk-container-id-2 {color: black;}#sk-container-id-2 pre{padding: 0;}#sk-container-id-2 div.sk-toggleable {background-color: white;}#sk-container-id-2 label.sk-toggleable__label {cursor: pointer;display: block;width: 100%;margin-bottom: 0;padding: 0.3em;box-sizing: border-box;text-align: center;}#sk-container-id-2 label.sk-toggleable__label-arrow:before {content: \"▸\";float: left;margin-right: 0.25em;color: #696969;}#sk-container-id-2 label.sk-toggleable__label-arrow:hover:before {color: black;}#sk-container-id-2 div.sk-estimator:hover label.sk-toggleable__label-arrow:before {color: black;}#sk-container-id-2 div.sk-toggleable__content {max-height: 0;max-width: 0;overflow: hidden;text-align: left;background-color: #f0f8ff;}#sk-container-id-2 div.sk-toggleable__content pre {margin: 0.2em;color: black;border-radius: 0.25em;background-color: #f0f8ff;}#sk-container-id-2 input.sk-toggleable__control:checked~div.sk-toggleable__content {max-height: 200px;max-width: 100%;overflow: auto;}#sk-container-id-2 input.sk-toggleable__control:checked~label.sk-toggleable__label-arrow:before {content: \"▾\";}#sk-container-id-2 div.sk-estimator input.sk-toggleable__control:checked~label.sk-toggleable__label {background-color: #d4ebff;}#sk-container-id-2 div.sk-label input.sk-toggleable__control:checked~label.sk-toggleable__label {background-color: #d4ebff;}#sk-container-id-2 input.sk-hidden--visually {border: 0;clip: rect(1px 1px 1px 1px);clip: rect(1px, 1px, 1px, 1px);height: 1px;margin: -1px;overflow: hidden;padding: 0;position: absolute;width: 1px;}#sk-container-id-2 div.sk-estimator {font-family: monospace;background-color: #f0f8ff;border: 1px dotted black;border-radius: 0.25em;box-sizing: border-box;margin-bottom: 0.5em;}#sk-container-id-2 div.sk-estimator:hover {background-color: #d4ebff;}#sk-container-id-2 div.sk-parallel-item::after {content: \"\";width: 100%;border-bottom: 1px solid gray;flex-grow: 1;}#sk-container-id-2 div.sk-label:hover label.sk-toggleable__label {background-color: #d4ebff;}#sk-container-id-2 div.sk-serial::before {content: \"\";position: absolute;border-left: 1px solid gray;box-sizing: border-box;top: 0;bottom: 0;left: 50%;z-index: 0;}#sk-container-id-2 div.sk-serial {display: flex;flex-direction: column;align-items: center;background-color: white;padding-right: 0.2em;padding-left: 0.2em;position: relative;}#sk-container-id-2 div.sk-item {position: relative;z-index: 1;}#sk-container-id-2 div.sk-parallel {display: flex;align-items: stretch;justify-content: center;background-color: white;position: relative;}#sk-container-id-2 div.sk-item::before, #sk-container-id-2 div.sk-parallel-item::before {content: \"\";position: absolute;border-left: 1px solid gray;box-sizing: border-box;top: 0;bottom: 0;left: 50%;z-index: -1;}#sk-container-id-2 div.sk-parallel-item {display: flex;flex-direction: column;z-index: 1;position: relative;background-color: white;}#sk-container-id-2 div.sk-parallel-item:first-child::after {align-self: flex-end;width: 50%;}#sk-container-id-2 div.sk-parallel-item:last-child::after {align-self: flex-start;width: 50%;}#sk-container-id-2 div.sk-parallel-item:only-child::after {width: 0;}#sk-container-id-2 div.sk-dashed-wrapped {border: 1px dashed gray;margin: 0 0.4em 0.5em 0.4em;box-sizing: border-box;padding-bottom: 0.4em;background-color: white;}#sk-container-id-2 div.sk-label label {font-family: monospace;font-weight: bold;display: inline-block;line-height: 1.2em;}#sk-container-id-2 div.sk-label-container {text-align: center;}#sk-container-id-2 div.sk-container {/* jupyter's `normalize.less` sets `[hidden] { display: none; }` but bootstrap.min.css set `[hidden] { display: none !important; }` so we also need the `!important` here to be able to override the default hidden behavior on the sphinx rendered scikit-learn.org. See: https://github.com/scikit-learn/scikit-learn/issues/21755 */display: inline-block !important;position: relative;}#sk-container-id-2 div.sk-text-repr-fallback {display: none;}</style><div id=\"sk-container-id-2\" class=\"sk-top-container\"><div class=\"sk-text-repr-fallback\"><pre>AdaBoostClassifier()</pre><b>In a Jupyter environment, please rerun this cell to show the HTML representation or trust the notebook. <br />On GitHub, the HTML representation is unable to render, please try loading this page with nbviewer.org.</b></div><div class=\"sk-container\" hidden><div class=\"sk-item\"><div class=\"sk-estimator sk-toggleable\"><input class=\"sk-toggleable__control sk-hidden--visually\" id=\"sk-estimator-id-2\" type=\"checkbox\" checked><label for=\"sk-estimator-id-2\" class=\"sk-toggleable__label sk-toggleable__label-arrow\">AdaBoostClassifier</label><div class=\"sk-toggleable__content\"><pre>AdaBoostClassifier()</pre></div></div></div></div></div>"
      ],
      "text/plain": [
       "AdaBoostClassifier()"
      ]
     },
     "execution_count": 16,
     "metadata": {},
     "output_type": "execute_result"
    }
   ],
   "source": [
    "ab_clf = ensemble.AdaBoostClassifier()\n",
    "ab_clf.fit(X_train, y_train)"
   ]
  },
  {
   "cell_type": "code",
   "execution_count": 17,
   "metadata": {
    "scrolled": true
   },
   "outputs": [
    {
     "name": "stdout",
     "output_type": "stream",
     "text": [
      "Full tree guess train/validation  0.7785234899328859 0.6351351351351351\n"
     ]
    }
   ],
   "source": [
    "print ( 'Full tree guess train/validation ',ab_clf.score(X_train, y_train),ab_clf.score(X_val, y_val))"
   ]
  },
  {
   "cell_type": "markdown",
   "metadata": {},
   "source": [
    "[Back to top](#Index:) \n",
    "\n",
    "<a id='part5'></a>\n",
    "\n",
    "## Part 5: Model Selection"
   ]
  },
  {
   "cell_type": "markdown",
   "metadata": {},
   "source": [
    "***Question***\n",
    "\n",
    "Which model would you use for this dataset? Decision tree, Random Forest or Boosting? Why? \n",
    "\n",
    "Random forest, which has the best validation accuracy.\n",
    "***Double click on this cell to enter your answer***\n",
    "\n"
   ]
  },
  {
   "cell_type": "markdown",
   "metadata": {},
   "source": [
    "Retrain the best model with both the training and validation data and test it on the test data."
   ]
  },
  {
   "cell_type": "code",
   "execution_count": 18,
   "metadata": {},
   "outputs": [
    {
     "name": "stdout",
     "output_type": "stream",
     "text": [
      "Full tree guess train/validation  0.9775784753363229 0.7866666666666666\n"
     ]
    }
   ],
   "source": [
    "X_trainval = X[:trainsize + trainplusvalsize, :]\n",
    "y_trainval = y[:trainsize + trainplusvalsize]\n",
    "\n",
    "best_clf = ensemble.RandomForestClassifier()\n",
    "best_clf.fit(X_trainval, y_trainval)\n",
    "\n",
    "print ( 'Full tree guess train/validation ',best_clf.score(X_trainval, y_trainval),best_clf.score(X_test, y_test))"
   ]
  },
  {
   "cell_type": "markdown",
   "metadata": {},
   "source": [
    "[Back to top](#Index:) \n",
    "\n",
    "<a id='part6'></a>\n",
    "\n",
    "# Part 6: Feature Selection\n",
    "\n",
    "Feature selection can help us understand our model and the outputs it gives us, as well as remove any irrelevant predictors. In this section we will be looking at how to identify the most important features in a decision tree using two different methods:\n",
    "- Impurity metric approaches\n",
    "- Permutation Importances \n",
    "\n",
    "We will be looking at feature selection for your best model (`best_clf`)"
   ]
  },
  {
   "cell_type": "markdown",
   "metadata": {},
   "source": [
    "Use the `.feature_importances_` function to get the inbuilt impurity metric measure. Then use the `.argsort()` \n",
    "function to sort the resulting feature importances. \n",
    "\n"
   ]
  },
  {
   "cell_type": "code",
   "execution_count": 19,
   "metadata": {},
   "outputs": [
    {
     "name": "stdout",
     "output_type": "stream",
     "text": [
      "<class 'numpy.ndarray'>\n"
     ]
    }
   ],
   "source": [
    "feature_importances = best_clf.feature_importances_\n",
    "sorted_idx = feature_importances.argsort()\n",
    "print(type(feature_importances))"
   ]
  },
  {
   "cell_type": "markdown",
   "metadata": {},
   "source": [
    "Get the feature names from the dataframe columns `.columns`. Remember to remove the last column from the list as this is the output column."
   ]
  },
  {
   "cell_type": "code",
   "execution_count": 20,
   "metadata": {},
   "outputs": [],
   "source": [
    "feature_names = df.columns.to_list()\n",
    "feature_names.remove('CLASS')\n",
    "feature_names = np.array(feature_names)"
   ]
  },
  {
   "cell_type": "markdown",
   "metadata": {},
   "source": [
    "Use the function below to plot the importances."
   ]
  },
  {
   "cell_type": "code",
   "execution_count": 21,
   "metadata": {},
   "outputs": [],
   "source": [
    "def plot_impurity_metric_features( feature_importances, sorted_idx, feature_names):\n",
    "    y_ticks = np.arange(0, len(feature_names))\n",
    "    fig, ax = plt.subplots(figsize=(10, 10))\n",
    "    ax.barh(y_ticks, feature_importances[sorted_idx])\n",
    "    ax.set_yticks(y_ticks)\n",
    "    ax.set_yticklabels(feature_names[sorted_idx])\n",
    "    ax.set_title(\"Random Forest Feature Importances\")\n",
    "    fig.tight_layout()\n",
    "    plt.show()\n",
    "\n"
   ]
  },
  {
   "cell_type": "code",
   "execution_count": 22,
   "metadata": {
    "scrolled": false
   },
   "outputs": [
    {
     "data": {
      "image/png": "[encoded data removed]",
      "text/plain": [
       "<Figure size 720x720 with 1 Axes>"
      ]
     },
     "metadata": {
      "needs_background": "light"
     },
     "output_type": "display_data"
    }
   ],
   "source": [
    "# plot the impurity metric feature importances \n",
    "\n",
    "plot_impurity_metric_features(feature_importances, sorted_idx, feature_names)"
   ]
  },
  {
   "cell_type": "markdown",
   "metadata": {},
   "source": [
    "***Question***\n",
    "\n",
    "What are the 3 most important features? \n",
    "\n",
    "Answer: Age, T_T3 and T_T2\n",
    "\n",
    "***Double click on this cell to enter your answer***\n"
   ]
  },
  {
   "cell_type": "markdown",
   "metadata": {},
   "source": [
    "One of the downsides of the inbuilt impurity metric is that it can only be applied to training data. This doesn't give us any indication of which features will be the most important on unseen data. \n",
    "\n",
    "Instead, we can use the permutation importance to measure the feature importances on both the training and validation sets. "
   ]
  },
  {
   "cell_type": "markdown",
   "metadata": {},
   "source": [
    "Complete the `permutation_importance` function to calculate the importance of the diffierent features in the training dataset. Then use the `argsort()` to sort the features in order of importance again."
   ]
  },
  {
   "cell_type": "code",
   "execution_count": 23,
   "metadata": {},
   "outputs": [
    {
     "name": "stdout",
     "output_type": "stream",
     "text": [
      "[21 18 27 26  5 15 28 20 11 12 24 23  6 19 10 25 16 14  1  2  9  8 29 13\n",
      "  7  3 22  4  0 17]\n"
     ]
    }
   ],
   "source": [
    "# permutation method on both training and test\n",
    " \n",
    "result = permutation_importance(estimator=best_clf, X=X_train, y=y_train, n_repeats=10, n_jobs=2)\n",
    "\n",
    "sorted_idx = result.importances_mean.argsort()\n",
    "print(sorted_idx)"
   ]
  },
  {
   "cell_type": "markdown",
   "metadata": {},
   "source": [
    "Use the function below to plot the permutation importances."
   ]
  },
  {
   "cell_type": "code",
   "execution_count": 24,
   "metadata": {
    "scrolled": false
   },
   "outputs": [
    {
     "data": {
      "image/png": "[encoded data removed]",
      "text/plain": [
       "<Figure size 720x720 with 1 Axes>"
      ]
     },
     "metadata": {
      "needs_background": "light"
     },
     "output_type": "display_data"
    }
   ],
   "source": [
    "\n",
    "def plot_perm_importance(result, sorted_idx, feature_names):\n",
    "\n",
    "    fig, ax = plt.subplots(figsize=(10, 10))\n",
    "    ax.boxplot(\n",
    "        result.importances[sorted_idx].T, vert=False, labels=feature_names[sorted_idx]\n",
    "    )\n",
    "    ax.set_title(\"Permutation Importances (train set)\")\n",
    "    fig.tight_layout()\n",
    "    plt.show()\n",
    "    \n",
    "plot_perm_importance(result, sorted_idx, feature_names)\n"
   ]
  },
  {
   "cell_type": "markdown",
   "metadata": {},
   "source": [
    "What do you notice about the difference between the two methods of doing feature selection? Why do you think this is?\n",
    "\n",
    "***Double click on this cell to enter your answer***\n",
    "\n",
    "Some features are left out. This could be due to:\n",
    "\n",
    "Bias Towards Features with More Categories: Intrinsic feature importances can be biased towards numerical or high-cardinality categorical features, while permutation importance does not have this bias.\n",
    "\n",
    "Handling of Correlated Features: Permutation importance can better account for correlations between features. If one of two correlated features is permuted, the model can still use the other, which may not significantly impact performance. In contrast, intrinsic importance might overestimate the importance of each correlated feature.\n",
    "\n",
    "Model Dependency: Intrinsic importances are specific to the model (in this case, Random Forest), whereas permutation importance is model-agnostic and more closely related to the model's predictive ability on the specific dataset."
   ]
  },
  {
   "cell_type": "markdown",
   "metadata": {},
   "source": [
    "Now calculate the permutation importance on the test set. "
   ]
  },
  {
   "cell_type": "code",
   "execution_count": 25,
   "metadata": {},
   "outputs": [
    {
     "data": {
      "image/png": "[encoded data removed]",
      "text/plain": [
       "<Figure size 720x720 with 1 Axes>"
      ]
     },
     "metadata": {
      "needs_background": "light"
     },
     "output_type": "display_data"
    }
   ],
   "source": [
    "result = permutation_importance(estimator=best_clf , X=X_test , y=y_test , n_repeats=10, n_jobs=2\n",
    ")\n",
    "sorted_idx = result.importances_mean.argsort()\n",
    "\n",
    "plot_perm_importance(result, sorted_idx, feature_names)"
   ]
  },
  {
   "cell_type": "markdown",
   "metadata": {},
   "source": [
    "What do you see in the test data?\n",
    "\n",
    "Why do some of the importances go negative?\n",
    "\n",
    "***Double click on this cell to enter your answer***\n",
    "The test data also differs in top 3 but T_T3 remains constant. \n",
    "\n",
    "Random Variations in Performance: Permutation importance is based on the change in model performance (like accuracy or mean squared error) after a feature's values have been randomly shuffled. If the model's performance happens to be slightly better on the shuffled data by random chance, the calculated importance can be negative. This is more likely to occur with small datasets or with models that are not very stable.\n",
    "\n",
    "Model Overfitting: If the model is overfitting the data, it may have learned to rely on specific patterns or noise within the training data. When a feature is permuted, and the model performance unexpectedly improves, it could indicate that the model was using that feature to fit noise rather than meaningful signal. In this case, the negative importance suggests that the feature might be contributing to overfitting.\n",
    "\n",
    "Noisy or Non-Informative Features: Sometimes, a feature might not actually have any meaningful relationship with the target variable (it's essentially noise). Permuting such a feature could lead to random fluctuations in model performance, which may sometimes appear as a slight improvement, resulting in negative importance.\n",
    "(3 marks)"
   ]
  }
 ],
 "metadata": {
  "kernelspec": {
   "display_name": "Python 3",
   "language": "python",
   "name": "python3"
  },
  "language_info": {
   "codemirror_mode": {
    "name": "ipython",
    "version": 3
   },
   "file_extension": ".py",
   "mimetype": "text/x-python",
   "name": "python",
   "nbconvert_exporter": "python",
   "pygments_lexer": "ipython3",
   "version": "3.8.2"
  }
 },
 "nbformat": 4,
 "nbformat_minor": 5
}
